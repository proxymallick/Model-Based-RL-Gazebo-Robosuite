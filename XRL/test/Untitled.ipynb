{
 "cells": [
  {
   "cell_type": "code",
   "execution_count": 2,
   "id": "aed91fc7",
   "metadata": {},
   "outputs": [
    {
     "name": "stdout",
     "output_type": "stream",
     "text": [
      "epoch :[======================================= ]99%\t59394/60000\ta = 603.930000"
     ]
    }
   ],
   "source": [
    "import math\n",
    "import sys\n",
    "class view_bar:\n",
    "    def __init__(self, message, num, total, value_name, value_data):\n",
    "        self.message = message\n",
    "        self.num = num\n",
    "        self.total = total\n",
    "        rate = self.num  / self.total\n",
    "        rate_num = int(rate * 40)\n",
    "        rate_nums = math.ceil(rate * 100)\n",
    "        r = '\\r%s:[%s%s]%d%%\\t%d/%d\\t%s%f' % (self.message, \"=\" * rate_num,\n",
    "                                        \" \" * (40 - rate_num), rate_nums, self.num , self.total, value_name, value_data)\n",
    "\n",
    "        sys.stdout.write(r)\n",
    "        sys.stdout.flush()\n",
    "\n",
    "a =10\n",
    "for i in range(60000):\n",
    "    view_bar(\"epoch \", i+1, 60000, 'a = ', float(a))\n",
    "    a += 0.01"
   ]
  },
  {
   "cell_type": "code",
   "execution_count": null,
   "id": "e5ad176f",
   "metadata": {},
   "outputs": [],
   "source": []
  }
 ],
 "metadata": {
  "kernelspec": {
   "display_name": "Python 3 (ipykernel)",
   "language": "python",
   "name": "python3"
  },
  "language_info": {
   "codemirror_mode": {
    "name": "ipython",
    "version": 3
   },
   "file_extension": ".py",
   "mimetype": "text/x-python",
   "name": "python",
   "nbconvert_exporter": "python",
   "pygments_lexer": "ipython3",
   "version": "3.8.12"
  }
 },
 "nbformat": 4,
 "nbformat_minor": 5
}
