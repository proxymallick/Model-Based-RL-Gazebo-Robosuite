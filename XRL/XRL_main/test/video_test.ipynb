{
 "cells": [
  {
   "cell_type": "code",
   "execution_count": 2,
   "metadata": {},
   "outputs": [],
   "source": [
    "from typing import Dict, List, Optional, Tuple\n",
    "import gym\n",
    "from PIL import Image\n",
    "\n",
    "\n",
    "# display = Display(visible=1, size=(400, 300))\n",
    "\n",
    "class video_rec:\n",
    "    def __init__ (self, video_loc=True):\n",
    "        self.video_loc = video_loc\n",
    "        if self.video_loc:\n",
    "            from pyvirtualdisplay import Display\n",
    "            Display().start()\n",
    "            \n",
    "\n",
    "\n",
    "    def render_episode(env: gym.Env, action_step): \n",
    "        screen = env.render(mode='rgb_array')\n",
    "        im = Image.fromarray(screen)\n",
    "        images = [im]\n",
    "        s_next = env.reset()\n",
    "\n",
    "        for i in range(1000):\n",
    "\n",
    "            s_next, reward, done, _ = env.step(action_step)\n",
    "\n",
    "            screen = env.render(mode='rgb_array')\n",
    "            images.append(Image.fromarray(screen))\n",
    "\n",
    "            if done:\n",
    "                break\n",
    "\n",
    "        return images\n",
    "\n",
    "\n",
    "\n",
    "\n",
    "if __name__ =='__main__':\n",
    "  video_loc = True\n",
    "  env = gym.make(\"Hopper-v2\")\n",
    "  env.reset()\n",
    "\n",
    "\n",
    "  # Save GIF image\n",
    "  images = video_rec.render_episode(env, video_loc)\n",
    "  image_file = 'cartpole-v0_py.gif'\n",
    "  # loop=0: loop forever, duration=1: play each frame for 1ms\n",
    "  images[0].save(\n",
    "      image_file, save_all=True, append_images=images[1:], loop=0, duration=1)"
   ]
  },
  {
   "cell_type": "code",
   "execution_count": null,
   "metadata": {},
   "outputs": [],
   "source": []
  }
 ],
 "metadata": {
  "interpreter": {
   "hash": "1a48a149bc7a8dee0435672efcae6f64e48d62311a35302b209b3ac517d7f9c6"
  },
  "kernelspec": {
   "display_name": "Python 3.8.12 64-bit ('cosmic_rays_x_py38_env': conda)",
   "language": "python",
   "name": "python3"
  },
  "language_info": {
   "codemirror_mode": {
    "name": "ipython",
    "version": 3
   },
   "file_extension": ".py",
   "mimetype": "text/x-python",
   "name": "python",
   "nbconvert_exporter": "python",
   "pygments_lexer": "ipython3",
   "version": "3.8.12"
  },
  "orig_nbformat": 4
 },
 "nbformat": 4,
 "nbformat_minor": 2
}
