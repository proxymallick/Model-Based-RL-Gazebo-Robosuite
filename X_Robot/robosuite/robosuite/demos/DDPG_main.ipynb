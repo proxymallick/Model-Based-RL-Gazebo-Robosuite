{
 "cells": [
  {
   "cell_type": "code",
   "execution_count": 1,
   "metadata": {},
   "outputs": [],
   "source": [
    "import scipy.signal\n",
    "import sys\n",
    "import torch\n",
    "import torch.nn as nn\n",
    "import numpy as np"
   ]
  },
  {
   "cell_type": "code",
   "execution_count": 2,
   "metadata": {},
   "outputs": [],
   "source": [
    "from typing import Dict, List, Optional, Tuple\n",
    "import gym\n",
    "from PIL import Image\n",
    "# from pyvirtualdisplay import Display\n",
    "# Display().start()\n",
    "from datetime import datetime\n",
    "from tqdm import tqdm"
   ]
  },
  {
   "cell_type": "code",
   "execution_count": 3,
   "metadata": {},
   "outputs": [],
   "source": [
    "import math\n",
    "import random\n",
    "from copy import deepcopy\n",
    "import torch\n",
    "from torch.optim import Adam\n",
    "from torch.optim import RMSprop\n",
    "import gym\n",
    "import time\n",
    "from collections import namedtuple, deque\n",
    "import neptune.new as neptune"
   ]
  },
  {
   "cell_type": "code",
   "execution_count": 4,
   "metadata": {},
   "outputs": [],
   "source": [
    "import robosuite as suite\n",
    "from robosuite.controllers import load_controller_config\n",
    "from robosuite.controllers.controller_factory import reset_controllers\n",
    "from robosuite.utils import observables\n",
    "from robosuite.utils.input_utils import *\n",
    "from robosuite.robots import Bimanual\n",
    "import imageio\n",
    "import numpy as np\n",
    "import robosuite.utils.macros as macros\n",
    "macros.IMAGE_CONVENTION = \"opencv\""
   ]
  },
  {
   "cell_type": "code",
   "execution_count": 5,
   "metadata": {},
   "outputs": [
    {
     "name": "stdout",
     "output_type": "stream",
     "text": [
      "https://app.neptune.ai/xhnfirst/DDPG-robosuite/e/DDPGROB-214\n",
      "Remember to stop your run once you’ve finished logging your metadata (https://docs.neptune.ai/api-reference/run#.stop). It will be stopped automatically only when the notebook kernel/interactive console is terminated.\n"
     ]
    }
   ],
   "source": [
    "nep_log = neptune.init(\n",
    "    project=\"xhnfirst/DDPG-robosuite\",\n",
    "    api_token=\"eyJhcGlfYWRkcmVzcyI6Imh0dHBzOi8vYXBwLm5lcHR1bmUuYWkiLCJhcGlfdXJsIjoiaHR0cHM6Ly9hcHAubmVwdHVuZS5haSIsImFwaV9rZXkiOiI1NTg5MDI2OS01MTVmLTQ2YjUtODA1Yy02ZWQyNDgxZDcwN2UifQ==\",\n",
    ")"
   ]
  },
  {
   "cell_type": "code",
   "execution_count": 6,
   "metadata": {},
   "outputs": [
    {
     "name": "stdout",
     "output_type": "stream",
     "text": [
      "device =  cuda\n"
     ]
    }
   ],
   "source": [
    "options = {\n",
    "    'env_name': 'EElab_test4',\n",
    "    \"robots\": \"UR5e\"\n",
    "}\n",
    "controller_name = \"JOINT_VELOCITY\"\n",
    "options[\"controller_configs\"] = suite.load_controller_config(default_controller=controller_name)\n",
    "\n",
    "env = suite.make(\n",
    "    **options,\n",
    "    has_renderer=False,\n",
    "    has_offscreen_renderer=True,\n",
    "    ignore_done=True,\n",
    "    use_camera_obs=False,\n",
    "    gripper_types=None,\n",
    "    renderer = 'mujoco',\n",
    "\n",
    ")\n",
    "\n",
    "test_env = suite.make(\n",
    "    **options,\n",
    "    has_renderer=False,\n",
    "    has_offscreen_renderer=False,\n",
    "    ignore_done=True,\n",
    "    use_camera_obs=False,\n",
    "    gripper_types=None,\n",
    "    renderer = 'mujoco',\n",
    ")\n",
    "\n",
    "\n",
    "video_env = suite.make(\n",
    "    **options,\n",
    "    gripper_types=None,\n",
    "    has_renderer=False,\n",
    "    has_offscreen_renderer=True,\n",
    "    ignore_done=True,\n",
    "    use_camera_obs=True,\n",
    "    use_object_obs=True, \n",
    "    camera_names='Labviewer',\n",
    "    camera_heights=512,\n",
    "    camera_widths=512,\n",
    "    # control_freq=200,\n",
    "    renderer = 'mujoco',\n",
    ")\n",
    "\n",
    "frame = []\n",
    "device= torch.device(\"cuda\" if torch.cuda.is_available() else \"cpu\")\n",
    "print('device = ', device)"
   ]
  },
  {
   "cell_type": "code",
   "execution_count": 7,
   "metadata": {},
   "outputs": [],
   "source": [
    "def mlp(sizes, activation, output_activation=nn.Identity):\n",
    "    layers = []\n",
    "    for j in range(len(sizes)-1):\n",
    "        act = activation if j < len(sizes)-2 else output_activation\n",
    "        layers += [nn.Linear(sizes[j], sizes[j+1]), act()]\n",
    "    return nn.Sequential(*layers)\n",
    "\n",
    "\n",
    "class MLPActor(nn.Module):\n",
    "\n",
    "    def __init__(self, obs_dim, act_dim, hidden_sizes, activation, act_limit):\n",
    "        super().__init__()\n",
    "        pi_sizes = [obs_dim] + list(hidden_sizes) + [act_dim]\n",
    "        self.pi = mlp(pi_sizes, activation, nn.Tanh)\n",
    "        self.act_limit = act_limit\n",
    "\n",
    "    def forward(self, obs):\n",
    "        # Return output from network scaled to action space limits.\n",
    "        return self.act_limit * self.pi(obs)\n",
    "\n",
    "class MLPQFunction(nn.Module):\n",
    "\n",
    "    def __init__(self, obs_dim, act_dim, hidden_sizes, activation):\n",
    "        super().__init__()\n",
    "        self.q = mlp([obs_dim + act_dim] + list(hidden_sizes) + [1], activation)\n",
    "\n",
    "    def forward(self, obs, act):\n",
    "        q = self.q(torch.cat([obs, act], dim=-1))\n",
    "        return torch.squeeze(q, -1) # Critical to ensure q has right shape.\n",
    "\n",
    "class MLPActorCritic(nn.Module):\n",
    "\n",
    "    def __init__(self, hidden_sizes=(256,256),\n",
    "                 activation=nn.ReLU, device=torch.device(\"cuda\" if torch.cuda.is_available() else \"cpu\")):\n",
    "        super().__init__()\n",
    "\n",
    "        obs_dim = 35\n",
    "        act_dim = 6\n",
    "        act_limit = 1\n",
    "\n",
    "        # build policy and value functions\n",
    "        self.pi = MLPActor(obs_dim, act_dim, hidden_sizes, activation, act_limit).to(device)\n",
    "        self.q = MLPQFunction(obs_dim, act_dim, hidden_sizes, activation).to(device)\n",
    "\n",
    "    def act(self, obs):\n",
    "        with torch.no_grad():\n",
    "            return self.pi(obs)"
   ]
  },
  {
   "cell_type": "code",
   "execution_count": 8,
   "metadata": {},
   "outputs": [],
   "source": [
    "Transition = namedtuple('Transition',\n",
    "                        ('obs', 'act', 'rew', 'next_obs', 'done'))\n",
    "\n",
    "class ReplayMemory(object):\n",
    "\n",
    "    def __init__(self, capacity):\n",
    "        self.memory = deque([],maxlen=capacity)\n",
    "\n",
    "    def push(self, *args):\n",
    "        \"\"\"Save a transition\"\"\"\n",
    "        self.memory.append(Transition(*args))\n",
    "\n",
    "    def sample(self, batch_size):\n",
    "        return random.sample(self.memory, batch_size)\n",
    "\n",
    "    def __len__(self):\n",
    "        return len(self.memory)"
   ]
  },
  {
   "cell_type": "code",
   "execution_count": 9,
   "metadata": {},
   "outputs": [],
   "source": [
    "\n",
    "params = {\n",
    "    \"dropout\": 0.2,\n",
    "    \"learning_rate\": 0.001,\n",
    "    \"optimizer\": \"Adam\",\n",
    "    \"hid\": 256,\n",
    "    \"l\": 3,\n",
    "    \"seed\": 0,\n",
    "    \"steps_per_epoch\": 3000,\n",
    "    \"steps_video\": 30000,\n",
    "    \"epochs\": 1000,\n",
    "    \"replay_size\": int(1e8),\n",
    "    \"gamma\": 0.99,\n",
    "    \"polyak\": 0.995,\n",
    "    \"pi_lr\": 1e-4,\n",
    "    \"q_lr\": 1e-4,\n",
    "    \"batch_size\": 1000,\n",
    "    \"start_steps\": 10000, \n",
    "    \"update_after\": 5000,\n",
    "    \"update_every\": 100,\n",
    "    \"act_noise\": 0.01,\n",
    "    \"num_test_episodes\": 5,\n",
    "    \"max_ep_len\": 1000,\n",
    "    \"max_video_len\": 1000,\n",
    "    \"save_model_len\": 10000,\n",
    "    # \"obs_dim\": 47,\n",
    "    # \"act_dim\": 7,\n",
    "    # \"act_limit\": 1\n",
    "}\n",
    "\n",
    "ac_kwargs=dict(hidden_sizes=[params[\"hid\"]]*params[\"l\"])"
   ]
  },
  {
   "cell_type": "code",
   "execution_count": 10,
   "metadata": {},
   "outputs": [
    {
     "name": "stdout",
     "output_type": "stream",
     "text": [
      "obs_dim =  35\n",
      "act_dim =  6\n",
      "act_limit =  1\n"
     ]
    }
   ],
   "source": [
    "nep_log[\"parameters\"] = params\n",
    "\n",
    "torch.manual_seed(params[\"seed\"])\n",
    "np.random.seed(params[\"seed\"])\n",
    "\n",
    "obs_dim = 35\n",
    "print('obs_dim = ', obs_dim)\n",
    "act_dim = 6\n",
    "print('act_dim = ', act_dim)\n",
    "# Action limit for clamping: critically, assumes all dimensions share the same bound!\n",
    "act_limit = 1\n",
    "print('act_limit = ', act_limit)\n",
    "# Create actor-critic module and target networks\n",
    "ac = MLPActorCritic(**ac_kwargs)\n",
    "ac_targ = deepcopy(ac)\n",
    "\n",
    "# Freeze target networks with respect to optimizers (only update via polyak averaging)\n",
    "for p in ac_targ.parameters():\n",
    "    p.requires_grad = False\n",
    "\n",
    "memory = ReplayMemory(params[\"replay_size\"])"
   ]
  },
  {
   "cell_type": "code",
   "execution_count": 11,
   "metadata": {},
   "outputs": [],
   "source": [
    "# Set up function for computing DDPG Q-loss\n",
    "def compute_loss_q(data):\n",
    "\n",
    "    o = torch.cat(data.obs).float()\n",
    "    a = torch.cat(data.act).float()\n",
    "    r = torch.cat(data.rew).float()\n",
    "    o2 =torch.cat(data.next_obs).float()\n",
    "    d = torch.cat(data.done).float()\n",
    "\n",
    "    q = ac.q(o,a)\n",
    "\n",
    "\n",
    "    # Bellman backup for Q function\n",
    "    with torch.no_grad():\n",
    "        q_pi_targ = ac_targ.q(o2, ac_targ.pi(o2))\n",
    "        backup = r + params[\"gamma\"] * (1 - d) * q_pi_targ\n",
    "\n",
    "    # MSE loss against Bellman backup\n",
    "    loss_q = ((q - backup)**2).mean()\n",
    "\n",
    "    return loss_q\n",
    "\n",
    "# Set up function for computing DDPG pi loss\n",
    "def compute_loss_pi(data):\n",
    "\n",
    "    o = torch.cat(data.obs).float()\n",
    "\n",
    "    q_pi = ac.q(o, ac.pi(o))\n",
    "\n",
    "    return -q_pi.mean()\n"
   ]
  },
  {
   "cell_type": "code",
   "execution_count": 12,
   "metadata": {},
   "outputs": [],
   "source": [
    "pi_optimizer = RMSprop(ac.pi.parameters(), lr=params[\"pi_lr\"])\n",
    "q_optimizer = RMSprop(ac.q.parameters(), lr=params[\"q_lr\"])\n",
    "\n",
    "def update(data):\n",
    "    # First run one gradient descent step for Q.\n",
    "\n",
    "\n",
    "    q_optimizer.zero_grad()\n",
    "    loss_q = compute_loss_q(data)\n",
    "\n",
    "    loss_q.backward()\n",
    "\n",
    "    q_optimizer.step()\n",
    "\n",
    "\n",
    "    # Freeze Q-network so you don't waste computational effort \n",
    "    # computing gradients for it during the policy learning step.\n",
    "    for p in ac.q.parameters():\n",
    "        p.requires_grad = False\n",
    "\n",
    "    # Next run one gradient descent step for pi.\n",
    "    pi_optimizer.zero_grad()\n",
    "    loss_pi = compute_loss_pi(data)\n",
    "    loss_pi.backward()\n",
    "    pi_optimizer.step()\n",
    "\n",
    "    # Unfreeze Q-network so you can optimize it at next DDPG step.\n",
    "    for p in ac.q.parameters():\n",
    "        p.requires_grad = True\n",
    "\n",
    "\n",
    "\n",
    "    # Finally, update target networks by polyak averaging.\n",
    "    with torch.no_grad():\n",
    "        for p, p_targ in zip(ac.parameters(), ac_targ.parameters()):\n",
    "            # NB: We use an in-place operations \"mul_\", \"add_\" to update target\n",
    "            # params, as opposed to \"mul\" and \"add\", which would make new tensors.\n",
    "            p_targ.data.mul_(params[\"polyak\"])\n",
    "            p_targ.data.add_((1 - params[\"polyak\"]) * p.data)\n"
   ]
  },
  {
   "cell_type": "code",
   "execution_count": 13,
   "metadata": {},
   "outputs": [],
   "source": [
    "\n",
    "\n",
    "\n",
    "def get_action(o, noise_scale):\n",
    "    a = ac.act(torch.as_tensor(o, dtype=torch.float32))\n",
    "    a += noise_scale * torch.randn(act_dim).to(device)\n",
    "    return torch.clip(a, -act_limit, act_limit)\n",
    "\n",
    "def test_agent(epoch):\n",
    "    test_main = 0\n",
    "    test_step = 0\n",
    "    for j in range(params[\"num_test_episodes\"]):\n",
    "        obs, d, test_ep_ret, test_ep_len = test_env.reset(), False, 0, 0\n",
    "        o = list(obs['robot0_proprio-state']) + list(obs['object-state'])\n",
    "        o = torch.tensor([o], dtype=torch.float32, device=device)\n",
    "        while not(d or (test_ep_len == params[\"max_ep_len\"])):\n",
    "            a_cpu = get_action(o, 0).cpu().data.numpy()\n",
    "            obs, r, d, _ = test_env.step(a_cpu[0])\n",
    "            o = list(obs['robot0_proprio-state']) + list(obs['object-state'])\n",
    "            o = torch.tensor([o], dtype=torch.float32, device=device)\n",
    "            test_ep_ret += r\n",
    "            test_ep_len += 1\n",
    "        test_ep_main = test_ep_ret/test_ep_len\n",
    "        test_step +=1\n",
    "        test_main += test_ep_main\n",
    "    print('test_rew_main = ', float(test_main/test_step))\n",
    "    nep_log[\"test/reward\"].log(test_main/test_step)\n",
    "    \n",
    "def video_agent(epoch):\n",
    "    obs, d, test_ep_len = video_env.reset(), False, 0\n",
    "    o = list(obs['robot0_proprio-state']) + list(obs['object-state'])\n",
    "    o = torch.tensor([o], dtype=torch.float32, device=device)\n",
    "    now = datetime.now()\n",
    "    current_time = str(now.isoformat())\n",
    "    writer = imageio.get_writer(\n",
    "        \"/home/xhnfly/Cosmic_rays_X/X_Robot/robosuite/robosuite/demos/video/DDPG_UR5_%s_ep_%d.mp4\" % (current_time, epoch), fps=100)\n",
    "    frame = obs[\"Labviewer_image\"]\n",
    "    writer.append_data(frame)\n",
    "\n",
    "    while not(d or (test_ep_len == params[\"max_video_len\"])):\n",
    "        a_cpu = get_action(o, 0).cpu().data.numpy()\n",
    "        obs, _, d, _ = video_env.step(a_cpu[0])\n",
    "        o = list(obs['robot0_proprio-state']) + list(obs['object-state'])\n",
    "        o = torch.tensor([o], dtype=torch.float32, device=device)\n",
    "        frame = obs[\"Labviewer_image\"]\n",
    "        writer.append_data(frame)\n",
    "        test_ep_len += 1\n",
    "    writer.close()\n",
    "    nep_log['video'] = neptune.types.File('/home/xhnfly/Cosmic_rays_X/X_Robot/robosuite/robosuite/demos/video/DDPG_UR5_%s_ep_%d.mp4' % (current_time, epoch))\n",
    "\n",
    "\n",
    "\n"
   ]
  },
  {
   "cell_type": "code",
   "execution_count": 14,
   "metadata": {},
   "outputs": [],
   "source": [
    "# obs = {\n",
    "#     'robot0_joint_pos_cos': None,\n",
    "#     'robot0_joint_pos_sin': None,\n",
    "#     'robot0_joint_vel': None,\n",
    "#     'robot0_eef_pos': None,\n",
    "#     'robot0_eef_quat': None,\n",
    "#     'robot0_gripper_qpos': None,\n",
    "#     'robot0_gripper_qvel': None,\n",
    "#     'cubeA_pos': None,\n",
    "#     'cubeA_quat': None,\n",
    "#     'cubeB_pos': None,\n",
    "#     'cubeB_quat': None,\n",
    "#     'gripper_to_cubeA': None,\n",
    "#     'gripper_to_cubeB': None,\n",
    "#     'cubeA_to_cubeB': None,\n",
    "# }\n",
    "\n",
    "obs, ep_ret, ep_len = env.reset(), 0, 0\n",
    "\n",
    "o = list(obs['robot0_proprio-state']) + list(obs['object-state'])\n",
    "\n",
    "# env.viewer.set_camera(camera_id=0)\n",
    "\n",
    "\n",
    "# Define neutral value\n",
    "neutral = np.zeros(7)\n",
    "\n",
    "# Keep track of done variable to know when to break loop\n",
    "\n",
    "# Prepare for interaction with environment\n",
    "total_steps = params[\"steps_per_epoch\"] * params[\"epochs\"]\n",
    "start_time = time.time()\n",
    "\n",
    "o = torch.tensor([o], device=device)\n",
    "\n",
    "\n",
    "start_time_rec = datetime.now()\n",
    "r_true = 0\n",
    "total_main = 0\n",
    "ep_rew_main = 0\n",
    "reward_dict={}"
   ]
  },
  {
   "cell_type": "code",
   "execution_count": 15,
   "metadata": {},
   "outputs": [
    {
     "name": "stderr",
     "output_type": "stream",
     "text": [
      "  0%|          | 0/3000000 [00:00<?, ?it/s]/tmp/ipykernel_27851/2291600410.py:12: UserWarning: Creating a tensor from a list of numpy.ndarrays is extremely slow. Please consider converting the list to a single numpy.ndarray with numpy.array() before converting to a tensor. (Triggered internally at  /opt/conda/conda-bld/pytorch_1639180588308/work/torch/csrc/utils/tensor_new.cpp:201.)\n",
      "  a = torch.tensor([np.random.uniform(low, high)], dtype=torch.float32, device=device)\n",
      "  0%|          | 2984/3000000 [00:25<6:41:51, 124.30it/s]"
     ]
    },
    {
     "name": "stdout",
     "output_type": "stream",
     "text": [
      "ep_rew_main =  [1.0374437e-06]\n"
     ]
    },
    {
     "name": "stderr",
     "output_type": "stream",
     "text": [
      "  0%|          | 3018/3000000 [00:44<210:26:22,  3.96it/s]"
     ]
    },
    {
     "name": "stdout",
     "output_type": "stream",
     "text": [
      "test_rew_main =  1.136665979579532e-06\n"
     ]
    },
    {
     "name": "stderr",
     "output_type": "stream",
     "text": [
      "  0%|          | 5992/3000000 [01:20<8:46:23, 94.80it/s]  "
     ]
    },
    {
     "name": "stdout",
     "output_type": "stream",
     "text": [
      "ep_rew_main =  [-0.00207336]\n"
     ]
    },
    {
     "name": "stderr",
     "output_type": "stream",
     "text": [
      "  0%|          | 6000/3000000 [01:41<364:16:08,  2.28it/s]"
     ]
    },
    {
     "name": "stdout",
     "output_type": "stream",
     "text": [
      "test_rew_main =  6.543152033114508e-06\n"
     ]
    },
    {
     "name": "stderr",
     "output_type": "stream",
     "text": [
      "  0%|          | 8997/3000000 [02:48<8:31:01, 97.55it/s]  "
     ]
    },
    {
     "name": "stdout",
     "output_type": "stream",
     "text": [
      "ep_rew_main =  [-0.00618795]\n"
     ]
    },
    {
     "name": "stderr",
     "output_type": "stream",
     "text": [
      "  0%|          | 9000/3000000 [03:09<386:10:04,  2.15it/s]"
     ]
    },
    {
     "name": "stdout",
     "output_type": "stream",
     "text": [
      "test_rew_main =  6.325714723931707e-06\n"
     ]
    },
    {
     "name": "stderr",
     "output_type": "stream",
     "text": [
      "  0%|          | 11992/3000000 [04:18<9:20:25, 88.86it/s] "
     ]
    },
    {
     "name": "stdout",
     "output_type": "stream",
     "text": [
      "ep_rew_main =  [2.8740096e-06]\n"
     ]
    },
    {
     "name": "stderr",
     "output_type": "stream",
     "text": [
      "  0%|          | 12000/3000000 [04:40<440:57:22,  1.88it/s]"
     ]
    },
    {
     "name": "stdout",
     "output_type": "stream",
     "text": [
      "test_rew_main =  2.533861136876592e-07\n"
     ]
    },
    {
     "name": "stderr",
     "output_type": "stream",
     "text": [
      "  0%|          | 14998/3000000 [05:53<9:56:32, 83.40it/s]  "
     ]
    },
    {
     "name": "stdout",
     "output_type": "stream",
     "text": [
      "ep_rew_main =  [3.3235515e-06]\n"
     ]
    },
    {
     "name": "stderr",
     "output_type": "stream",
     "text": [
      "  0%|          | 15000/3000000 [06:18<590:06:04,  1.41it/s]"
     ]
    },
    {
     "name": "stdout",
     "output_type": "stream",
     "text": [
      "test_rew_main =  1.4341476798005014e-06\n"
     ]
    },
    {
     "name": "stderr",
     "output_type": "stream",
     "text": [
      "  1%|          | 17989/3000000 [07:30<10:02:16, 82.52it/s] "
     ]
    },
    {
     "name": "stdout",
     "output_type": "stream",
     "text": [
      "ep_rew_main =  [6.951682e-07]\n"
     ]
    },
    {
     "name": "stderr",
     "output_type": "stream",
     "text": [
      "  1%|          | 18000/3000000 [07:51<381:12:04,  2.17it/s]"
     ]
    },
    {
     "name": "stdout",
     "output_type": "stream",
     "text": [
      "test_rew_main =  1.9418623570466975e-06\n"
     ]
    },
    {
     "name": "stderr",
     "output_type": "stream",
     "text": [
      "  1%|          | 20997/3000000 [09:10<9:02:04, 91.59it/s]  "
     ]
    },
    {
     "name": "stdout",
     "output_type": "stream",
     "text": [
      "ep_rew_main =  [-0.00138379]\n"
     ]
    },
    {
     "name": "stderr",
     "output_type": "stream",
     "text": [
      "  1%|          | 21000/3000000 [09:32<473:33:02,  1.75it/s]"
     ]
    },
    {
     "name": "stdout",
     "output_type": "stream",
     "text": [
      "test_rew_main =  -0.02237486978613418\n"
     ]
    },
    {
     "name": "stderr",
     "output_type": "stream",
     "text": [
      "  1%|          | 23991/3000000 [10:57<10:52:01, 76.07it/s] "
     ]
    },
    {
     "name": "stdout",
     "output_type": "stream",
     "text": [
      "ep_rew_main =  [6.0726995e-07]\n"
     ]
    },
    {
     "name": "stderr",
     "output_type": "stream",
     "text": [
      "  1%|          | 24000/3000000 [11:17<386:57:43,  2.14it/s]"
     ]
    },
    {
     "name": "stdout",
     "output_type": "stream",
     "text": [
      "test_rew_main =  6.405818158221255e-06\n"
     ]
    },
    {
     "name": "stderr",
     "output_type": "stream",
     "text": [
      "  1%|          | 26995/3000000 [12:42<11:20:50, 72.78it/s] "
     ]
    },
    {
     "name": "stdout",
     "output_type": "stream",
     "text": [
      "ep_rew_main =  [-0.00829273]\n"
     ]
    },
    {
     "name": "stderr",
     "output_type": "stream",
     "text": [
      "  1%|          | 27000/3000000 [13:03<599:00:28,  1.38it/s]"
     ]
    },
    {
     "name": "stdout",
     "output_type": "stream",
     "text": [
      "test_rew_main =  7.0359533741459754e-09\n"
     ]
    },
    {
     "name": "stderr",
     "output_type": "stream",
     "text": [
      "  1%|          | 29992/3000000 [14:29<9:30:14, 86.80it/s]  "
     ]
    },
    {
     "name": "stdout",
     "output_type": "stream",
     "text": [
      "ep_rew_main =  [-0.03054759]\n"
     ]
    },
    {
     "name": "stderr",
     "output_type": "stream",
     "text": [
      "  1%|          | 29992/3000000 [14:42<9:30:14, 86.80it/s]"
     ]
    },
    {
     "name": "stdout",
     "output_type": "stream",
     "text": [
      "test_rew_main =  9.944978748355206e-09\n",
      "current_time =  2022-02-14T23:03:01.614334\n"
     ]
    },
    {
     "name": "stderr",
     "output_type": "stream",
     "text": [
      "  1%|          | 30000/3000000 [16:12<2220:04:13,  2.69s/it]"
     ]
    },
    {
     "name": "stdout",
     "output_type": "stream",
     "text": [
      "current_time =  2022-02-14T23:04:25.660585\n"
     ]
    },
    {
     "name": "stderr",
     "output_type": "stream",
     "text": [
      "  1%|          | 32993/3000000 [17:32<10:16:48, 80.17it/s]  "
     ]
    },
    {
     "name": "stdout",
     "output_type": "stream",
     "text": [
      "ep_rew_main =  [2.1162157e-07]\n"
     ]
    },
    {
     "name": "stderr",
     "output_type": "stream",
     "text": [
      "  1%|          | 33000/3000000 [17:54<457:24:02,  1.80it/s]"
     ]
    },
    {
     "name": "stdout",
     "output_type": "stream",
     "text": [
      "test_rew_main =  -0.012339765052387954\n"
     ]
    },
    {
     "name": "stderr",
     "output_type": "stream",
     "text": [
      "  1%|          | 35991/3000000 [19:18<11:13:10, 73.38it/s] "
     ]
    },
    {
     "name": "stdout",
     "output_type": "stream",
     "text": [
      "ep_rew_main =  [-0.00149953]\n"
     ]
    },
    {
     "name": "stderr",
     "output_type": "stream",
     "text": [
      "  1%|          | 36000/3000000 [19:41<450:08:27,  1.83it/s]"
     ]
    },
    {
     "name": "stdout",
     "output_type": "stream",
     "text": [
      "test_rew_main =  -7.926271129606944e-05\n"
     ]
    },
    {
     "name": "stderr",
     "output_type": "stream",
     "text": [
      "  1%|▏         | 38993/3000000 [21:11<10:45:46, 76.42it/s] "
     ]
    },
    {
     "name": "stdout",
     "output_type": "stream",
     "text": [
      "ep_rew_main =  [3.2450203e-09]\n"
     ]
    },
    {
     "name": "stderr",
     "output_type": "stream",
     "text": [
      "  1%|▏         | 39000/3000000 [21:28<341:43:16,  2.41it/s]"
     ]
    },
    {
     "name": "stdout",
     "output_type": "stream",
     "text": [
      "test_rew_main =  -0.011298388241162733\n"
     ]
    },
    {
     "name": "stderr",
     "output_type": "stream",
     "text": [
      "  1%|▏         | 41990/3000000 [22:31<9:19:23, 88.13it/s]  "
     ]
    },
    {
     "name": "stdout",
     "output_type": "stream",
     "text": [
      "ep_rew_main =  [9.954246e-07]\n"
     ]
    },
    {
     "name": "stderr",
     "output_type": "stream",
     "text": [
      "  1%|▏         | 42000/3000000 [22:49<306:06:33,  2.68it/s]"
     ]
    },
    {
     "name": "stdout",
     "output_type": "stream",
     "text": [
      "test_rew_main =  -0.0025597242262603106\n"
     ]
    },
    {
     "name": "stderr",
     "output_type": "stream",
     "text": [
      "  1%|▏         | 44994/3000000 [23:57<9:59:47, 82.11it/s]  "
     ]
    },
    {
     "name": "stdout",
     "output_type": "stream",
     "text": [
      "ep_rew_main =  [5.3587492e-08]\n",
      "test_rew_main =  -0.015114511280850456\n"
     ]
    },
    {
     "name": "stderr",
     "output_type": "stream",
     "text": [
      "  2%|▏         | 47985/3000000 [25:08<9:11:45, 89.17it/s]  "
     ]
    },
    {
     "name": "stdout",
     "output_type": "stream",
     "text": [
      "ep_rew_main =  [-0.06608254]\n",
      "test_rew_main =  -0.023468290271429354\n"
     ]
    },
    {
     "name": "stderr",
     "output_type": "stream",
     "text": [
      "  2%|▏         | 50996/3000000 [26:17<8:04:16, 101.49it/s] "
     ]
    },
    {
     "name": "stdout",
     "output_type": "stream",
     "text": [
      "ep_rew_main =  [-0.05719579]\n",
      "test_rew_main =  -0.00035971216028784283\n"
     ]
    },
    {
     "name": "stderr",
     "output_type": "stream",
     "text": [
      "  2%|▏         | 53986/3000000 [27:28<10:45:06, 76.11it/s] "
     ]
    },
    {
     "name": "stdout",
     "output_type": "stream",
     "text": [
      "ep_rew_main =  [-0.00299389]\n",
      "test_rew_main =  4.36136671688847e-06\n"
     ]
    },
    {
     "name": "stderr",
     "output_type": "stream",
     "text": [
      "  2%|▏         | 56989/3000000 [28:41<8:12:16, 99.64it/s]  "
     ]
    },
    {
     "name": "stdout",
     "output_type": "stream",
     "text": [
      "ep_rew_main =  [-0.01559983]\n"
     ]
    },
    {
     "name": "stderr",
     "output_type": "stream",
     "text": [
      "  2%|▏         | 57000/3000000 [28:57<225:11:37,  3.63it/s]"
     ]
    },
    {
     "name": "stdout",
     "output_type": "stream",
     "text": [
      "test_rew_main =  -0.009717477625608314\n"
     ]
    },
    {
     "name": "stderr",
     "output_type": "stream",
     "text": [
      "  2%|▏         | 59992/3000000 [29:51<8:02:15, 101.60it/s] "
     ]
    },
    {
     "name": "stdout",
     "output_type": "stream",
     "text": [
      "ep_rew_main =  [-0.00039112]\n"
     ]
    },
    {
     "name": "stderr",
     "output_type": "stream",
     "text": [
      "  2%|▏         | 59992/3000000 [30:04<8:02:15, 101.60it/s]"
     ]
    },
    {
     "name": "stdout",
     "output_type": "stream",
     "text": [
      "test_rew_main =  1.4337225635931538e-06\n",
      "current_time =  2022-02-14T23:18:18.320015\n"
     ]
    },
    {
     "name": "stderr",
     "output_type": "stream",
     "text": [
      "  2%|▏         | 60000/3000000 [31:08<1063:03:45,  1.30s/it]"
     ]
    },
    {
     "name": "stdout",
     "output_type": "stream",
     "text": [
      "current_time =  2022-02-14T23:19:20.834845\n"
     ]
    },
    {
     "name": "stderr",
     "output_type": "stream",
     "text": [
      "  2%|▏         | 62992/3000000 [32:03<9:21:53, 87.12it/s]   "
     ]
    },
    {
     "name": "stdout",
     "output_type": "stream",
     "text": [
      "ep_rew_main =  [-0.03009659]\n"
     ]
    },
    {
     "name": "stderr",
     "output_type": "stream",
     "text": [
      "  2%|▏         | 63000/3000000 [32:20<251:31:30,  3.24it/s]"
     ]
    },
    {
     "name": "stdout",
     "output_type": "stream",
     "text": [
      "test_rew_main =  -0.0027786204789501806\n"
     ]
    },
    {
     "name": "stderr",
     "output_type": "stream",
     "text": [
      "  2%|▏         | 65991/3000000 [33:19<8:44:46, 93.18it/s]  "
     ]
    },
    {
     "name": "stdout",
     "output_type": "stream",
     "text": [
      "ep_rew_main =  [-0.03649898]\n"
     ]
    },
    {
     "name": "stderr",
     "output_type": "stream",
     "text": [
      "  2%|▏         | 66000/3000000 [33:35<262:44:48,  3.10it/s]"
     ]
    },
    {
     "name": "stdout",
     "output_type": "stream",
     "text": [
      "test_rew_main =  -0.002535502624302819\n"
     ]
    },
    {
     "name": "stderr",
     "output_type": "stream",
     "text": [
      "  2%|▏         | 68990/3000000 [34:34<9:19:31, 87.31it/s]  "
     ]
    },
    {
     "name": "stdout",
     "output_type": "stream",
     "text": [
      "ep_rew_main =  [-0.02909707]\n"
     ]
    },
    {
     "name": "stderr",
     "output_type": "stream",
     "text": [
      "  2%|▏         | 69000/3000000 [34:49<289:15:48,  2.81it/s]"
     ]
    },
    {
     "name": "stdout",
     "output_type": "stream",
     "text": [
      "test_rew_main =  -0.000148085601915479\n"
     ]
    },
    {
     "name": "stderr",
     "output_type": "stream",
     "text": [
      "  2%|▏         | 71994/3000000 [35:50<8:57:58, 90.71it/s]  "
     ]
    },
    {
     "name": "stdout",
     "output_type": "stream",
     "text": [
      "ep_rew_main =  [-0.00279406]\n"
     ]
    },
    {
     "name": "stderr",
     "output_type": "stream",
     "text": [
      "  2%|▏         | 72000/3000000 [36:05<241:30:42,  3.37it/s]"
     ]
    },
    {
     "name": "stdout",
     "output_type": "stream",
     "text": [
      "test_rew_main =  -0.0076991752316346584\n"
     ]
    },
    {
     "name": "stderr",
     "output_type": "stream",
     "text": [
      "  2%|▏         | 74995/3000000 [37:06<8:24:07, 96.70it/s]  "
     ]
    },
    {
     "name": "stdout",
     "output_type": "stream",
     "text": [
      "ep_rew_main =  [-0.0008496]\n",
      "test_rew_main =  -0.00014319581500378472\n"
     ]
    },
    {
     "name": "stderr",
     "output_type": "stream",
     "text": [
      "  3%|▎         | 77986/3000000 [38:20<9:37:02, 84.40it/s]  "
     ]
    },
    {
     "name": "stdout",
     "output_type": "stream",
     "text": [
      "ep_rew_main =  [-0.01619669]\n"
     ]
    },
    {
     "name": "stderr",
     "output_type": "stream",
     "text": [
      "  3%|▎         | 78000/3000000 [38:35<218:52:23,  3.71it/s]"
     ]
    },
    {
     "name": "stdout",
     "output_type": "stream",
     "text": [
      "test_rew_main =  -0.02579541411683304\n"
     ]
    },
    {
     "name": "stderr",
     "output_type": "stream",
     "text": [
      "  3%|▎         | 80985/3000000 [39:35<11:11:14, 72.48it/s] "
     ]
    },
    {
     "name": "stdout",
     "output_type": "stream",
     "text": [
      "ep_rew_main =  [-0.01129848]\n",
      "test_rew_main =  -0.0012908610051828161\n"
     ]
    },
    {
     "name": "stderr",
     "output_type": "stream",
     "text": [
      "  3%|▎         | 83992/3000000 [41:00<8:25:10, 96.21it/s]  "
     ]
    },
    {
     "name": "stdout",
     "output_type": "stream",
     "text": [
      "ep_rew_main =  [-0.09530536]\n",
      "test_rew_main =  -0.03578465413818185\n"
     ]
    },
    {
     "name": "stderr",
     "output_type": "stream",
     "text": [
      "  3%|▎         | 86997/3000000 [42:21<9:28:59, 85.33it/s]  "
     ]
    },
    {
     "name": "stdout",
     "output_type": "stream",
     "text": [
      "ep_rew_main =  [0.00021317]\n",
      "test_rew_main =  -0.00921939839922398\n"
     ]
    },
    {
     "name": "stderr",
     "output_type": "stream",
     "text": [
      "  3%|▎         | 89978/3000000 [43:38<10:44:45, 75.22it/s] "
     ]
    },
    {
     "name": "stdout",
     "output_type": "stream",
     "text": [
      "ep_rew_main =  [0.0026291]\n",
      "test_rew_main =  -0.01995218919031107\n",
      "current_time =  2022-02-14T23:32:05.702674\n"
     ]
    },
    {
     "name": "stderr",
     "output_type": "stream",
     "text": [
      "  3%|▎         | 90000/3000000 [44:51<859:39:02,  1.06s/it]"
     ]
    },
    {
     "name": "stdout",
     "output_type": "stream",
     "text": [
      "current_time =  2022-02-14T23:33:04.195023\n"
     ]
    },
    {
     "name": "stderr",
     "output_type": "stream",
     "text": [
      "  3%|▎         | 92992/3000000 [45:50<8:32:47, 94.48it/s]  "
     ]
    },
    {
     "name": "stdout",
     "output_type": "stream",
     "text": [
      "ep_rew_main =  [-0.07116383]\n",
      "test_rew_main =  0.0003164354098135689\n"
     ]
    },
    {
     "name": "stderr",
     "output_type": "stream",
     "text": [
      "  3%|▎         | 95998/3000000 [47:01<8:10:16, 98.72it/s]  "
     ]
    },
    {
     "name": "stdout",
     "output_type": "stream",
     "text": [
      "ep_rew_main =  [-0.01619529]\n",
      "test_rew_main =  -0.008770172017840791\n"
     ]
    },
    {
     "name": "stderr",
     "output_type": "stream",
     "text": [
      "  3%|▎         | 98988/3000000 [48:11<8:32:20, 94.37it/s]  "
     ]
    },
    {
     "name": "stdout",
     "output_type": "stream",
     "text": [
      "ep_rew_main =  [-0.000883]\n",
      "test_rew_main =  -0.013637861587548362\n"
     ]
    },
    {
     "name": "stderr",
     "output_type": "stream",
     "text": [
      "  3%|▎         | 101992/3000000 [49:20<8:16:13, 97.34it/s] "
     ]
    },
    {
     "name": "stdout",
     "output_type": "stream",
     "text": [
      "ep_rew_main =  [-0.00319907]\n",
      "test_rew_main =  -9.606262794313166e-05\n"
     ]
    },
    {
     "name": "stderr",
     "output_type": "stream",
     "text": [
      "  3%|▎         | 104997/3000000 [50:29<8:08:29, 98.77it/s]  "
     ]
    },
    {
     "name": "stdout",
     "output_type": "stream",
     "text": [
      "ep_rew_main =  [-0.04542682]\n",
      "test_rew_main =  3.905022522597989e-06\n"
     ]
    },
    {
     "name": "stderr",
     "output_type": "stream",
     "text": [
      "  4%|▎         | 107992/3000000 [51:38<8:02:42, 99.85it/s]  "
     ]
    },
    {
     "name": "stdout",
     "output_type": "stream",
     "text": [
      "ep_rew_main =  [-0.09517901]\n",
      "test_rew_main =  -0.0009333516848063454\n"
     ]
    },
    {
     "name": "stderr",
     "output_type": "stream",
     "text": [
      "  4%|▎         | 110985/3000000 [52:46<9:16:48, 86.47it/s]  "
     ]
    },
    {
     "name": "stdout",
     "output_type": "stream",
     "text": [
      "ep_rew_main =  [-0.0016908]\n"
     ]
    },
    {
     "name": "stderr",
     "output_type": "stream",
     "text": [
      "  4%|▎         | 111000/3000000 [52:58<150:50:54,  5.32it/s]"
     ]
    },
    {
     "name": "stdout",
     "output_type": "stream",
     "text": [
      "test_rew_main =  -0.009158049694703333\n"
     ]
    },
    {
     "name": "stderr",
     "output_type": "stream",
     "text": [
      "  4%|▍         | 113976/3000000 [53:54<9:58:27, 80.37it/s]  "
     ]
    },
    {
     "name": "stdout",
     "output_type": "stream",
     "text": [
      "ep_rew_main =  [2.7506843e-05]\n"
     ]
    },
    {
     "name": "stderr",
     "output_type": "stream",
     "text": [
      "  4%|▍         | 114000/3000000 [54:08<145:00:43,  5.53it/s]"
     ]
    },
    {
     "name": "stdout",
     "output_type": "stream",
     "text": [
      "test_rew_main =  -0.025021615006629444\n"
     ]
    },
    {
     "name": "stderr",
     "output_type": "stream",
     "text": [
      "  4%|▍         | 116999/3000000 [55:05<8:12:35, 97.54it/s]  "
     ]
    },
    {
     "name": "stdout",
     "output_type": "stream",
     "text": [
      "ep_rew_main =  [-0.00591966]\n"
     ]
    },
    {
     "name": "stderr",
     "output_type": "stream",
     "text": [
      "  4%|▍         | 117000/3000000 [55:17<201:00:32,  3.98it/s]"
     ]
    },
    {
     "name": "stdout",
     "output_type": "stream",
     "text": [
      "test_rew_main =  -0.013491619040265352\n"
     ]
    },
    {
     "name": "stderr",
     "output_type": "stream",
     "text": [
      "  4%|▍         | 119998/3000000 [56:16<8:19:26, 96.11it/s]  "
     ]
    },
    {
     "name": "stdout",
     "output_type": "stream",
     "text": [
      "ep_rew_main =  [0.00519745]\n"
     ]
    },
    {
     "name": "stderr",
     "output_type": "stream",
     "text": [
      "  4%|▍         | 119998/3000000 [56:28<8:19:26, 96.11it/s]"
     ]
    },
    {
     "name": "stdout",
     "output_type": "stream",
     "text": [
      "test_rew_main =  -0.010566185172176303\n",
      "current_time =  2022-02-14T23:44:42.673368\n"
     ]
    },
    {
     "name": "stderr",
     "output_type": "stream",
     "text": [
      "  4%|▍         | 120000/3000000 [57:30<1092:49:42,  1.37s/it]"
     ]
    },
    {
     "name": "stdout",
     "output_type": "stream",
     "text": [
      "current_time =  2022-02-14T23:45:43.106301\n"
     ]
    },
    {
     "name": "stderr",
     "output_type": "stream",
     "text": [
      "  4%|▍         | 122986/3000000 [58:30<9:21:20, 85.42it/s]   "
     ]
    },
    {
     "name": "stdout",
     "output_type": "stream",
     "text": [
      "ep_rew_main =  [-0.00687552]\n",
      "test_rew_main =  -0.02991366662968089\n"
     ]
    },
    {
     "name": "stderr",
     "output_type": "stream",
     "text": [
      "  4%|▍         | 125984/3000000 [59:43<10:11:14, 78.37it/s] "
     ]
    },
    {
     "name": "stdout",
     "output_type": "stream",
     "text": [
      "ep_rew_main =  [-0.08535711]\n",
      "test_rew_main =  -0.026720679679158803\n"
     ]
    },
    {
     "name": "stderr",
     "output_type": "stream",
     "text": [
      "  4%|▍         | 128989/3000000 [1:00:54<8:37:50, 92.40it/s] "
     ]
    },
    {
     "name": "stdout",
     "output_type": "stream",
     "text": [
      "ep_rew_main =  [-0.04261373]\n",
      "test_rew_main =  -0.011872787942501047\n"
     ]
    },
    {
     "name": "stderr",
     "output_type": "stream",
     "text": [
      "  4%|▍         | 131986/3000000 [1:02:05<9:58:24, 79.88it/s]  "
     ]
    },
    {
     "name": "stdout",
     "output_type": "stream",
     "text": [
      "ep_rew_main =  [-0.01341787]\n",
      "test_rew_main =  -0.015006189441963243\n"
     ]
    },
    {
     "name": "stderr",
     "output_type": "stream",
     "text": [
      "  4%|▍         | 134990/3000000 [1:03:16<9:53:36, 80.44it/s]  "
     ]
    },
    {
     "name": "stdout",
     "output_type": "stream",
     "text": [
      "ep_rew_main =  [-0.01337848]\n"
     ]
    },
    {
     "name": "stderr",
     "output_type": "stream",
     "text": [
      "  4%|▍         | 135000/3000000 [1:03:29<165:01:28,  4.82it/s]"
     ]
    },
    {
     "name": "stdout",
     "output_type": "stream",
     "text": [
      "test_rew_main =  -0.0005162554224180145\n"
     ]
    },
    {
     "name": "stderr",
     "output_type": "stream",
     "text": [
      "  5%|▍         | 137990/3000000 [1:04:29<8:44:26, 90.95it/s]  "
     ]
    },
    {
     "name": "stdout",
     "output_type": "stream",
     "text": [
      "ep_rew_main =  [-0.00061429]\n",
      "test_rew_main =  -0.0002565198921277532\n"
     ]
    },
    {
     "name": "stderr",
     "output_type": "stream",
     "text": [
      "  5%|▍         | 140977/3000000 [1:05:41<10:21:02, 76.73it/s] "
     ]
    },
    {
     "name": "stdout",
     "output_type": "stream",
     "text": [
      "ep_rew_main =  [-0.0470621]\n"
     ]
    },
    {
     "name": "stderr",
     "output_type": "stream",
     "text": [
      "  5%|▍         | 141000/3000000 [1:05:53<139:02:10,  5.71it/s]"
     ]
    },
    {
     "name": "stdout",
     "output_type": "stream",
     "text": [
      "test_rew_main =  0.0009394500174076441\n"
     ]
    },
    {
     "name": "stderr",
     "output_type": "stream",
     "text": [
      "  5%|▍         | 143999/3000000 [1:07:08<20:04:07, 39.53it/s] "
     ]
    },
    {
     "name": "stdout",
     "output_type": "stream",
     "text": [
      "ep_rew_main =  [-0.00164188]\n"
     ]
    },
    {
     "name": "stderr",
     "output_type": "stream",
     "text": [
      "  5%|▍         | 144000/3000000 [1:08:15<3577:57:42,  4.51s/it]"
     ]
    },
    {
     "name": "stdout",
     "output_type": "stream",
     "text": [
      "test_rew_main =  -0.015886686566823932\n"
     ]
    },
    {
     "name": "stderr",
     "output_type": "stream",
     "text": [
      "  5%|▍         | 146999/3000000 [1:13:22<23:20:50, 33.94it/s]  "
     ]
    },
    {
     "name": "stdout",
     "output_type": "stream",
     "text": [
      "ep_rew_main =  [8.970105e-05]\n"
     ]
    },
    {
     "name": "stderr",
     "output_type": "stream",
     "text": [
      "  5%|▍         | 147000/3000000 [1:14:22<4447:05:01,  5.61s/it]"
     ]
    },
    {
     "name": "stdout",
     "output_type": "stream",
     "text": [
      "test_rew_main =  -0.000501934613643258\n"
     ]
    },
    {
     "name": "stderr",
     "output_type": "stream",
     "text": [
      "  5%|▍         | 148098/3000000 [1:16:18<18:31:18, 42.77it/s]  Experiencing connection interruptions. Will try to reestablish communication with Neptune. Internal exception was: RequestsFutureAdapterConnectionError\n",
      "  5%|▍         | 148108/3000000 [1:16:26<253:46:59,  3.12it/s]Experiencing connection interruptions. Will try to reestablish communication with Neptune. Internal exception was: RequestsFutureAdapterConnectionError\n",
      "  5%|▍         | 149998/3000000 [1:19:25<17:42:08, 44.72it/s] "
     ]
    },
    {
     "name": "stdout",
     "output_type": "stream",
     "text": [
      "ep_rew_main =  [1.4302327e-05]\n"
     ]
    },
    {
     "name": "stderr",
     "output_type": "stream",
     "text": [
      "  5%|▍         | 149998/3000000 [1:19:44<17:42:08, 44.72it/s]"
     ]
    },
    {
     "name": "stdout",
     "output_type": "stream",
     "text": [
      "test_rew_main =  0.0001341205976349081\n",
      "current_time =  2022-02-15T00:08:36.965687\n"
     ]
    },
    {
     "name": "stderr",
     "output_type": "stream",
     "text": [
      "  5%|▌         | 150000/3000000 [1:25:06<19799:40:41, 25.01s/it]"
     ]
    },
    {
     "name": "stdout",
     "output_type": "stream",
     "text": [
      "current_time =  2022-02-15T00:13:19.487011\n"
     ]
    },
    {
     "name": "stderr",
     "output_type": "stream",
     "text": [
      "  5%|▌         | 152800/3000000 [1:29:44<20:25:12, 38.73it/s]   Communication with Neptune restored!\n",
      "Communication with Neptune restored!\n",
      "  5%|▌         | 152998/3000000 [1:30:06<27:22:26, 28.89it/s] "
     ]
    },
    {
     "name": "stdout",
     "output_type": "stream",
     "text": [
      "ep_rew_main =  [0.00976202]\n"
     ]
    },
    {
     "name": "stderr",
     "output_type": "stream",
     "text": [
      "  5%|▌         | 153000/3000000 [1:31:12<3844:30:25,  4.86s/it]"
     ]
    },
    {
     "name": "stdout",
     "output_type": "stream",
     "text": [
      "test_rew_main =  0.0007987377103440003\n"
     ]
    },
    {
     "name": "stderr",
     "output_type": "stream",
     "text": [
      "  5%|▌         | 155986/3000000 [1:33:00<10:30:47, 75.14it/s]  "
     ]
    },
    {
     "name": "stdout",
     "output_type": "stream",
     "text": [
      "ep_rew_main =  [-0.01021615]\n"
     ]
    },
    {
     "name": "stderr",
     "output_type": "stream",
     "text": [
      "  5%|▌         | 156000/3000000 [1:33:14<172:28:44,  4.58it/s]"
     ]
    },
    {
     "name": "stdout",
     "output_type": "stream",
     "text": [
      "test_rew_main =  -0.01931581401324991\n"
     ]
    },
    {
     "name": "stderr",
     "output_type": "stream",
     "text": [
      "  5%|▌         | 158984/3000000 [1:34:24<11:18:20, 69.80it/s] "
     ]
    },
    {
     "name": "stdout",
     "output_type": "stream",
     "text": [
      "ep_rew_main =  [-0.00250949]\n",
      "test_rew_main =  -0.006204798991003567\n"
     ]
    },
    {
     "name": "stderr",
     "output_type": "stream",
     "text": [
      "  5%|▌         | 161980/3000000 [1:35:43<11:44:16, 67.16it/s] "
     ]
    },
    {
     "name": "stdout",
     "output_type": "stream",
     "text": [
      "ep_rew_main =  [0.00075933]\n"
     ]
    },
    {
     "name": "stderr",
     "output_type": "stream",
     "text": [
      "  5%|▌         | 162000/3000000 [1:35:56<153:09:17,  5.15it/s]"
     ]
    },
    {
     "name": "stdout",
     "output_type": "stream",
     "text": [
      "test_rew_main =  0.002486605292372879\n"
     ]
    },
    {
     "name": "stderr",
     "output_type": "stream",
     "text": [
      "  5%|▌         | 164986/3000000 [1:37:02<9:36:57, 81.90it/s]  "
     ]
    },
    {
     "name": "stdout",
     "output_type": "stream",
     "text": [
      "ep_rew_main =  [0.00029026]\n",
      "test_rew_main =  0.0003368519286184925\n"
     ]
    },
    {
     "name": "stderr",
     "output_type": "stream",
     "text": [
      "  6%|▌         | 167978/3000000 [1:38:22<11:45:02, 66.95it/s] "
     ]
    },
    {
     "name": "stdout",
     "output_type": "stream",
     "text": [
      "ep_rew_main =  [0.00064655]\n"
     ]
    },
    {
     "name": "stderr",
     "output_type": "stream",
     "text": [
      "  6%|▌         | 168000/3000000 [1:38:34<146:24:12,  5.37it/s]"
     ]
    },
    {
     "name": "stdout",
     "output_type": "stream",
     "text": [
      "test_rew_main =  -1.6714001407681446e-05\n"
     ]
    },
    {
     "name": "stderr",
     "output_type": "stream",
     "text": [
      "  6%|▌         | 170991/3000000 [1:39:47<9:38:21, 81.52it/s]  "
     ]
    },
    {
     "name": "stdout",
     "output_type": "stream",
     "text": [
      "ep_rew_main =  [6.6941844e-05]\n",
      "test_rew_main =  -0.009304537028844002\n"
     ]
    },
    {
     "name": "stderr",
     "output_type": "stream",
     "text": [
      "  6%|▌         | 173997/3000000 [1:41:28<9:52:46, 79.46it/s]  "
     ]
    },
    {
     "name": "stdout",
     "output_type": "stream",
     "text": [
      "ep_rew_main =  [-0.00346092]\n"
     ]
    },
    {
     "name": "stderr",
     "output_type": "stream",
     "text": [
      "  6%|▌         | 174000/3000000 [1:41:45<245:36:50,  3.20it/s]"
     ]
    },
    {
     "name": "stdout",
     "output_type": "stream",
     "text": [
      "test_rew_main =  9.031090124409413e-05\n"
     ]
    },
    {
     "name": "stderr",
     "output_type": "stream",
     "text": [
      "  6%|▌         | 176994/3000000 [1:43:06<10:47:53, 72.62it/s] "
     ]
    },
    {
     "name": "stdout",
     "output_type": "stream",
     "text": [
      "ep_rew_main =  [-0.00649178]\n",
      "test_rew_main =  0.009597068509568603\n"
     ]
    },
    {
     "name": "stderr",
     "output_type": "stream",
     "text": [
      "  6%|▌         | 179996/3000000 [1:44:31<9:41:38, 80.80it/s]  "
     ]
    },
    {
     "name": "stdout",
     "output_type": "stream",
     "text": [
      "ep_rew_main =  [-0.00557503]\n"
     ]
    },
    {
     "name": "stderr",
     "output_type": "stream",
     "text": [
      "  6%|▌         | 179996/3000000 [1:44:43<9:41:38, 80.80it/s]"
     ]
    },
    {
     "name": "stdout",
     "output_type": "stream",
     "text": [
      "test_rew_main =  0.002481555091801794\n",
      "current_time =  2022-02-15T00:32:58.180489\n"
     ]
    },
    {
     "name": "stderr",
     "output_type": "stream",
     "text": [
      "  6%|▌         | 180000/3000000 [1:46:00<1295:53:51,  1.65s/it]"
     ]
    },
    {
     "name": "stdout",
     "output_type": "stream",
     "text": [
      "current_time =  2022-02-15T00:34:13.147256\n"
     ]
    },
    {
     "name": "stderr",
     "output_type": "stream",
     "text": [
      "  6%|▌         | 182998/3000000 [1:47:31<9:38:24, 81.17it/s]   "
     ]
    },
    {
     "name": "stdout",
     "output_type": "stream",
     "text": [
      "ep_rew_main =  [0.00036387]\n"
     ]
    },
    {
     "name": "stderr",
     "output_type": "stream",
     "text": [
      "  6%|▌         | 183000/3000000 [1:47:51<415:24:32,  1.88it/s]"
     ]
    },
    {
     "name": "stdout",
     "output_type": "stream",
     "text": [
      "test_rew_main =  -4.692099208462204e-05\n"
     ]
    },
    {
     "name": "stderr",
     "output_type": "stream",
     "text": [
      "  6%|▌         | 185991/3000000 [1:49:24<11:45:59, 66.43it/s] "
     ]
    },
    {
     "name": "stdout",
     "output_type": "stream",
     "text": [
      "ep_rew_main =  [-0.01714531]\n"
     ]
    },
    {
     "name": "stderr",
     "output_type": "stream",
     "text": [
      "  6%|▌         | 186000/3000000 [1:49:40<237:13:45,  3.29it/s]"
     ]
    },
    {
     "name": "stdout",
     "output_type": "stream",
     "text": [
      "test_rew_main =  -0.02045440945326966\n"
     ]
    },
    {
     "name": "stderr",
     "output_type": "stream",
     "text": [
      "  6%|▋         | 188990/3000000 [1:51:06<12:29:00, 62.55it/s] "
     ]
    },
    {
     "name": "stdout",
     "output_type": "stream",
     "text": [
      "ep_rew_main =  [-0.00545657]\n",
      "test_rew_main =  -0.034820437997729284\n"
     ]
    },
    {
     "name": "stderr",
     "output_type": "stream",
     "text": [
      "  6%|▋         | 191981/3000000 [1:52:47<11:43:06, 66.56it/s] "
     ]
    },
    {
     "name": "stdout",
     "output_type": "stream",
     "text": [
      "ep_rew_main =  [-0.07858454]\n"
     ]
    },
    {
     "name": "stderr",
     "output_type": "stream",
     "text": [
      "  6%|▋         | 192000/3000000 [1:53:04<212:25:31,  3.67it/s]"
     ]
    },
    {
     "name": "stdout",
     "output_type": "stream",
     "text": [
      "test_rew_main =  0.015244079630922367\n"
     ]
    },
    {
     "name": "stderr",
     "output_type": "stream",
     "text": [
      "  6%|▋         | 194988/3000000 [1:54:24<10:24:40, 74.84it/s] "
     ]
    },
    {
     "name": "stdout",
     "output_type": "stream",
     "text": [
      "ep_rew_main =  [-0.00299044]\n"
     ]
    },
    {
     "name": "stderr",
     "output_type": "stream",
     "text": [
      "  6%|▋         | 195000/3000000 [1:54:41<289:49:23,  2.69it/s]"
     ]
    },
    {
     "name": "stdout",
     "output_type": "stream",
     "text": [
      "test_rew_main =  0.0014736206419899566\n"
     ]
    },
    {
     "name": "stderr",
     "output_type": "stream",
     "text": [
      "  7%|▋         | 197983/3000000 [1:56:00<10:51:11, 71.71it/s] "
     ]
    },
    {
     "name": "stdout",
     "output_type": "stream",
     "text": [
      "ep_rew_main =  [0.01197644]\n",
      "test_rew_main =  -0.0025510666321562\n"
     ]
    },
    {
     "name": "stderr",
     "output_type": "stream",
     "text": [
      "  7%|▋         | 200981/3000000 [1:57:28<11:17:17, 68.88it/s] "
     ]
    },
    {
     "name": "stdout",
     "output_type": "stream",
     "text": [
      "ep_rew_main =  [-0.0591599]\n",
      "test_rew_main =  0.023657213667407608\n"
     ]
    },
    {
     "name": "stderr",
     "output_type": "stream",
     "text": [
      "  7%|▋         | 203980/3000000 [1:58:49<11:10:01, 69.55it/s] "
     ]
    },
    {
     "name": "stdout",
     "output_type": "stream",
     "text": [
      "ep_rew_main =  [-0.04289677]\n",
      "test_rew_main =  0.04185770847875915\n"
     ]
    },
    {
     "name": "stderr",
     "output_type": "stream",
     "text": [
      "  7%|▋         | 206979/3000000 [2:00:12<11:34:33, 67.02it/s] "
     ]
    },
    {
     "name": "stdout",
     "output_type": "stream",
     "text": [
      "ep_rew_main =  [0.15254454]\n"
     ]
    },
    {
     "name": "stderr",
     "output_type": "stream",
     "text": [
      "  7%|▋         | 207000/3000000 [2:00:23<129:16:49,  6.00it/s]"
     ]
    },
    {
     "name": "stdout",
     "output_type": "stream",
     "text": [
      "test_rew_main =  0.08168089300015517\n"
     ]
    },
    {
     "name": "stderr",
     "output_type": "stream",
     "text": [
      "  7%|▋         | 209993/3000000 [2:01:34<8:58:25, 86.36it/s]  "
     ]
    },
    {
     "name": "stdout",
     "output_type": "stream",
     "text": [
      "ep_rew_main =  [0.22694981]\n"
     ]
    },
    {
     "name": "stderr",
     "output_type": "stream",
     "text": [
      "  7%|▋         | 209993/3000000 [2:01:46<8:58:25, 86.36it/s]"
     ]
    },
    {
     "name": "stdout",
     "output_type": "stream",
     "text": [
      "test_rew_main =  0.053056181911886414\n",
      "current_time =  2022-02-15T00:49:59.392603\n"
     ]
    },
    {
     "name": "stderr",
     "output_type": "stream",
     "text": [
      "  7%|▋         | 210000/3000000 [2:02:47<943:14:17,  1.22s/it]"
     ]
    },
    {
     "name": "stdout",
     "output_type": "stream",
     "text": [
      "current_time =  2022-02-15T00:51:00.198513\n"
     ]
    },
    {
     "name": "stderr",
     "output_type": "stream",
     "text": [
      "  7%|▋         | 212991/3000000 [2:03:57<11:18:32, 68.46it/s] "
     ]
    },
    {
     "name": "stdout",
     "output_type": "stream",
     "text": [
      "ep_rew_main =  [0.12524384]\n",
      "test_rew_main =  0.1082801821381322\n"
     ]
    },
    {
     "name": "stderr",
     "output_type": "stream",
     "text": [
      "  7%|▋         | 215985/3000000 [2:05:21<11:08:48, 69.38it/s] "
     ]
    },
    {
     "name": "stdout",
     "output_type": "stream",
     "text": [
      "ep_rew_main =  [-0.02676793]\n",
      "test_rew_main =  0.11132159223933828\n"
     ]
    },
    {
     "name": "stderr",
     "output_type": "stream",
     "text": [
      "  7%|▋         | 218985/3000000 [2:06:44<11:37:09, 66.49it/s] "
     ]
    },
    {
     "name": "stdout",
     "output_type": "stream",
     "text": [
      "ep_rew_main =  [0.2623248]\n",
      "test_rew_main =  0.06492424144559453\n"
     ]
    },
    {
     "name": "stderr",
     "output_type": "stream",
     "text": [
      "  7%|▋         | 221997/3000000 [2:08:07<9:36:49, 80.27it/s]  "
     ]
    },
    {
     "name": "stdout",
     "output_type": "stream",
     "text": [
      "ep_rew_main =  [0.3198747]\n",
      "test_rew_main =  0.0012547622122847074\n"
     ]
    },
    {
     "name": "stderr",
     "output_type": "stream",
     "text": [
      "  7%|▋         | 224983/3000000 [2:09:32<11:27:44, 67.25it/s] "
     ]
    },
    {
     "name": "stdout",
     "output_type": "stream",
     "text": [
      "ep_rew_main =  [0.3109276]\n",
      "test_rew_main =  0.033563925989066455\n"
     ]
    },
    {
     "name": "stderr",
     "output_type": "stream",
     "text": [
      "  8%|▊         | 227998/3000000 [2:10:56<9:01:55, 85.25it/s]  "
     ]
    },
    {
     "name": "stdout",
     "output_type": "stream",
     "text": [
      "ep_rew_main =  [0.19566615]\n"
     ]
    },
    {
     "name": "stderr",
     "output_type": "stream",
     "text": [
      "  8%|▊         | 228000/3000000 [2:11:08<177:45:51,  4.33it/s]"
     ]
    },
    {
     "name": "stdout",
     "output_type": "stream",
     "text": [
      "test_rew_main =  0.1703012681536699\n"
     ]
    },
    {
     "name": "stderr",
     "output_type": "stream",
     "text": [
      "  8%|▊         | 230987/3000000 [2:12:21<11:27:40, 67.11it/s] "
     ]
    },
    {
     "name": "stdout",
     "output_type": "stream",
     "text": [
      "ep_rew_main =  [0.79348963]\n",
      "test_rew_main =  0.17100193216305742\n"
     ]
    },
    {
     "name": "stderr",
     "output_type": "stream",
     "text": [
      "  8%|▊         | 233995/3000000 [2:13:46<9:42:44, 79.11it/s]  "
     ]
    },
    {
     "name": "stdout",
     "output_type": "stream",
     "text": [
      "ep_rew_main =  [0.68388176]\n"
     ]
    },
    {
     "name": "stderr",
     "output_type": "stream",
     "text": [
      "  8%|▊         | 233995/3000000 [2:13:58<9:42:44, 79.11it/s]"
     ]
    },
    {
     "name": "stdout",
     "output_type": "stream",
     "text": [
      "test_rew_main =  0.28591838621589927\n"
     ]
    },
    {
     "name": "stderr",
     "output_type": "stream",
     "text": [
      "  8%|▊         | 236994/3000000 [2:15:12<9:38:25, 79.61it/s]  "
     ]
    },
    {
     "name": "stdout",
     "output_type": "stream",
     "text": [
      "ep_rew_main =  [0.57896984]\n",
      "test_rew_main =  0.19793049724144718\n"
     ]
    },
    {
     "name": "stderr",
     "output_type": "stream",
     "text": [
      "  8%|▊         | 239976/3000000 [2:16:38<11:43:59, 65.34it/s] "
     ]
    },
    {
     "name": "stdout",
     "output_type": "stream",
     "text": [
      "ep_rew_main =  [0.59476405]\n"
     ]
    },
    {
     "name": "stderr",
     "output_type": "stream",
     "text": [
      "  8%|▊         | 239976/3000000 [2:16:49<11:43:59, 65.34it/s]"
     ]
    },
    {
     "name": "stdout",
     "output_type": "stream",
     "text": [
      "test_rew_main =  0.22845094100566712\n",
      "current_time =  2022-02-15T01:05:02.959882\n"
     ]
    },
    {
     "name": "stderr",
     "output_type": "stream",
     "text": [
      "  8%|▊         | 240000/3000000 [2:17:51<725:23:40,  1.06it/s]"
     ]
    },
    {
     "name": "stdout",
     "output_type": "stream",
     "text": [
      "current_time =  2022-02-15T01:06:04.220796\n"
     ]
    },
    {
     "name": "stderr",
     "output_type": "stream",
     "text": [
      "  8%|▊         | 242990/3000000 [2:19:07<11:50:09, 64.70it/s] "
     ]
    },
    {
     "name": "stdout",
     "output_type": "stream",
     "text": [
      "ep_rew_main =  [0.15416697]\n"
     ]
    },
    {
     "name": "stderr",
     "output_type": "stream",
     "text": [
      "  8%|▊         | 242990/3000000 [2:19:19<11:50:09, 64.70it/s]"
     ]
    },
    {
     "name": "stdout",
     "output_type": "stream",
     "text": [
      "test_rew_main =  0.06963885460435901\n"
     ]
    },
    {
     "name": "stderr",
     "output_type": "stream",
     "text": [
      "  8%|▊         | 245986/3000000 [2:20:34<11:42:04, 65.38it/s] "
     ]
    },
    {
     "name": "stdout",
     "output_type": "stream",
     "text": [
      "ep_rew_main =  [0.5680504]\n",
      "test_rew_main =  0.21547873478452595\n"
     ]
    },
    {
     "name": "stderr",
     "output_type": "stream",
     "text": [
      "  8%|▊         | 248980/3000000 [2:22:03<11:59:43, 63.70it/s] "
     ]
    },
    {
     "name": "stdout",
     "output_type": "stream",
     "text": [
      "ep_rew_main =  [0.42968366]\n",
      "test_rew_main =  0.18932448041122424\n"
     ]
    },
    {
     "name": "stderr",
     "output_type": "stream",
     "text": [
      "  8%|▊         | 251983/3000000 [2:23:32<12:25:03, 61.47it/s] "
     ]
    },
    {
     "name": "stdout",
     "output_type": "stream",
     "text": [
      "ep_rew_main =  [0.47045195]\n",
      "test_rew_main =  0.28281707832057934\n"
     ]
    },
    {
     "name": "stderr",
     "output_type": "stream",
     "text": [
      "  8%|▊         | 254994/3000000 [2:25:01<9:54:48, 76.92it/s]  "
     ]
    },
    {
     "name": "stdout",
     "output_type": "stream",
     "text": [
      "ep_rew_main =  [0.45286548]\n",
      "test_rew_main =  0.24580591806123592\n"
     ]
    },
    {
     "name": "stderr",
     "output_type": "stream",
     "text": [
      "  9%|▊         | 257990/3000000 [2:26:30<12:12:51, 62.36it/s] "
     ]
    },
    {
     "name": "stdout",
     "output_type": "stream",
     "text": [
      "ep_rew_main =  [0.60414577]\n",
      "test_rew_main =  0.29325927696858595\n"
     ]
    },
    {
     "name": "stderr",
     "output_type": "stream",
     "text": [
      "  9%|▊         | 260992/3000000 [2:28:01<11:57:58, 63.58it/s] "
     ]
    },
    {
     "name": "stdout",
     "output_type": "stream",
     "text": [
      "ep_rew_main =  [0.45237258]\n",
      "test_rew_main =  0.3286226912042203\n"
     ]
    },
    {
     "name": "stderr",
     "output_type": "stream",
     "text": [
      "  9%|▉         | 263989/3000000 [2:29:32<12:04:22, 62.95it/s] "
     ]
    },
    {
     "name": "stdout",
     "output_type": "stream",
     "text": [
      "ep_rew_main =  [0.982454]\n",
      "test_rew_main =  0.19053219796078047\n"
     ]
    },
    {
     "name": "stderr",
     "output_type": "stream",
     "text": [
      "  9%|▉         | 266979/3000000 [2:31:04<12:30:33, 60.69it/s] "
     ]
    },
    {
     "name": "stdout",
     "output_type": "stream",
     "text": [
      "ep_rew_main =  [0.58780175]\n"
     ]
    },
    {
     "name": "stderr",
     "output_type": "stream",
     "text": [
      "  9%|▉         | 267000/3000000 [2:31:17<135:05:42,  5.62it/s]"
     ]
    },
    {
     "name": "stdout",
     "output_type": "stream",
     "text": [
      "test_rew_main =  0.24702344877239493\n"
     ]
    },
    {
     "name": "stderr",
     "output_type": "stream",
     "text": [
      "  9%|▉         | 269987/3000000 [2:32:36<12:06:56, 62.59it/s] "
     ]
    },
    {
     "name": "stdout",
     "output_type": "stream",
     "text": [
      "ep_rew_main =  [0.758387]\n",
      "test_rew_main =  0.03179930866677063\n",
      "current_time =  2022-02-15T01:21:01.072118\n"
     ]
    },
    {
     "name": "stderr",
     "output_type": "stream",
     "text": [
      "  9%|▉         | 270000/3000000 [2:33:48<829:25:14,  1.09s/it]"
     ]
    },
    {
     "name": "stdout",
     "output_type": "stream",
     "text": [
      "current_time =  2022-02-15T01:22:01.377401\n"
     ]
    },
    {
     "name": "stderr",
     "output_type": "stream",
     "text": [
      "  9%|▉         | 272978/3000000 [2:35:09<13:00:07, 58.26it/s] "
     ]
    },
    {
     "name": "stdout",
     "output_type": "stream",
     "text": [
      "ep_rew_main =  [0.99881184]\n"
     ]
    },
    {
     "name": "stderr",
     "output_type": "stream",
     "text": [
      "  9%|▉         | 273000/3000000 [2:35:21<128:03:11,  5.92it/s]"
     ]
    },
    {
     "name": "stdout",
     "output_type": "stream",
     "text": [
      "test_rew_main =  0.24939540158114165\n"
     ]
    },
    {
     "name": "stderr",
     "output_type": "stream",
     "text": [
      "  9%|▉         | 275995/3000000 [2:36:42<10:03:09, 75.27it/s] "
     ]
    },
    {
     "name": "stdout",
     "output_type": "stream",
     "text": [
      "ep_rew_main =  [0.7234632]\n",
      "test_rew_main =  0.17207748392301353\n"
     ]
    },
    {
     "name": "stderr",
     "output_type": "stream",
     "text": [
      "  9%|▉         | 278989/3000000 [2:38:16<14:11:25, 53.26it/s] "
     ]
    },
    {
     "name": "stdout",
     "output_type": "stream",
     "text": [
      "ep_rew_main =  [0.32938004]\n",
      "test_rew_main =  0.3490007150008564\n"
     ]
    },
    {
     "name": "stderr",
     "output_type": "stream",
     "text": [
      "  9%|▉         | 281987/3000000 [2:39:49<12:18:12, 61.37it/s] "
     ]
    },
    {
     "name": "stdout",
     "output_type": "stream",
     "text": [
      "ep_rew_main =  [0.60385746]\n"
     ]
    },
    {
     "name": "stderr",
     "output_type": "stream",
     "text": [
      "  9%|▉         | 282000/3000000 [2:40:02<145:05:39,  5.20it/s]"
     ]
    },
    {
     "name": "stdout",
     "output_type": "stream",
     "text": [
      "test_rew_main =  0.1515938656602494\n"
     ]
    },
    {
     "name": "stderr",
     "output_type": "stream",
     "text": [
      "  9%|▉         | 284987/3000000 [2:41:24<12:04:31, 62.46it/s] "
     ]
    },
    {
     "name": "stdout",
     "output_type": "stream",
     "text": [
      "ep_rew_main =  [1.0842923]\n",
      "test_rew_main =  0.5066304113928527\n"
     ]
    },
    {
     "name": "stderr",
     "output_type": "stream",
     "text": [
      " 10%|▉         | 287998/3000000 [2:42:59<10:24:22, 72.39it/s] "
     ]
    },
    {
     "name": "stdout",
     "output_type": "stream",
     "text": [
      "ep_rew_main =  [1.0359206]\n"
     ]
    },
    {
     "name": "stderr",
     "output_type": "stream",
     "text": [
      " 10%|▉         | 288000/3000000 [2:43:11<173:05:56,  4.35it/s]"
     ]
    },
    {
     "name": "stdout",
     "output_type": "stream",
     "text": [
      "test_rew_main =  0.40252585476053576\n"
     ]
    },
    {
     "name": "stderr",
     "output_type": "stream",
     "text": [
      " 10%|▉         | 290984/3000000 [2:44:34<12:49:54, 58.64it/s] "
     ]
    },
    {
     "name": "stdout",
     "output_type": "stream",
     "text": [
      "ep_rew_main =  [1.1785657]\n",
      "test_rew_main =  0.3155573945172927\n"
     ]
    },
    {
     "name": "stderr",
     "output_type": "stream",
     "text": [
      " 10%|▉         | 293987/3000000 [2:46:11<12:49:24, 58.62it/s] "
     ]
    },
    {
     "name": "stdout",
     "output_type": "stream",
     "text": [
      "ep_rew_main =  [1.0334737]\n"
     ]
    },
    {
     "name": "stderr",
     "output_type": "stream",
     "text": [
      " 10%|▉         | 294000/3000000 [2:46:23<150:08:10,  5.01it/s]"
     ]
    },
    {
     "name": "stdout",
     "output_type": "stream",
     "text": [
      "test_rew_main =  0.30078012959759354\n"
     ]
    },
    {
     "name": "stderr",
     "output_type": "stream",
     "text": [
      " 10%|▉         | 296978/3000000 [2:47:48<13:06:45, 57.26it/s] "
     ]
    },
    {
     "name": "stdout",
     "output_type": "stream",
     "text": [
      "ep_rew_main =  [1.183047]\n"
     ]
    },
    {
     "name": "stderr",
     "output_type": "stream",
     "text": [
      " 10%|▉         | 297000/3000000 [2:48:00<127:08:43,  5.91it/s]"
     ]
    },
    {
     "name": "stdout",
     "output_type": "stream",
     "text": [
      "test_rew_main =  0.1841296846938057\n"
     ]
    },
    {
     "name": "stderr",
     "output_type": "stream",
     "text": [
      " 10%|▉         | 299994/3000000 [2:49:25<10:43:40, 69.91it/s] "
     ]
    },
    {
     "name": "stdout",
     "output_type": "stream",
     "text": [
      "ep_rew_main =  [0.8548708]\n",
      "test_rew_main =  0.27985161206397074\n",
      "current_time =  2022-02-15T01:37:49.611869\n"
     ]
    },
    {
     "name": "stderr",
     "output_type": "stream",
     "text": [
      " 10%|█         | 300000/3000000 [2:50:37<932:48:17,  1.24s/it]"
     ]
    },
    {
     "name": "stdout",
     "output_type": "stream",
     "text": [
      "current_time =  2022-02-15T01:38:50.025161\n"
     ]
    },
    {
     "name": "stderr",
     "output_type": "stream",
     "text": [
      " 10%|█         | 302998/3000000 [2:52:03<10:19:06, 72.60it/s] "
     ]
    },
    {
     "name": "stdout",
     "output_type": "stream",
     "text": [
      "ep_rew_main =  [1.0109262]\n",
      "test_rew_main =  0.3467203725133453\n"
     ]
    },
    {
     "name": "stderr",
     "output_type": "stream",
     "text": [
      " 10%|█         | 305980/3000000 [2:53:41<13:12:54, 56.63it/s] "
     ]
    },
    {
     "name": "stdout",
     "output_type": "stream",
     "text": [
      "ep_rew_main =  [1.0982099]\n"
     ]
    },
    {
     "name": "stderr",
     "output_type": "stream",
     "text": [
      " 10%|█         | 306000/3000000 [2:53:53<134:21:10,  5.57it/s]"
     ]
    },
    {
     "name": "stdout",
     "output_type": "stream",
     "text": [
      "test_rew_main =  0.18165387460177293\n"
     ]
    },
    {
     "name": "stderr",
     "output_type": "stream",
     "text": [
      " 10%|█         | 308991/3000000 [2:55:19<10:48:38, 69.14it/s] "
     ]
    },
    {
     "name": "stdout",
     "output_type": "stream",
     "text": [
      "ep_rew_main =  [0.74488044]\n",
      "test_rew_main =  0.26736338519986513\n"
     ]
    },
    {
     "name": "stderr",
     "output_type": "stream",
     "text": [
      " 10%|█         | 311997/3000000 [2:56:58<10:23:08, 71.89it/s] "
     ]
    },
    {
     "name": "stdout",
     "output_type": "stream",
     "text": [
      "ep_rew_main =  [1.0355728]\n",
      "test_rew_main =  0.18761801747403717\n"
     ]
    },
    {
     "name": "stderr",
     "output_type": "stream",
     "text": [
      " 10%|█         | 314978/3000000 [2:58:38<13:18:27, 56.05it/s] "
     ]
    },
    {
     "name": "stdout",
     "output_type": "stream",
     "text": [
      "ep_rew_main =  [1.0593033]\n"
     ]
    },
    {
     "name": "stderr",
     "output_type": "stream",
     "text": [
      " 10%|█         | 315000/3000000 [2:58:50<125:24:20,  5.95it/s]"
     ]
    },
    {
     "name": "stdout",
     "output_type": "stream",
     "text": [
      "test_rew_main =  0.36098746678236393\n"
     ]
    },
    {
     "name": "stderr",
     "output_type": "stream",
     "text": [
      " 11%|█         | 317987/3000000 [3:00:18<13:08:05, 56.72it/s] "
     ]
    },
    {
     "name": "stdout",
     "output_type": "stream",
     "text": [
      "ep_rew_main =  [1.4482638]\n",
      "test_rew_main =  0.29687237906407093\n"
     ]
    },
    {
     "name": "stderr",
     "output_type": "stream",
     "text": [
      " 11%|█         | 320986/3000000 [3:01:58<13:33:12, 54.91it/s] "
     ]
    },
    {
     "name": "stdout",
     "output_type": "stream",
     "text": [
      "ep_rew_main =  [0.8779402]\n",
      "test_rew_main =  0.39648568038011806\n"
     ]
    },
    {
     "name": "stderr",
     "output_type": "stream",
     "text": [
      " 11%|█         | 323997/3000000 [3:03:38<10:35:40, 70.16it/s] "
     ]
    },
    {
     "name": "stdout",
     "output_type": "stream",
     "text": [
      "ep_rew_main =  [1.4226637]\n",
      "test_rew_main =  0.2894008397415283\n"
     ]
    },
    {
     "name": "stderr",
     "output_type": "stream",
     "text": [
      " 11%|█         | 326980/3000000 [3:05:20<13:50:56, 53.61it/s] "
     ]
    },
    {
     "name": "stdout",
     "output_type": "stream",
     "text": [
      "ep_rew_main =  [1.2214856]\n",
      "test_rew_main =  0.5319165205370837\n"
     ]
    },
    {
     "name": "stderr",
     "output_type": "stream",
     "text": [
      " 11%|█         | 329998/3000000 [3:07:02<10:22:17, 71.51it/s] "
     ]
    },
    {
     "name": "stdout",
     "output_type": "stream",
     "text": [
      "ep_rew_main =  [0.84312785]\n"
     ]
    },
    {
     "name": "stderr",
     "output_type": "stream",
     "text": [
      " 11%|█         | 329998/3000000 [3:07:13<10:22:17, 71.51it/s]"
     ]
    },
    {
     "name": "stdout",
     "output_type": "stream",
     "text": [
      "test_rew_main =  0.41821472784256997\n",
      "current_time =  2022-02-15T01:55:27.160693\n"
     ]
    },
    {
     "name": "stderr",
     "output_type": "stream",
     "text": [
      " 11%|█         | 330000/3000000 [3:08:15<935:32:47,  1.26s/it]"
     ]
    },
    {
     "name": "stdout",
     "output_type": "stream",
     "text": [
      "current_time =  2022-02-15T01:56:28.027770\n"
     ]
    },
    {
     "name": "stderr",
     "output_type": "stream",
     "text": [
      " 11%|█         | 332981/3000000 [3:09:44<13:52:13, 53.41it/s] "
     ]
    },
    {
     "name": "stdout",
     "output_type": "stream",
     "text": [
      "ep_rew_main =  [1.5247394]\n",
      "test_rew_main =  0.36785079158065975\n"
     ]
    },
    {
     "name": "stderr",
     "output_type": "stream",
     "text": [
      " 11%|█         | 335988/3000000 [3:11:28<13:22:27, 55.33it/s] "
     ]
    },
    {
     "name": "stdout",
     "output_type": "stream",
     "text": [
      "ep_rew_main =  [1.1967537]\n",
      "test_rew_main =  0.3644308597178939\n"
     ]
    },
    {
     "name": "stderr",
     "output_type": "stream",
     "text": [
      " 11%|█▏        | 338991/3000000 [3:13:12<13:11:59, 56.00it/s] "
     ]
    },
    {
     "name": "stdout",
     "output_type": "stream",
     "text": [
      "ep_rew_main =  [0.40393317]\n",
      "test_rew_main =  0.3115954818871108\n"
     ]
    },
    {
     "name": "stderr",
     "output_type": "stream",
     "text": [
      " 11%|█▏        | 341987/3000000 [3:14:55<13:19:13, 55.43it/s] "
     ]
    },
    {
     "name": "stdout",
     "output_type": "stream",
     "text": [
      "ep_rew_main =  [1.7850356]\n",
      "test_rew_main =  0.3920550260359713\n"
     ]
    },
    {
     "name": "stderr",
     "output_type": "stream",
     "text": [
      " 11%|█▏        | 344979/3000000 [3:16:40<13:52:16, 53.17it/s] "
     ]
    },
    {
     "name": "stdout",
     "output_type": "stream",
     "text": [
      "ep_rew_main =  [1.1493037]\n",
      "test_rew_main =  0.49407031928903794\n"
     ]
    },
    {
     "name": "stderr",
     "output_type": "stream",
     "text": [
      " 12%|█▏        | 347979/3000000 [3:18:24<14:18:06, 51.51it/s] "
     ]
    },
    {
     "name": "stdout",
     "output_type": "stream",
     "text": [
      "ep_rew_main =  [1.1929367]\n"
     ]
    },
    {
     "name": "stderr",
     "output_type": "stream",
     "text": [
      " 12%|█▏        | 348000/3000000 [3:18:36<124:41:33,  5.91it/s]"
     ]
    },
    {
     "name": "stdout",
     "output_type": "stream",
     "text": [
      "test_rew_main =  0.3855028726528224\n"
     ]
    },
    {
     "name": "stderr",
     "output_type": "stream",
     "text": [
      " 12%|█▏        | 350991/3000000 [3:20:10<13:39:20, 53.89it/s] "
     ]
    },
    {
     "name": "stdout",
     "output_type": "stream",
     "text": [
      "ep_rew_main =  [1.1035165]\n",
      "test_rew_main =  0.2898144585092391\n"
     ]
    },
    {
     "name": "stderr",
     "output_type": "stream",
     "text": [
      " 12%|█▏        | 353999/3000000 [3:21:57<11:01:24, 66.68it/s] "
     ]
    },
    {
     "name": "stdout",
     "output_type": "stream",
     "text": [
      "ep_rew_main =  [1.7589958]\n",
      "test_rew_main =  0.48073982704113616\n"
     ]
    },
    {
     "name": "stderr",
     "output_type": "stream",
     "text": [
      " 12%|█▏        | 356980/3000000 [3:23:43<13:57:04, 52.62it/s] "
     ]
    },
    {
     "name": "stdout",
     "output_type": "stream",
     "text": [
      "ep_rew_main =  [1.7086915]\n"
     ]
    },
    {
     "name": "stderr",
     "output_type": "stream",
     "text": [
      " 12%|█▏        | 357000/3000000 [3:23:55<125:28:48,  5.85it/s]"
     ]
    },
    {
     "name": "stdout",
     "output_type": "stream",
     "text": [
      "test_rew_main =  0.5456758489069021\n"
     ]
    },
    {
     "name": "stderr",
     "output_type": "stream",
     "text": [
      " 12%|█▏        | 359982/3000000 [3:25:30<14:03:25, 52.17it/s] "
     ]
    },
    {
     "name": "stdout",
     "output_type": "stream",
     "text": [
      "ep_rew_main =  [1.5420706]\n",
      "test_rew_main =  0.41984560633266055\n",
      "current_time =  2022-02-15T02:13:54.731696\n"
     ]
    },
    {
     "name": "stderr",
     "output_type": "stream",
     "text": [
      " 12%|█▏        | 360000/3000000 [3:26:41<716:07:14,  1.02it/s]"
     ]
    },
    {
     "name": "stdout",
     "output_type": "stream",
     "text": [
      "current_time =  2022-02-15T02:14:54.605276\n"
     ]
    },
    {
     "name": "stderr",
     "output_type": "stream",
     "text": [
      " 12%|█▏        | 362983/3000000 [3:28:18<14:32:19, 50.38it/s] "
     ]
    },
    {
     "name": "stdout",
     "output_type": "stream",
     "text": [
      "ep_rew_main =  [1.6582181]\n",
      "test_rew_main =  0.42025544079463034\n"
     ]
    },
    {
     "name": "stderr",
     "output_type": "stream",
     "text": [
      " 12%|█▏        | 365998/3000000 [3:30:07<11:22:19, 64.34it/s] "
     ]
    },
    {
     "name": "stdout",
     "output_type": "stream",
     "text": [
      "ep_rew_main =  [1.8178585]\n",
      "test_rew_main =  0.4001724229075144\n"
     ]
    },
    {
     "name": "stderr",
     "output_type": "stream",
     "text": [
      " 12%|█▏        | 368990/3000000 [3:31:55<14:07:15, 51.76it/s] "
     ]
    },
    {
     "name": "stdout",
     "output_type": "stream",
     "text": [
      "ep_rew_main =  [1.7270024]\n"
     ]
    },
    {
     "name": "stderr",
     "output_type": "stream",
     "text": [
      " 12%|█▏        | 369000/3000000 [3:32:08<158:01:30,  4.62it/s]"
     ]
    },
    {
     "name": "stdout",
     "output_type": "stream",
     "text": [
      "test_rew_main =  0.46092391451089443\n"
     ]
    },
    {
     "name": "stderr",
     "output_type": "stream",
     "text": [
      " 12%|█▏        | 371978/3000000 [3:33:45<14:34:44, 50.07it/s] "
     ]
    },
    {
     "name": "stdout",
     "output_type": "stream",
     "text": [
      "ep_rew_main =  [1.7498497]\n"
     ]
    },
    {
     "name": "stderr",
     "output_type": "stream",
     "text": [
      " 12%|█▏        | 372000/3000000 [3:33:57<124:49:27,  5.85it/s]"
     ]
    },
    {
     "name": "stdout",
     "output_type": "stream",
     "text": [
      "test_rew_main =  0.4442391857587908\n"
     ]
    },
    {
     "name": "stderr",
     "output_type": "stream",
     "text": [
      " 12%|█▏        | 374998/3000000 [3:35:35<11:07:51, 65.51it/s] "
     ]
    },
    {
     "name": "stdout",
     "output_type": "stream",
     "text": [
      "ep_rew_main =  [1.4885246]\n"
     ]
    },
    {
     "name": "stderr",
     "output_type": "stream",
     "text": [
      " 12%|█▎        | 375000/3000000 [3:35:47<167:02:53,  4.37it/s]"
     ]
    },
    {
     "name": "stdout",
     "output_type": "stream",
     "text": [
      "test_rew_main =  0.32344807321706665\n"
     ]
    },
    {
     "name": "stderr",
     "output_type": "stream",
     "text": [
      " 13%|█▎        | 377978/3000000 [3:37:26<14:13:50, 51.18it/s] "
     ]
    },
    {
     "name": "stdout",
     "output_type": "stream",
     "text": [
      "ep_rew_main =  [1.4948378]\n"
     ]
    },
    {
     "name": "stderr",
     "output_type": "stream",
     "text": [
      " 13%|█▎        | 378000/3000000 [3:37:38<119:06:48,  6.11it/s]"
     ]
    },
    {
     "name": "stdout",
     "output_type": "stream",
     "text": [
      "test_rew_main =  0.4061637642825307\n"
     ]
    },
    {
     "name": "stderr",
     "output_type": "stream",
     "text": [
      " 13%|█▎        | 380984/3000000 [3:39:17<14:41:24, 49.52it/s] "
     ]
    },
    {
     "name": "stdout",
     "output_type": "stream",
     "text": [
      "ep_rew_main =  [1.8320445]\n"
     ]
    },
    {
     "name": "stderr",
     "output_type": "stream",
     "text": [
      " 13%|█▎        | 381000/3000000 [3:39:29<139:46:19,  5.20it/s]"
     ]
    },
    {
     "name": "stdout",
     "output_type": "stream",
     "text": [
      "test_rew_main =  0.44865877962198875\n"
     ]
    },
    {
     "name": "stderr",
     "output_type": "stream",
     "text": [
      " 13%|█▎        | 383984/3000000 [3:41:09<15:25:33, 47.11it/s] "
     ]
    },
    {
     "name": "stdout",
     "output_type": "stream",
     "text": [
      "ep_rew_main =  [1.2034104]\n",
      "test_rew_main =  0.5255202154446972\n"
     ]
    },
    {
     "name": "stderr",
     "output_type": "stream",
     "text": [
      " 13%|█▎        | 386986/3000000 [3:43:02<15:07:56, 47.97it/s] "
     ]
    },
    {
     "name": "stdout",
     "output_type": "stream",
     "text": [
      "ep_rew_main =  [1.4533582]\n",
      "test_rew_main =  0.5054430233252005\n"
     ]
    },
    {
     "name": "stderr",
     "output_type": "stream",
     "text": [
      " 13%|█▎        | 389993/3000000 [3:44:55<14:06:51, 51.37it/s] "
     ]
    },
    {
     "name": "stdout",
     "output_type": "stream",
     "text": [
      "ep_rew_main =  [1.3479922]\n",
      "test_rew_main =  0.5980317670598883\n",
      "current_time =  2022-02-15T02:33:20.124858\n"
     ]
    },
    {
     "name": "stderr",
     "output_type": "stream",
     "text": [
      " 13%|█▎        | 390000/3000000 [3:46:07<859:53:10,  1.19s/it]"
     ]
    },
    {
     "name": "stdout",
     "output_type": "stream",
     "text": [
      "current_time =  2022-02-15T02:34:20.554976\n"
     ]
    },
    {
     "name": "stderr",
     "output_type": "stream",
     "text": [
      " 13%|█▎        | 392984/3000000 [3:47:48<15:15:12, 47.48it/s] "
     ]
    },
    {
     "name": "stdout",
     "output_type": "stream",
     "text": [
      "ep_rew_main =  [1.5068293]\n"
     ]
    },
    {
     "name": "stderr",
     "output_type": "stream",
     "text": [
      " 13%|█▎        | 393000/3000000 [3:48:01<141:57:27,  5.10it/s]"
     ]
    },
    {
     "name": "stdout",
     "output_type": "stream",
     "text": [
      "test_rew_main =  0.48321560687237647\n"
     ]
    },
    {
     "name": "stderr",
     "output_type": "stream",
     "text": [
      " 13%|█▎        | 395988/3000000 [3:49:43<14:54:31, 48.52it/s] "
     ]
    },
    {
     "name": "stdout",
     "output_type": "stream",
     "text": [
      "ep_rew_main =  [1.8004005]\n",
      "test_rew_main =  0.5392291425763149\n"
     ]
    },
    {
     "name": "stderr",
     "output_type": "stream",
     "text": [
      " 13%|█▎        | 398984/3000000 [3:51:38<17:30:14, 41.28it/s] "
     ]
    },
    {
     "name": "stdout",
     "output_type": "stream",
     "text": [
      "ep_rew_main =  [1.7768568]\n"
     ]
    },
    {
     "name": "stderr",
     "output_type": "stream",
     "text": [
      " 13%|█▎        | 399000/3000000 [3:51:50<134:28:57,  5.37it/s]"
     ]
    },
    {
     "name": "stdout",
     "output_type": "stream",
     "text": [
      "test_rew_main =  0.5639609552758427\n"
     ]
    },
    {
     "name": "stderr",
     "output_type": "stream",
     "text": [
      " 13%|█▎        | 401997/3000000 [3:53:32<11:47:37, 61.19it/s] "
     ]
    },
    {
     "name": "stdout",
     "output_type": "stream",
     "text": [
      "ep_rew_main =  [1.7628746]\n",
      "test_rew_main =  0.49819690171616376\n"
     ]
    },
    {
     "name": "stderr",
     "output_type": "stream",
     "text": [
      " 13%|█▎        | 404991/3000000 [3:55:27<14:46:56, 48.76it/s] "
     ]
    },
    {
     "name": "stdout",
     "output_type": "stream",
     "text": [
      "ep_rew_main =  [1.3602122]\n",
      "test_rew_main =  0.5104633089631202\n"
     ]
    },
    {
     "name": "stderr",
     "output_type": "stream",
     "text": [
      " 14%|█▎        | 407980/3000000 [3:57:23<15:39:05, 46.00it/s] "
     ]
    },
    {
     "name": "stdout",
     "output_type": "stream",
     "text": [
      "ep_rew_main =  [1.5083401]\n",
      "test_rew_main =  0.5456349359711444\n"
     ]
    },
    {
     "name": "stderr",
     "output_type": "stream",
     "text": [
      " 14%|█▎        | 410991/3000000 [3:59:20<14:35:01, 49.31it/s] "
     ]
    },
    {
     "name": "stdout",
     "output_type": "stream",
     "text": [
      "ep_rew_main =  [1.6180148]\n"
     ]
    },
    {
     "name": "stderr",
     "output_type": "stream",
     "text": [
      " 14%|█▎        | 411000/3000000 [3:59:32<146:08:06,  4.92it/s]"
     ]
    },
    {
     "name": "stdout",
     "output_type": "stream",
     "text": [
      "test_rew_main =  0.47619084860526845\n"
     ]
    },
    {
     "name": "stderr",
     "output_type": "stream",
     "text": [
      " 14%|█▍        | 413982/3000000 [4:01:17<15:06:28, 47.55it/s] "
     ]
    },
    {
     "name": "stdout",
     "output_type": "stream",
     "text": [
      "ep_rew_main =  [1.3677952]\n",
      "test_rew_main =  0.4014940524127154\n"
     ]
    },
    {
     "name": "stderr",
     "output_type": "stream",
     "text": [
      " 14%|█▍        | 416998/3000000 [4:03:15<12:26:06, 57.70it/s] "
     ]
    },
    {
     "name": "stdout",
     "output_type": "stream",
     "text": [
      "ep_rew_main =  [1.4661186]\n",
      "test_rew_main =  0.34441205699921157\n"
     ]
    },
    {
     "name": "stderr",
     "output_type": "stream",
     "text": [
      " 14%|█▍        | 419998/3000000 [4:05:12<12:26:36, 57.59it/s] "
     ]
    },
    {
     "name": "stdout",
     "output_type": "stream",
     "text": [
      "ep_rew_main =  [1.845304]\n",
      "test_rew_main =  0.3616801962746351\n",
      "current_time =  2022-02-15T02:53:37.372904\n"
     ]
    },
    {
     "name": "stderr",
     "output_type": "stream",
     "text": [
      " 14%|█▍        | 420000/3000000 [4:06:25<953:01:38,  1.33s/it]"
     ]
    },
    {
     "name": "stdout",
     "output_type": "stream",
     "text": [
      "current_time =  2022-02-15T02:54:38.053864\n"
     ]
    },
    {
     "name": "stderr",
     "output_type": "stream",
     "text": [
      " 14%|█▍        | 422982/3000000 [4:08:12<15:14:37, 46.96it/s] "
     ]
    },
    {
     "name": "stdout",
     "output_type": "stream",
     "text": [
      "ep_rew_main =  [1.7824576]\n",
      "test_rew_main =  0.5911651795960289\n"
     ]
    },
    {
     "name": "stderr",
     "output_type": "stream",
     "text": [
      " 14%|█▍        | 425980/3000000 [4:10:11<15:32:41, 46.00it/s] "
     ]
    },
    {
     "name": "stdout",
     "output_type": "stream",
     "text": [
      "ep_rew_main =  [1.6854012]\n"
     ]
    },
    {
     "name": "stderr",
     "output_type": "stream",
     "text": [
      " 14%|█▍        | 426000/3000000 [4:10:23<122:28:57,  5.84it/s]"
     ]
    },
    {
     "name": "stdout",
     "output_type": "stream",
     "text": [
      "test_rew_main =  0.4310286517718975\n"
     ]
    },
    {
     "name": "stderr",
     "output_type": "stream",
     "text": [
      " 14%|█▍        | 428980/3000000 [4:12:10<15:28:38, 46.14it/s] "
     ]
    },
    {
     "name": "stdout",
     "output_type": "stream",
     "text": [
      "ep_rew_main =  [1.8687649]\n"
     ]
    },
    {
     "name": "stderr",
     "output_type": "stream",
     "text": [
      " 14%|█▍        | 429000/3000000 [4:12:22<122:38:41,  5.82it/s]"
     ]
    },
    {
     "name": "stdout",
     "output_type": "stream",
     "text": [
      "test_rew_main =  0.6382396088815883\n"
     ]
    },
    {
     "name": "stderr",
     "output_type": "stream",
     "text": [
      " 14%|█▍        | 431997/3000000 [4:14:11<12:47:03, 55.80it/s] "
     ]
    },
    {
     "name": "stdout",
     "output_type": "stream",
     "text": [
      "ep_rew_main =  [1.699933]\n"
     ]
    },
    {
     "name": "stderr",
     "output_type": "stream",
     "text": [
      " 14%|█▍        | 432000/3000000 [4:14:23<165:36:47,  4.31it/s]"
     ]
    },
    {
     "name": "stdout",
     "output_type": "stream",
     "text": [
      "test_rew_main =  0.5828027197719461\n"
     ]
    },
    {
     "name": "stderr",
     "output_type": "stream",
     "text": [
      " 14%|█▍        | 434998/3000000 [4:16:12<12:23:33, 57.49it/s] "
     ]
    },
    {
     "name": "stdout",
     "output_type": "stream",
     "text": [
      "ep_rew_main =  [1.6510714]\n"
     ]
    },
    {
     "name": "stderr",
     "output_type": "stream",
     "text": [
      " 14%|█▍        | 435000/3000000 [4:16:24<159:25:26,  4.47it/s]"
     ]
    },
    {
     "name": "stdout",
     "output_type": "stream",
     "text": [
      "test_rew_main =  0.5181932507097787\n"
     ]
    },
    {
     "name": "stderr",
     "output_type": "stream",
     "text": [
      " 15%|█▍        | 437984/3000000 [4:18:13<15:17:34, 46.54it/s] "
     ]
    },
    {
     "name": "stdout",
     "output_type": "stream",
     "text": [
      "ep_rew_main =  [0.9808247]\n",
      "test_rew_main =  0.5732983395437641\n"
     ]
    },
    {
     "name": "stderr",
     "output_type": "stream",
     "text": [
      " 15%|█▍        | 440989/3000000 [4:20:15<15:40:49, 45.33it/s] "
     ]
    },
    {
     "name": "stdout",
     "output_type": "stream",
     "text": [
      "ep_rew_main =  [1.6398842]\n",
      "test_rew_main =  0.3939752289840174\n"
     ]
    },
    {
     "name": "stderr",
     "output_type": "stream",
     "text": [
      " 15%|█▍        | 443998/3000000 [4:22:19<12:42:57, 55.84it/s] "
     ]
    },
    {
     "name": "stdout",
     "output_type": "stream",
     "text": [
      "ep_rew_main =  [1.9290984]\n",
      "test_rew_main =  0.5338068147640899\n"
     ]
    },
    {
     "name": "stderr",
     "output_type": "stream",
     "text": [
      " 15%|█▍        | 446978/3000000 [4:24:21<16:18:49, 43.47it/s] "
     ]
    },
    {
     "name": "stdout",
     "output_type": "stream",
     "text": [
      "ep_rew_main =  [2.0342245]\n"
     ]
    },
    {
     "name": "stderr",
     "output_type": "stream",
     "text": [
      " 15%|█▍        | 447000/3000000 [4:24:33<124:03:59,  5.72it/s]"
     ]
    },
    {
     "name": "stdout",
     "output_type": "stream",
     "text": [
      "test_rew_main =  0.580807576988861\n"
     ]
    },
    {
     "name": "stderr",
     "output_type": "stream",
     "text": [
      " 15%|█▍        | 449988/3000000 [4:26:25<15:42:26, 45.10it/s] "
     ]
    },
    {
     "name": "stdout",
     "output_type": "stream",
     "text": [
      "ep_rew_main =  [1.7181424]\n",
      "test_rew_main =  0.6739403670358943\n",
      "current_time =  2022-02-15T03:14:50.110575\n"
     ]
    },
    {
     "name": "stderr",
     "output_type": "stream",
     "text": [
      " 15%|█▌        | 450000/3000000 [4:27:37<767:00:22,  1.08s/it]"
     ]
    },
    {
     "name": "stdout",
     "output_type": "stream",
     "text": [
      "current_time =  2022-02-15T03:15:50.613694\n"
     ]
    },
    {
     "name": "stderr",
     "output_type": "stream",
     "text": [
      " 15%|█▌        | 452994/3000000 [4:29:31<12:38:22, 55.98it/s] "
     ]
    },
    {
     "name": "stdout",
     "output_type": "stream",
     "text": [
      "ep_rew_main =  [1.9336782]\n",
      "test_rew_main =  0.5312464861688186\n"
     ]
    },
    {
     "name": "stderr",
     "output_type": "stream",
     "text": [
      " 15%|█▌        | 455998/3000000 [4:31:36<13:20:13, 52.99it/s] "
     ]
    },
    {
     "name": "stdout",
     "output_type": "stream",
     "text": [
      "ep_rew_main =  [1.7611499]\n",
      "test_rew_main =  0.5957620204123556\n"
     ]
    },
    {
     "name": "stderr",
     "output_type": "stream",
     "text": [
      " 15%|█▌        | 458997/3000000 [4:33:41<12:46:33, 55.25it/s] "
     ]
    },
    {
     "name": "stdout",
     "output_type": "stream",
     "text": [
      "ep_rew_main =  [2.0722299]\n",
      "test_rew_main =  0.511982749892903\n"
     ]
    },
    {
     "name": "stderr",
     "output_type": "stream",
     "text": [
      " 15%|█▌        | 461982/3000000 [4:35:47<15:48:48, 44.58it/s] "
     ]
    },
    {
     "name": "stdout",
     "output_type": "stream",
     "text": [
      "ep_rew_main =  [1.9771321]\n",
      "test_rew_main =  0.6462593242052957\n"
     ]
    },
    {
     "name": "stderr",
     "output_type": "stream",
     "text": [
      " 15%|█▌        | 464982/3000000 [4:37:53<16:41:14, 42.20it/s] "
     ]
    },
    {
     "name": "stdout",
     "output_type": "stream",
     "text": [
      "ep_rew_main =  [1.7191801]\n"
     ]
    },
    {
     "name": "stderr",
     "output_type": "stream",
     "text": [
      " 16%|█▌        | 465000/3000000 [4:38:06<135:29:17,  5.20it/s]"
     ]
    },
    {
     "name": "stdout",
     "output_type": "stream",
     "text": [
      "test_rew_main =  0.6739594651385172\n"
     ]
    },
    {
     "name": "stderr",
     "output_type": "stream",
     "text": [
      " 16%|█▌        | 467997/3000000 [4:40:01<12:50:16, 54.79it/s] "
     ]
    },
    {
     "name": "stdout",
     "output_type": "stream",
     "text": [
      "ep_rew_main =  [1.5958121]\n",
      "test_rew_main =  0.3763620599744468\n"
     ]
    },
    {
     "name": "stderr",
     "output_type": "stream",
     "text": [
      " 16%|█▌        | 470984/3000000 [4:42:09<16:02:54, 43.77it/s] "
     ]
    },
    {
     "name": "stdout",
     "output_type": "stream",
     "text": [
      "ep_rew_main =  [1.5130348]\n",
      "test_rew_main =  0.6570716935301654\n"
     ]
    },
    {
     "name": "stderr",
     "output_type": "stream",
     "text": [
      " 16%|█▌        | 473984/3000000 [4:44:17<16:24:14, 42.77it/s] "
     ]
    },
    {
     "name": "stdout",
     "output_type": "stream",
     "text": [
      "ep_rew_main =  [1.7931268]\n",
      "test_rew_main =  0.5693041975306781\n"
     ]
    },
    {
     "name": "stderr",
     "output_type": "stream",
     "text": [
      " 16%|█▌        | 476985/3000000 [4:46:25<16:06:23, 43.51it/s] "
     ]
    },
    {
     "name": "stdout",
     "output_type": "stream",
     "text": [
      "ep_rew_main =  [1.23382]\n"
     ]
    },
    {
     "name": "stderr",
     "output_type": "stream",
     "text": [
      " 16%|█▌        | 477000/3000000 [4:46:37<132:49:17,  5.28it/s]"
     ]
    },
    {
     "name": "stdout",
     "output_type": "stream",
     "text": [
      "test_rew_main =  0.48243705023090416\n"
     ]
    },
    {
     "name": "stderr",
     "output_type": "stream",
     "text": [
      " 16%|█▌        | 479997/3000000 [4:48:35<12:52:16, 54.39it/s] "
     ]
    },
    {
     "name": "stdout",
     "output_type": "stream",
     "text": [
      "ep_rew_main =  [1.9742124]\n"
     ]
    },
    {
     "name": "stderr",
     "output_type": "stream",
     "text": [
      " 16%|█▌        | 479997/3000000 [4:48:46<12:52:16, 54.39it/s]"
     ]
    },
    {
     "name": "stdout",
     "output_type": "stream",
     "text": [
      "test_rew_main =  0.6071783971515897\n",
      "current_time =  2022-02-15T03:36:59.360385\n"
     ]
    },
    {
     "name": "stderr",
     "output_type": "stream",
     "text": [
      " 16%|█▌        | 480000/3000000 [4:49:47<882:00:54,  1.26s/it]"
     ]
    },
    {
     "name": "stdout",
     "output_type": "stream",
     "text": [
      "current_time =  2022-02-15T03:38:00.259850\n"
     ]
    },
    {
     "name": "stderr",
     "output_type": "stream",
     "text": [
      " 16%|█▌        | 482998/3000000 [4:51:45<12:33:48, 55.65it/s] "
     ]
    },
    {
     "name": "stdout",
     "output_type": "stream",
     "text": [
      "ep_rew_main =  [1.7908856]\n"
     ]
    },
    {
     "name": "stderr",
     "output_type": "stream",
     "text": [
      " 16%|█▌        | 483000/3000000 [4:51:58<170:30:54,  4.10it/s]"
     ]
    },
    {
     "name": "stdout",
     "output_type": "stream",
     "text": [
      "test_rew_main =  0.6240745599370419\n"
     ]
    },
    {
     "name": "stderr",
     "output_type": "stream",
     "text": [
      " 16%|█▌        | 485992/3000000 [4:53:56<15:35:15, 44.80it/s] "
     ]
    },
    {
     "name": "stdout",
     "output_type": "stream",
     "text": [
      "ep_rew_main =  [1.9997199]\n"
     ]
    },
    {
     "name": "stderr",
     "output_type": "stream",
     "text": [
      " 16%|█▌        | 486000/3000000 [4:54:08<146:26:06,  4.77it/s]"
     ]
    },
    {
     "name": "stdout",
     "output_type": "stream",
     "text": [
      "test_rew_main =  0.5122035446561618\n"
     ]
    },
    {
     "name": "stderr",
     "output_type": "stream",
     "text": [
      " 16%|█▋        | 488992/3000000 [4:56:07<16:03:36, 43.43it/s] "
     ]
    },
    {
     "name": "stdout",
     "output_type": "stream",
     "text": [
      "ep_rew_main =  [1.9543431]\n",
      "test_rew_main =  0.6382822843621158\n"
     ]
    },
    {
     "name": "stderr",
     "output_type": "stream",
     "text": [
      " 16%|█▋        | 491990/3000000 [4:58:19<15:53:50, 43.82it/s] "
     ]
    },
    {
     "name": "stdout",
     "output_type": "stream",
     "text": [
      "ep_rew_main =  [1.7265868]\n",
      "test_rew_main =  0.562567596056407\n"
     ]
    },
    {
     "name": "stderr",
     "output_type": "stream",
     "text": [
      " 16%|█▋        | 494998/3000000 [5:00:29<13:05:46, 53.13it/s] "
     ]
    },
    {
     "name": "stdout",
     "output_type": "stream",
     "text": [
      "ep_rew_main =  [0.99659497]\n",
      "test_rew_main =  0.45699477074102407\n"
     ]
    },
    {
     "name": "stderr",
     "output_type": "stream",
     "text": [
      " 17%|█▋        | 497988/3000000 [5:02:42<16:06:27, 43.15it/s] "
     ]
    },
    {
     "name": "stdout",
     "output_type": "stream",
     "text": [
      "ep_rew_main =  [1.7822094]\n",
      "test_rew_main =  0.5070624574888546\n"
     ]
    },
    {
     "name": "stderr",
     "output_type": "stream",
     "text": [
      " 17%|█▋        | 500980/3000000 [5:04:55<16:28:02, 42.15it/s] "
     ]
    },
    {
     "name": "stdout",
     "output_type": "stream",
     "text": [
      "ep_rew_main =  [1.3555617]\n"
     ]
    },
    {
     "name": "stderr",
     "output_type": "stream",
     "text": [
      " 17%|█▋        | 500980/3000000 [5:05:08<16:28:02, 42.15it/s]"
     ]
    },
    {
     "name": "stdout",
     "output_type": "stream",
     "text": [
      "test_rew_main =  0.6267644714768449\n"
     ]
    },
    {
     "name": "stderr",
     "output_type": "stream",
     "text": [
      " 17%|█▋        | 503989/3000000 [5:07:10<16:34:39, 41.82it/s] "
     ]
    },
    {
     "name": "stdout",
     "output_type": "stream",
     "text": [
      "ep_rew_main =  [1.5511441]\n",
      "test_rew_main =  0.6499771330596127\n"
     ]
    },
    {
     "name": "stderr",
     "output_type": "stream",
     "text": [
      " 17%|█▋        | 506987/3000000 [5:09:23<16:21:40, 42.33it/s] "
     ]
    },
    {
     "name": "stdout",
     "output_type": "stream",
     "text": [
      "ep_rew_main =  [1.908678]\n",
      "test_rew_main =  0.5434914192743204\n"
     ]
    },
    {
     "name": "stderr",
     "output_type": "stream",
     "text": [
      " 17%|█▋        | 509991/3000000 [5:11:39<16:11:34, 42.71it/s] "
     ]
    },
    {
     "name": "stdout",
     "output_type": "stream",
     "text": [
      "ep_rew_main =  [1.6115983]\n",
      "test_rew_main =  0.496146731597556\n",
      "current_time =  2022-02-15T04:00:03.525304\n"
     ]
    },
    {
     "name": "stderr",
     "output_type": "stream",
     "text": [
      " 17%|█▋        | 510000/3000000 [5:12:52<790:16:46,  1.14s/it]"
     ]
    },
    {
     "name": "stdout",
     "output_type": "stream",
     "text": [
      "current_time =  2022-02-15T04:01:04.959034\n"
     ]
    },
    {
     "name": "stderr",
     "output_type": "stream",
     "text": [
      " 17%|█▋        | 512991/3000000 [5:14:54<16:19:02, 42.34it/s] "
     ]
    },
    {
     "name": "stdout",
     "output_type": "stream",
     "text": [
      "ep_rew_main =  [1.4874852]\n",
      "test_rew_main =  0.687110260082293\n"
     ]
    },
    {
     "name": "stderr",
     "output_type": "stream",
     "text": [
      " 17%|█▋        | 515979/3000000 [5:17:12<17:48:11, 38.76it/s] "
     ]
    },
    {
     "name": "stdout",
     "output_type": "stream",
     "text": [
      "ep_rew_main =  [1.6935453]\n"
     ]
    },
    {
     "name": "stderr",
     "output_type": "stream",
     "text": [
      " 17%|█▋        | 516000/3000000 [5:17:23<115:16:28,  5.99it/s]"
     ]
    },
    {
     "name": "stdout",
     "output_type": "stream",
     "text": [
      "test_rew_main =  0.5801408832307928\n"
     ]
    },
    {
     "name": "stderr",
     "output_type": "stream",
     "text": [
      " 17%|█▋        | 518977/3000000 [5:19:28<17:28:30, 39.44it/s] "
     ]
    },
    {
     "name": "stdout",
     "output_type": "stream",
     "text": [
      "ep_rew_main =  [1.8968024]\n"
     ]
    },
    {
     "name": "stderr",
     "output_type": "stream",
     "text": [
      " 17%|█▋        | 519000/3000000 [5:19:41<123:13:31,  5.59it/s]"
     ]
    },
    {
     "name": "stdout",
     "output_type": "stream",
     "text": [
      "test_rew_main =  0.6389481615709192\n"
     ]
    },
    {
     "name": "stderr",
     "output_type": "stream",
     "text": [
      " 17%|█▋        | 521986/3000000 [5:21:46<17:21:55, 39.64it/s] "
     ]
    },
    {
     "name": "stdout",
     "output_type": "stream",
     "text": [
      "ep_rew_main =  [1.7068291]\n",
      "test_rew_main =  0.6183621209522284\n"
     ]
    },
    {
     "name": "stderr",
     "output_type": "stream",
     "text": [
      " 17%|█▋        | 524983/3000000 [5:24:03<17:02:00, 40.36it/s] "
     ]
    },
    {
     "name": "stdout",
     "output_type": "stream",
     "text": [
      "ep_rew_main =  [1.9864516]\n",
      "test_rew_main =  0.6531212593713682\n"
     ]
    },
    {
     "name": "stderr",
     "output_type": "stream",
     "text": [
      " 18%|█▊        | 527983/3000000 [5:26:21<17:30:23, 39.22it/s] "
     ]
    },
    {
     "name": "stdout",
     "output_type": "stream",
     "text": [
      "ep_rew_main =  [1.9728727]\n",
      "test_rew_main =  0.4067386453937637\n"
     ]
    },
    {
     "name": "stderr",
     "output_type": "stream",
     "text": [
      " 18%|█▊        | 530993/3000000 [5:28:41<16:44:58, 40.95it/s] "
     ]
    },
    {
     "name": "stdout",
     "output_type": "stream",
     "text": [
      "ep_rew_main =  [0.97061324]\n"
     ]
    },
    {
     "name": "stderr",
     "output_type": "stream",
     "text": [
      " 18%|█▊        | 531000/3000000 [5:28:53<149:54:11,  4.58it/s]"
     ]
    },
    {
     "name": "stdout",
     "output_type": "stream",
     "text": [
      "test_rew_main =  0.6107702176871513\n"
     ]
    },
    {
     "name": "stderr",
     "output_type": "stream",
     "text": [
      " 18%|█▊        | 533980/3000000 [5:30:59<17:46:24, 38.54it/s] "
     ]
    },
    {
     "name": "stdout",
     "output_type": "stream",
     "text": [
      "ep_rew_main =  [1.756505]\n"
     ]
    },
    {
     "name": "stderr",
     "output_type": "stream",
     "text": [
      " 18%|█▊        | 533980/3000000 [5:31:11<17:46:24, 38.54it/s]"
     ]
    },
    {
     "name": "stdout",
     "output_type": "stream",
     "text": [
      "test_rew_main =  0.5245422015387884\n"
     ]
    },
    {
     "name": "stderr",
     "output_type": "stream",
     "text": [
      " 18%|█▊        | 536998/3000000 [5:33:19<13:24:12, 51.04it/s] "
     ]
    },
    {
     "name": "stdout",
     "output_type": "stream",
     "text": [
      "ep_rew_main =  [1.9407964]\n",
      "test_rew_main =  0.5553706198992986\n"
     ]
    },
    {
     "name": "stderr",
     "output_type": "stream",
     "text": [
      " 18%|█▊        | 539977/3000000 [5:35:40<17:50:01, 38.32it/s] "
     ]
    },
    {
     "name": "stdout",
     "output_type": "stream",
     "text": [
      "ep_rew_main =  [1.5931422]\n"
     ]
    },
    {
     "name": "stderr",
     "output_type": "stream",
     "text": [
      " 18%|█▊        | 539977/3000000 [5:35:51<17:50:01, 38.32it/s]"
     ]
    },
    {
     "name": "stdout",
     "output_type": "stream",
     "text": [
      "test_rew_main =  0.5202599791017122\n",
      "current_time =  2022-02-15T04:24:05.195444\n"
     ]
    },
    {
     "name": "stderr",
     "output_type": "stream",
     "text": [
      " 18%|█▊        | 540000/3000000 [5:36:52<642:46:01,  1.06it/s]"
     ]
    },
    {
     "name": "stdout",
     "output_type": "stream",
     "text": [
      "current_time =  2022-02-15T04:25:05.306799\n"
     ]
    },
    {
     "name": "stderr",
     "output_type": "stream",
     "text": [
      " 18%|█▊        | 542983/3000000 [5:39:01<18:05:43, 37.72it/s] "
     ]
    },
    {
     "name": "stdout",
     "output_type": "stream",
     "text": [
      "ep_rew_main =  [2.172163]\n"
     ]
    },
    {
     "name": "stderr",
     "output_type": "stream",
     "text": [
      " 18%|█▊        | 543000/3000000 [5:39:13<136:21:35,  5.01it/s]"
     ]
    },
    {
     "name": "stdout",
     "output_type": "stream",
     "text": [
      "test_rew_main =  0.5046468607611694\n"
     ]
    },
    {
     "name": "stderr",
     "output_type": "stream",
     "text": [
      " 18%|█▊        | 545979/3000000 [5:41:23<17:45:08, 38.40it/s] "
     ]
    },
    {
     "name": "stdout",
     "output_type": "stream",
     "text": [
      "ep_rew_main =  [1.3003297]\n"
     ]
    },
    {
     "name": "stderr",
     "output_type": "stream",
     "text": [
      " 18%|█▊        | 546000/3000000 [5:41:35<121:44:15,  5.60it/s]"
     ]
    },
    {
     "name": "stdout",
     "output_type": "stream",
     "text": [
      "test_rew_main =  0.5944894722765841\n"
     ]
    },
    {
     "name": "stderr",
     "output_type": "stream",
     "text": [
      " 18%|█▊        | 548987/3000000 [5:43:44<17:10:03, 39.66it/s] "
     ]
    },
    {
     "name": "stdout",
     "output_type": "stream",
     "text": [
      "ep_rew_main =  [1.8783867]\n",
      "test_rew_main =  0.6408438694084568\n"
     ]
    },
    {
     "name": "stderr",
     "output_type": "stream",
     "text": [
      " 18%|█▊        | 551993/3000000 [5:46:08<14:01:52, 48.46it/s] "
     ]
    },
    {
     "name": "stdout",
     "output_type": "stream",
     "text": [
      "ep_rew_main =  [1.9257803]\n",
      "test_rew_main =  0.5873360376751672\n"
     ]
    },
    {
     "name": "stderr",
     "output_type": "stream",
     "text": [
      " 18%|█▊        | 554983/3000000 [5:48:30<18:02:32, 37.64it/s] "
     ]
    },
    {
     "name": "stdout",
     "output_type": "stream",
     "text": [
      "ep_rew_main =  [1.8016745]\n",
      "test_rew_main =  0.6177179200957619\n"
     ]
    },
    {
     "name": "stderr",
     "output_type": "stream",
     "text": [
      " 19%|█▊        | 557989/3000000 [5:50:53<17:40:43, 38.37it/s] "
     ]
    },
    {
     "name": "stdout",
     "output_type": "stream",
     "text": [
      "ep_rew_main =  [1.2217878]\n"
     ]
    },
    {
     "name": "stderr",
     "output_type": "stream",
     "text": [
      " 19%|█▊        | 558000/3000000 [5:51:05<142:45:13,  4.75it/s]"
     ]
    },
    {
     "name": "stdout",
     "output_type": "stream",
     "text": [
      "test_rew_main =  0.5426703487105529\n"
     ]
    },
    {
     "name": "stderr",
     "output_type": "stream",
     "text": [
      " 19%|█▊        | 560977/3000000 [5:53:17<17:46:27, 38.12it/s] "
     ]
    },
    {
     "name": "stdout",
     "output_type": "stream",
     "text": [
      "ep_rew_main =  [2.1405323]\n"
     ]
    },
    {
     "name": "stderr",
     "output_type": "stream",
     "text": [
      " 19%|█▊        | 561000/3000000 [5:53:28<109:39:20,  6.18it/s]"
     ]
    },
    {
     "name": "stdout",
     "output_type": "stream",
     "text": [
      "test_rew_main =  0.558927525234234\n"
     ]
    },
    {
     "name": "stderr",
     "output_type": "stream",
     "text": [
      " 19%|█▉        | 563987/3000000 [5:55:40<17:08:10, 39.49it/s] "
     ]
    },
    {
     "name": "stdout",
     "output_type": "stream",
     "text": [
      "ep_rew_main =  [1.8099842]\n",
      "test_rew_main =  0.5128760622457345\n"
     ]
    },
    {
     "name": "stderr",
     "output_type": "stream",
     "text": [
      " 19%|█▉        | 566987/3000000 [5:58:05<17:35:14, 38.43it/s] "
     ]
    },
    {
     "name": "stdout",
     "output_type": "stream",
     "text": [
      "ep_rew_main =  [1.8240627]\n",
      "test_rew_main =  0.6154132712869923\n"
     ]
    },
    {
     "name": "stderr",
     "output_type": "stream",
     "text": [
      " 19%|█▉        | 569980/3000000 [6:00:31<17:53:18, 37.73it/s] "
     ]
    },
    {
     "name": "stdout",
     "output_type": "stream",
     "text": [
      "ep_rew_main =  [1.8562168]\n",
      "test_rew_main =  0.5517113942391146\n",
      "current_time =  2022-02-15T04:48:55.549991\n"
     ]
    },
    {
     "name": "stderr",
     "output_type": "stream",
     "text": [
      " 19%|█▉        | 570000/3000000 [6:01:44<662:58:52,  1.02it/s]"
     ]
    },
    {
     "name": "stdout",
     "output_type": "stream",
     "text": [
      "current_time =  2022-02-15T04:49:57.171480\n"
     ]
    },
    {
     "name": "stderr",
     "output_type": "stream",
     "text": [
      " 19%|█▉        | 572998/3000000 [6:03:58<14:10:53, 47.54it/s] "
     ]
    },
    {
     "name": "stdout",
     "output_type": "stream",
     "text": [
      "ep_rew_main =  [1.7120452]\n",
      "test_rew_main =  0.32491253862324454\n"
     ]
    },
    {
     "name": "stderr",
     "output_type": "stream",
     "text": [
      " 19%|█▉        | 575997/3000000 [6:06:25<13:35:18, 49.55it/s] "
     ]
    },
    {
     "name": "stdout",
     "output_type": "stream",
     "text": [
      "ep_rew_main =  [1.8595018]\n",
      "test_rew_main =  0.6061372446006177\n"
     ]
    },
    {
     "name": "stderr",
     "output_type": "stream",
     "text": [
      " 19%|█▉        | 578982/3000000 [6:08:53<18:25:10, 36.51it/s] "
     ]
    },
    {
     "name": "stdout",
     "output_type": "stream",
     "text": [
      "ep_rew_main =  [1.5390043]\n",
      "test_rew_main =  0.5661081510504333\n"
     ]
    },
    {
     "name": "stderr",
     "output_type": "stream",
     "text": [
      " 19%|█▉        | 581983/3000000 [6:11:20<18:33:22, 36.20it/s] "
     ]
    },
    {
     "name": "stdout",
     "output_type": "stream",
     "text": [
      "ep_rew_main =  [1.7989475]\n",
      "test_rew_main =  0.5366219009343303\n"
     ]
    },
    {
     "name": "stderr",
     "output_type": "stream",
     "text": [
      " 19%|█▉        | 584997/3000000 [6:13:48<13:58:34, 48.00it/s] "
     ]
    },
    {
     "name": "stdout",
     "output_type": "stream",
     "text": [
      "ep_rew_main =  [2.0090642]\n"
     ]
    },
    {
     "name": "stderr",
     "output_type": "stream",
     "text": [
      " 20%|█▉        | 585000/3000000 [6:14:00<152:16:59,  4.41it/s]"
     ]
    },
    {
     "name": "stdout",
     "output_type": "stream",
     "text": [
      "test_rew_main =  0.5520804641521916\n"
     ]
    },
    {
     "name": "stderr",
     "output_type": "stream",
     "text": [
      " 20%|█▉        | 587990/3000000 [6:16:16<17:31:15, 38.24it/s] "
     ]
    },
    {
     "name": "stdout",
     "output_type": "stream",
     "text": [
      "ep_rew_main =  [1.8731126]\n",
      "test_rew_main =  0.6292144775961167\n"
     ]
    },
    {
     "name": "stderr",
     "output_type": "stream",
     "text": [
      " 20%|█▉        | 590987/3000000 [6:18:46<17:56:08, 37.31it/s] "
     ]
    },
    {
     "name": "stdout",
     "output_type": "stream",
     "text": [
      "ep_rew_main =  [2.045567]\n",
      "test_rew_main =  0.494838546088192\n"
     ]
    },
    {
     "name": "stderr",
     "output_type": "stream",
     "text": [
      " 20%|█▉        | 593994/3000000 [6:21:15<14:40:00, 45.57it/s] "
     ]
    },
    {
     "name": "stdout",
     "output_type": "stream",
     "text": [
      "ep_rew_main =  [2.1068745]\n",
      "test_rew_main =  0.6313138457195869\n"
     ]
    },
    {
     "name": "stderr",
     "output_type": "stream",
     "text": [
      " 20%|█▉        | 596994/3000000 [6:23:46<17:16:33, 38.64it/s] "
     ]
    },
    {
     "name": "stdout",
     "output_type": "stream",
     "text": [
      "ep_rew_main =  [1.9613693]\n",
      "test_rew_main =  0.46781137864839833\n"
     ]
    },
    {
     "name": "stderr",
     "output_type": "stream",
     "text": [
      " 20%|█▉        | 599984/3000000 [6:26:16<18:07:33, 36.78it/s] "
     ]
    },
    {
     "name": "stdout",
     "output_type": "stream",
     "text": [
      "ep_rew_main =  [1.2779878]\n",
      "test_rew_main =  0.5664128677627216\n",
      "current_time =  2022-02-15T05:14:41.555533\n"
     ]
    },
    {
     "name": "stderr",
     "output_type": "stream",
     "text": [
      " 20%|██        | 600000/3000000 [6:27:28<676:47:38,  1.02s/it]"
     ]
    },
    {
     "name": "stdout",
     "output_type": "stream",
     "text": [
      "current_time =  2022-02-15T05:15:41.316840\n"
     ]
    },
    {
     "name": "stderr",
     "output_type": "stream",
     "text": [
      " 20%|██        | 602989/3000000 [6:29:47<17:54:36, 37.18it/s] "
     ]
    },
    {
     "name": "stdout",
     "output_type": "stream",
     "text": [
      "ep_rew_main =  [1.8588221]\n"
     ]
    },
    {
     "name": "stderr",
     "output_type": "stream",
     "text": [
      " 20%|██        | 603000/3000000 [6:30:00<147:28:57,  4.51it/s]"
     ]
    },
    {
     "name": "stdout",
     "output_type": "stream",
     "text": [
      "test_rew_main =  0.5236501223090534\n"
     ]
    },
    {
     "name": "stderr",
     "output_type": "stream",
     "text": [
      " 20%|██        | 605983/3000000 [6:32:20<18:07:55, 36.68it/s] "
     ]
    },
    {
     "name": "stdout",
     "output_type": "stream",
     "text": [
      "ep_rew_main =  [1.715456]\n"
     ]
    },
    {
     "name": "stderr",
     "output_type": "stream",
     "text": [
      " 20%|██        | 606000/3000000 [6:32:32<129:26:24,  5.14it/s]"
     ]
    },
    {
     "name": "stdout",
     "output_type": "stream",
     "text": [
      "test_rew_main =  0.4864920114422168\n"
     ]
    },
    {
     "name": "stderr",
     "output_type": "stream",
     "text": [
      " 20%|██        | 608998/3000000 [6:34:53<14:13:31, 46.69it/s] "
     ]
    },
    {
     "name": "stdout",
     "output_type": "stream",
     "text": [
      "ep_rew_main =  [1.9450186]\n",
      "test_rew_main =  0.5958680061987718\n"
     ]
    },
    {
     "name": "stderr",
     "output_type": "stream",
     "text": [
      " 20%|██        | 611997/3000000 [6:37:27<14:42:42, 45.09it/s] "
     ]
    },
    {
     "name": "stdout",
     "output_type": "stream",
     "text": [
      "ep_rew_main =  [1.5418591]\n",
      "test_rew_main =  0.6047941815380243\n"
     ]
    },
    {
     "name": "stderr",
     "output_type": "stream",
     "text": [
      " 20%|██        | 614997/3000000 [6:40:02<14:44:31, 44.94it/s] "
     ]
    },
    {
     "name": "stdout",
     "output_type": "stream",
     "text": [
      "ep_rew_main =  [1.8451422]\n",
      "test_rew_main =  0.546229758738042\n"
     ]
    },
    {
     "name": "stderr",
     "output_type": "stream",
     "text": [
      " 21%|██        | 617990/3000000 [6:42:38<18:16:51, 36.19it/s] "
     ]
    },
    {
     "name": "stdout",
     "output_type": "stream",
     "text": [
      "ep_rew_main =  [1.9113681]\n",
      "test_rew_main =  0.6358084895919871\n"
     ]
    },
    {
     "name": "stderr",
     "output_type": "stream",
     "text": [
      " 21%|██        | 620980/3000000 [6:45:12<18:51:34, 35.04it/s] "
     ]
    },
    {
     "name": "stdout",
     "output_type": "stream",
     "text": [
      "ep_rew_main =  [2.0160296]\n",
      "test_rew_main =  0.5132627276627746\n"
     ]
    },
    {
     "name": "stderr",
     "output_type": "stream",
     "text": [
      " 21%|██        | 623990/3000000 [6:47:48<15:07:35, 43.63it/s] "
     ]
    },
    {
     "name": "stdout",
     "output_type": "stream",
     "text": [
      "ep_rew_main =  [1.6374199]\n"
     ]
    },
    {
     "name": "stderr",
     "output_type": "stream",
     "text": [
      " 21%|██        | 623990/3000000 [6:48:00<15:07:35, 43.63it/s]"
     ]
    },
    {
     "name": "stdout",
     "output_type": "stream",
     "text": [
      "test_rew_main =  0.7344311686072247\n"
     ]
    },
    {
     "name": "stderr",
     "output_type": "stream",
     "text": [
      " 21%|██        | 626992/3000000 [6:50:23<17:29:27, 37.69it/s] "
     ]
    },
    {
     "name": "stdout",
     "output_type": "stream",
     "text": [
      "ep_rew_main =  [1.9328148]\n",
      "test_rew_main =  0.5609077830006782\n"
     ]
    },
    {
     "name": "stderr",
     "output_type": "stream",
     "text": [
      " 21%|██        | 629994/3000000 [6:52:59<17:25:13, 37.79it/s] "
     ]
    },
    {
     "name": "stdout",
     "output_type": "stream",
     "text": [
      "ep_rew_main =  [1.9713078]\n"
     ]
    },
    {
     "name": "stderr",
     "output_type": "stream",
     "text": [
      " 21%|██        | 629994/3000000 [6:53:11<17:25:13, 37.79it/s]"
     ]
    },
    {
     "name": "stdout",
     "output_type": "stream",
     "text": [
      "test_rew_main =  0.52436994297048\n",
      "current_time =  2022-02-15T05:41:24.663924\n"
     ]
    },
    {
     "name": "stderr",
     "output_type": "stream",
     "text": [
      " 21%|██        | 630000/3000000 [6:54:12<794:08:45,  1.21s/it]"
     ]
    },
    {
     "name": "stdout",
     "output_type": "stream",
     "text": [
      "current_time =  2022-02-15T05:42:25.037439\n"
     ]
    },
    {
     "name": "stderr",
     "output_type": "stream",
     "text": [
      " 21%|██        | 632998/3000000 [6:56:38<15:02:21, 43.72it/s] "
     ]
    },
    {
     "name": "stdout",
     "output_type": "stream",
     "text": [
      "ep_rew_main =  [1.9722129]\n",
      "test_rew_main =  0.45139464502805815\n"
     ]
    },
    {
     "name": "stderr",
     "output_type": "stream",
     "text": [
      " 21%|██        | 635979/3000000 [6:59:16<19:11:07, 34.23it/s] "
     ]
    },
    {
     "name": "stdout",
     "output_type": "stream",
     "text": [
      "ep_rew_main =  [1.5651364]\n"
     ]
    },
    {
     "name": "stderr",
     "output_type": "stream",
     "text": [
      " 21%|██        | 636000/3000000 [6:59:29<122:42:33,  5.35it/s]"
     ]
    },
    {
     "name": "stdout",
     "output_type": "stream",
     "text": [
      "test_rew_main =  0.5270887708744906\n"
     ]
    },
    {
     "name": "stderr",
     "output_type": "stream",
     "text": [
      " 21%|██▏       | 638976/3000000 [7:01:54<19:13:54, 34.10it/s] "
     ]
    },
    {
     "name": "stdout",
     "output_type": "stream",
     "text": [
      "ep_rew_main =  [1.6641865]\n"
     ]
    },
    {
     "name": "stderr",
     "output_type": "stream",
     "text": [
      " 21%|██▏       | 639000/3000000 [7:02:06<117:54:11,  5.56it/s]"
     ]
    },
    {
     "name": "stdout",
     "output_type": "stream",
     "text": [
      "test_rew_main =  0.6079493467104344\n"
     ]
    },
    {
     "name": "stderr",
     "output_type": "stream",
     "text": [
      " 21%|██▏       | 641994/3000000 [7:04:32<17:58:24, 36.44it/s] "
     ]
    },
    {
     "name": "stdout",
     "output_type": "stream",
     "text": [
      "ep_rew_main =  [1.6240934]\n"
     ]
    },
    {
     "name": "stderr",
     "output_type": "stream",
     "text": [
      " 21%|██▏       | 642000/3000000 [7:04:45<149:22:52,  4.38it/s]"
     ]
    },
    {
     "name": "stdout",
     "output_type": "stream",
     "text": [
      "test_rew_main =  0.6283629930846218\n"
     ]
    },
    {
     "name": "stderr",
     "output_type": "stream",
     "text": [
      " 21%|██▏       | 644992/3000000 [7:07:12<14:56:32, 43.78it/s] "
     ]
    },
    {
     "name": "stdout",
     "output_type": "stream",
     "text": [
      "ep_rew_main =  [1.0617728]\n",
      "test_rew_main =  0.5175797698748799\n"
     ]
    },
    {
     "name": "stderr",
     "output_type": "stream",
     "text": [
      " 22%|██▏       | 647986/3000000 [7:09:52<18:56:25, 34.49it/s] "
     ]
    },
    {
     "name": "stdout",
     "output_type": "stream",
     "text": [
      "ep_rew_main =  [1.9203165]\n"
     ]
    },
    {
     "name": "stderr",
     "output_type": "stream",
     "text": [
      " 22%|██▏       | 648000/3000000 [7:10:05<136:05:05,  4.80it/s]"
     ]
    },
    {
     "name": "stdout",
     "output_type": "stream",
     "text": [
      "test_rew_main =  0.4483614684869405\n"
     ]
    },
    {
     "name": "stderr",
     "output_type": "stream",
     "text": [
      " 22%|██▏       | 650979/3000000 [7:12:33<19:37:46, 33.24it/s] "
     ]
    },
    {
     "name": "stdout",
     "output_type": "stream",
     "text": [
      "ep_rew_main =  [2.0112376]\n"
     ]
    },
    {
     "name": "stderr",
     "output_type": "stream",
     "text": [
      " 22%|██▏       | 651000/3000000 [7:12:46<123:35:57,  5.28it/s]"
     ]
    },
    {
     "name": "stdout",
     "output_type": "stream",
     "text": [
      "test_rew_main =  0.4814212469965488\n"
     ]
    },
    {
     "name": "stderr",
     "output_type": "stream",
     "text": [
      " 22%|██▏       | 653987/3000000 [7:15:15<18:42:51, 34.82it/s] "
     ]
    },
    {
     "name": "stdout",
     "output_type": "stream",
     "text": [
      "ep_rew_main =  [1.7218965]\n",
      "test_rew_main =  0.4851666215549638\n"
     ]
    },
    {
     "name": "stderr",
     "output_type": "stream",
     "text": [
      " 22%|██▏       | 656976/3000000 [7:17:57<18:50:42, 34.54it/s] "
     ]
    },
    {
     "name": "stdout",
     "output_type": "stream",
     "text": [
      "ep_rew_main =  [1.073827]\n"
     ]
    },
    {
     "name": "stderr",
     "output_type": "stream",
     "text": [
      " 22%|██▏       | 657000/3000000 [7:18:10<116:38:16,  5.58it/s]"
     ]
    },
    {
     "name": "stdout",
     "output_type": "stream",
     "text": [
      "test_rew_main =  0.5752332842654544\n"
     ]
    },
    {
     "name": "stderr",
     "output_type": "stream",
     "text": [
      " 22%|██▏       | 659989/3000000 [7:20:41<18:19:31, 35.47it/s] "
     ]
    },
    {
     "name": "stdout",
     "output_type": "stream",
     "text": [
      "ep_rew_main =  [1.3563375]\n",
      "test_rew_main =  0.3076416529380973\n",
      "current_time =  2022-02-15T06:09:05.542658\n"
     ]
    },
    {
     "name": "stderr",
     "output_type": "stream",
     "text": [
      " 22%|██▏       | 660000/3000000 [7:21:54<747:23:27,  1.15s/it]"
     ]
    },
    {
     "name": "stdout",
     "output_type": "stream",
     "text": [
      "current_time =  2022-02-15T06:10:07.539189\n"
     ]
    },
    {
     "name": "stderr",
     "output_type": "stream",
     "text": [
      " 22%|██▏       | 662989/3000000 [7:24:25<19:36:07, 33.12it/s] "
     ]
    },
    {
     "name": "stdout",
     "output_type": "stream",
     "text": [
      "ep_rew_main =  [0.5507611]\n"
     ]
    },
    {
     "name": "stderr",
     "output_type": "stream",
     "text": [
      " 22%|██▏       | 663000/3000000 [7:24:38<150:08:55,  4.32it/s]"
     ]
    },
    {
     "name": "stdout",
     "output_type": "stream",
     "text": [
      "test_rew_main =  0.3408411137742541\n"
     ]
    },
    {
     "name": "stderr",
     "output_type": "stream",
     "text": [
      " 22%|██▏       | 665994/3000000 [7:27:09<15:11:33, 42.67it/s] "
     ]
    },
    {
     "name": "stdout",
     "output_type": "stream",
     "text": [
      "ep_rew_main =  [0.7282465]\n",
      "test_rew_main =  0.0985369115272546\n"
     ]
    },
    {
     "name": "stderr",
     "output_type": "stream",
     "text": [
      " 22%|██▏       | 668979/3000000 [7:29:53<19:15:16, 33.63it/s] "
     ]
    },
    {
     "name": "stdout",
     "output_type": "stream",
     "text": [
      "ep_rew_main =  [1.9707463]\n"
     ]
    },
    {
     "name": "stderr",
     "output_type": "stream",
     "text": [
      " 22%|██▏       | 669000/3000000 [7:30:07<132:07:31,  4.90it/s]"
     ]
    },
    {
     "name": "stdout",
     "output_type": "stream",
     "text": [
      "test_rew_main =  0.1046569870130433\n"
     ]
    },
    {
     "name": "stderr",
     "output_type": "stream",
     "text": [
      " 22%|██▏       | 671980/3000000 [7:32:39<19:22:27, 33.38it/s] "
     ]
    },
    {
     "name": "stdout",
     "output_type": "stream",
     "text": [
      "ep_rew_main =  [0.30813736]\n",
      "test_rew_main =  0.3802192782743076\n"
     ]
    },
    {
     "name": "stderr",
     "output_type": "stream",
     "text": [
      " 22%|██▏       | 674999/3000000 [7:35:26<15:14:28, 42.37it/s] "
     ]
    },
    {
     "name": "stdout",
     "output_type": "stream",
     "text": [
      "ep_rew_main =  [0.3909796]\n"
     ]
    },
    {
     "name": "stderr",
     "output_type": "stream",
     "text": [
      " 22%|██▎       | 675000/3000000 [7:35:38<161:37:51,  4.00it/s]"
     ]
    },
    {
     "name": "stdout",
     "output_type": "stream",
     "text": [
      "test_rew_main =  0.26949155549354514\n"
     ]
    },
    {
     "name": "stderr",
     "output_type": "stream",
     "text": [
      " 23%|██▎       | 677998/3000000 [7:38:13<15:09:29, 42.55it/s] "
     ]
    },
    {
     "name": "stdout",
     "output_type": "stream",
     "text": [
      "ep_rew_main =  [0.7222539]\n",
      "test_rew_main =  0.6262325856075313\n"
     ]
    },
    {
     "name": "stderr",
     "output_type": "stream",
     "text": [
      " 23%|██▎       | 680997/3000000 [7:41:00<15:31:49, 41.48it/s] "
     ]
    },
    {
     "name": "stdout",
     "output_type": "stream",
     "text": [
      "ep_rew_main =  [0.65914]\n",
      "test_rew_main =  0.3984756176659032\n"
     ]
    },
    {
     "name": "stderr",
     "output_type": "stream",
     "text": [
      " 23%|██▎       | 683999/3000000 [7:43:46<15:04:28, 42.68it/s] "
     ]
    },
    {
     "name": "stdout",
     "output_type": "stream",
     "text": [
      "ep_rew_main =  [1.3858263]\n"
     ]
    },
    {
     "name": "stderr",
     "output_type": "stream",
     "text": [
      " 23%|██▎       | 684000/3000000 [7:43:59<161:47:40,  3.98it/s]"
     ]
    },
    {
     "name": "stdout",
     "output_type": "stream",
     "text": [
      "test_rew_main =  0.3470542646677557\n"
     ]
    },
    {
     "name": "stderr",
     "output_type": "stream",
     "text": [
      " 23%|██▎       | 686987/3000000 [7:46:33<19:08:35, 33.56it/s] "
     ]
    },
    {
     "name": "stdout",
     "output_type": "stream",
     "text": [
      "ep_rew_main =  [1.2613097]\n",
      "test_rew_main =  0.4592377033955565\n"
     ]
    },
    {
     "name": "stderr",
     "output_type": "stream",
     "text": [
      " 23%|██▎       | 689976/3000000 [7:49:30<20:57:02, 30.63it/s] "
     ]
    },
    {
     "name": "stdout",
     "output_type": "stream",
     "text": [
      "ep_rew_main =  [1.2727591]\n",
      "test_rew_main =  0.26075135803188815\n",
      "current_time =  2022-02-15T06:37:57.372772\n"
     ]
    },
    {
     "name": "stderr",
     "output_type": "stream",
     "text": [
      " 23%|██▎       | 690000/3000000 [7:50:46<647:59:18,  1.01s/it]"
     ]
    },
    {
     "name": "stdout",
     "output_type": "stream",
     "text": [
      "current_time =  2022-02-15T06:38:59.432057\n"
     ]
    },
    {
     "name": "stderr",
     "output_type": "stream",
     "text": [
      " 23%|██▎       | 692987/3000000 [7:53:30<20:31:59, 31.21it/s] "
     ]
    },
    {
     "name": "stdout",
     "output_type": "stream",
     "text": [
      "ep_rew_main =  [1.3739623]\n",
      "test_rew_main =  0.4282979106282415\n"
     ]
    },
    {
     "name": "stderr",
     "output_type": "stream",
     "text": [
      " 23%|██▎       | 695987/3000000 [7:56:26<20:30:21, 31.21it/s] "
     ]
    },
    {
     "name": "stdout",
     "output_type": "stream",
     "text": [
      "ep_rew_main =  [1.7699449]\n",
      "test_rew_main =  0.6570850496062024\n"
     ]
    },
    {
     "name": "stderr",
     "output_type": "stream",
     "text": [
      " 23%|██▎       | 698998/3000000 [7:59:23<16:26:04, 38.89it/s] "
     ]
    },
    {
     "name": "stdout",
     "output_type": "stream",
     "text": [
      "ep_rew_main =  [1.4388335]\n",
      "test_rew_main =  0.6176621103706312\n"
     ]
    },
    {
     "name": "stderr",
     "output_type": "stream",
     "text": [
      " 23%|██▎       | 701986/3000000 [8:02:20<20:15:44, 31.50it/s] "
     ]
    },
    {
     "name": "stdout",
     "output_type": "stream",
     "text": [
      "ep_rew_main =  [0.6641275]\n",
      "test_rew_main =  0.40238402514283944\n"
     ]
    },
    {
     "name": "stderr",
     "output_type": "stream",
     "text": [
      " 23%|██▎       | 704993/3000000 [8:05:18<15:49:02, 40.30it/s] "
     ]
    },
    {
     "name": "stdout",
     "output_type": "stream",
     "text": [
      "ep_rew_main =  [1.3856558]\n"
     ]
    },
    {
     "name": "stderr",
     "output_type": "stream",
     "text": [
      " 24%|██▎       | 705000/3000000 [8:05:31<152:32:45,  4.18it/s]"
     ]
    },
    {
     "name": "stdout",
     "output_type": "stream",
     "text": [
      "test_rew_main =  0.5705193625302962\n"
     ]
    },
    {
     "name": "stderr",
     "output_type": "stream",
     "text": [
      " 24%|██▎       | 707989/3000000 [8:08:16<20:13:33, 31.48it/s] "
     ]
    },
    {
     "name": "stdout",
     "output_type": "stream",
     "text": [
      "ep_rew_main =  [0.61674243]\n"
     ]
    },
    {
     "name": "stderr",
     "output_type": "stream",
     "text": [
      " 24%|██▎       | 708000/3000000 [8:08:29<144:44:16,  4.40it/s]"
     ]
    },
    {
     "name": "stdout",
     "output_type": "stream",
     "text": [
      "test_rew_main =  0.6680049702514042\n"
     ]
    },
    {
     "name": "stderr",
     "output_type": "stream",
     "text": [
      " 24%|██▎       | 710993/3000000 [8:11:15<16:15:48, 39.10it/s] "
     ]
    },
    {
     "name": "stdout",
     "output_type": "stream",
     "text": [
      "ep_rew_main =  [0.8970235]\n",
      "test_rew_main =  0.42212940005412725\n"
     ]
    },
    {
     "name": "stderr",
     "output_type": "stream",
     "text": [
      " 24%|██▍       | 713997/3000000 [8:14:14<16:20:35, 38.85it/s] "
     ]
    },
    {
     "name": "stdout",
     "output_type": "stream",
     "text": [
      "ep_rew_main =  [1.1703898]\n",
      "test_rew_main =  0.34613630816962215\n"
     ]
    },
    {
     "name": "stderr",
     "output_type": "stream",
     "text": [
      " 24%|██▍       | 716985/3000000 [8:17:14<20:33:27, 30.85it/s] "
     ]
    },
    {
     "name": "stdout",
     "output_type": "stream",
     "text": [
      "ep_rew_main =  [1.993183]\n",
      "test_rew_main =  0.6553609644260744\n"
     ]
    },
    {
     "name": "stderr",
     "output_type": "stream",
     "text": [
      " 24%|██▍       | 719985/3000000 [8:20:14<21:22:04, 29.64it/s] "
     ]
    },
    {
     "name": "stdout",
     "output_type": "stream",
     "text": [
      "ep_rew_main =  [1.742775]\n",
      "test_rew_main =  0.44067195989830826\n",
      "current_time =  2022-02-15T07:08:39.493894\n"
     ]
    },
    {
     "name": "stderr",
     "output_type": "stream",
     "text": [
      " 24%|██▍       | 720000/3000000 [8:21:30<728:01:02,  1.15s/it]"
     ]
    },
    {
     "name": "stdout",
     "output_type": "stream",
     "text": [
      "current_time =  2022-02-15T07:09:42.783876\n"
     ]
    },
    {
     "name": "stderr",
     "output_type": "stream",
     "text": [
      " 24%|██▍       | 722985/3000000 [8:24:18<17:51:02, 35.43it/s] "
     ]
    },
    {
     "name": "stdout",
     "output_type": "stream",
     "text": [
      "ep_rew_main =  [1.2517645]\n"
     ]
    },
    {
     "name": "stderr",
     "output_type": "stream",
     "text": [
      " 24%|██▍       | 722985/3000000 [8:24:32<17:51:02, 35.43it/s]"
     ]
    },
    {
     "name": "stdout",
     "output_type": "stream",
     "text": [
      "test_rew_main =  0.6775567021605549\n"
     ]
    },
    {
     "name": "stderr",
     "output_type": "stream",
     "text": [
      " 24%|██▍       | 725987/3000000 [8:27:20<20:58:37, 30.11it/s] "
     ]
    },
    {
     "name": "stdout",
     "output_type": "stream",
     "text": [
      "ep_rew_main =  [1.9728084]\n"
     ]
    },
    {
     "name": "stderr",
     "output_type": "stream",
     "text": [
      " 24%|██▍       | 726000/3000000 [8:27:34<144:23:44,  4.37it/s]"
     ]
    },
    {
     "name": "stdout",
     "output_type": "stream",
     "text": [
      "test_rew_main =  0.6568143307517685\n"
     ]
    },
    {
     "name": "stderr",
     "output_type": "stream",
     "text": [
      " 24%|██▍       | 728996/3000000 [8:30:22<16:51:12, 37.43it/s] "
     ]
    },
    {
     "name": "stdout",
     "output_type": "stream",
     "text": [
      "ep_rew_main =  [2.0420017]\n"
     ]
    },
    {
     "name": "stderr",
     "output_type": "stream",
     "text": [
      " 24%|██▍       | 729000/3000000 [8:30:35<174:15:53,  3.62it/s]"
     ]
    },
    {
     "name": "stdout",
     "output_type": "stream",
     "text": [
      "test_rew_main =  0.45408767877278705\n"
     ]
    },
    {
     "name": "stderr",
     "output_type": "stream",
     "text": [
      " 24%|██▍       | 731986/3000000 [8:33:25<21:10:49, 29.74it/s] "
     ]
    },
    {
     "name": "stdout",
     "output_type": "stream",
     "text": [
      "ep_rew_main =  [1.3714138]\n",
      "test_rew_main =  0.5748365330578827\n"
     ]
    },
    {
     "name": "stderr",
     "output_type": "stream",
     "text": [
      " 24%|██▍       | 734997/3000000 [8:36:27<16:39:27, 37.77it/s] "
     ]
    },
    {
     "name": "stdout",
     "output_type": "stream",
     "text": [
      "ep_rew_main =  [2.093937]\n",
      "test_rew_main =  0.6630803072039608\n"
     ]
    },
    {
     "name": "stderr",
     "output_type": "stream",
     "text": [
      " 25%|██▍       | 737993/3000000 [8:39:31<16:22:40, 38.36it/s] "
     ]
    },
    {
     "name": "stdout",
     "output_type": "stream",
     "text": [
      "ep_rew_main =  [2.1213257]\n"
     ]
    },
    {
     "name": "stderr",
     "output_type": "stream",
     "text": [
      " 25%|██▍       | 738000/3000000 [8:39:44<151:35:06,  4.15it/s]"
     ]
    },
    {
     "name": "stdout",
     "output_type": "stream",
     "text": [
      "test_rew_main =  0.6520303121956281\n"
     ]
    },
    {
     "name": "stderr",
     "output_type": "stream",
     "text": [
      " 25%|██▍       | 740999/3000000 [8:42:34<16:59:02, 36.95it/s] "
     ]
    },
    {
     "name": "stdout",
     "output_type": "stream",
     "text": [
      "ep_rew_main =  [0.9876577]\n",
      "test_rew_main =  0.5032741503880646\n"
     ]
    },
    {
     "name": "stderr",
     "output_type": "stream",
     "text": [
      " 25%|██▍       | 743999/3000000 [8:45:40<16:31:42, 37.91it/s] "
     ]
    },
    {
     "name": "stdout",
     "output_type": "stream",
     "text": [
      "ep_rew_main =  [1.8813283]\n",
      "test_rew_main =  0.6590933894354665\n"
     ]
    },
    {
     "name": "stderr",
     "output_type": "stream",
     "text": [
      " 25%|██▍       | 746996/3000000 [8:48:45<16:55:21, 36.98it/s] "
     ]
    },
    {
     "name": "stdout",
     "output_type": "stream",
     "text": [
      "ep_rew_main =  [1.2749488]\n",
      "test_rew_main =  0.46346289008515845\n"
     ]
    },
    {
     "name": "stderr",
     "output_type": "stream",
     "text": [
      " 25%|██▍       | 749997/3000000 [8:51:53<15:57:40, 39.16it/s] "
     ]
    },
    {
     "name": "stdout",
     "output_type": "stream",
     "text": [
      "ep_rew_main =  [1.723299]\n"
     ]
    },
    {
     "name": "stderr",
     "output_type": "stream",
     "text": [
      " 25%|██▍       | 749997/3000000 [8:52:04<15:57:40, 39.16it/s]"
     ]
    },
    {
     "name": "stdout",
     "output_type": "stream",
     "text": [
      "test_rew_main =  0.2035355620929878\n",
      "current_time =  2022-02-15T07:40:19.096284\n"
     ]
    },
    {
     "name": "stderr",
     "output_type": "stream",
     "text": [
      " 25%|██▌       | 750000/3000000 [8:53:06<831:14:13,  1.33s/it]"
     ]
    },
    {
     "name": "stdout",
     "output_type": "stream",
     "text": [
      "current_time =  2022-02-15T07:41:18.998329\n"
     ]
    },
    {
     "name": "stderr",
     "output_type": "stream",
     "text": [
      " 25%|██▌       | 752997/3000000 [8:55:47<18:21:59, 33.98it/s] "
     ]
    },
    {
     "name": "stdout",
     "output_type": "stream",
     "text": [
      "ep_rew_main =  [1.0433288]\n",
      "test_rew_main =  0.44301424178728277\n"
     ]
    },
    {
     "name": "stderr",
     "output_type": "stream",
     "text": [
      " 25%|██▌       | 755994/3000000 [8:58:39<18:11:12, 34.27it/s] "
     ]
    },
    {
     "name": "stdout",
     "output_type": "stream",
     "text": [
      "ep_rew_main =  [1.6100668]\n",
      "test_rew_main =  0.6330471280018519\n"
     ]
    },
    {
     "name": "stderr",
     "output_type": "stream",
     "text": [
      " 25%|██▌       | 758996/3000000 [9:01:32<19:24:18, 32.08it/s] "
     ]
    },
    {
     "name": "stdout",
     "output_type": "stream",
     "text": [
      "ep_rew_main =  [1.846154]\n",
      "test_rew_main =  0.5398930708209531\n"
     ]
    },
    {
     "name": "stderr",
     "output_type": "stream",
     "text": [
      " 25%|██▌       | 761982/3000000 [9:04:29<20:05:22, 30.95it/s] "
     ]
    },
    {
     "name": "stdout",
     "output_type": "stream",
     "text": [
      "ep_rew_main =  [1.4154122]\n",
      "test_rew_main =  0.6316680075240128\n"
     ]
    },
    {
     "name": "stderr",
     "output_type": "stream",
     "text": [
      " 25%|██▌       | 764998/3000000 [9:07:29<15:48:46, 39.26it/s] "
     ]
    },
    {
     "name": "stdout",
     "output_type": "stream",
     "text": [
      "ep_rew_main =  [1.1053976]\n",
      "test_rew_main =  0.4626292911301449\n"
     ]
    },
    {
     "name": "stderr",
     "output_type": "stream",
     "text": [
      " 26%|██▌       | 767989/3000000 [9:10:40<17:33:03, 35.33it/s] "
     ]
    },
    {
     "name": "stdout",
     "output_type": "stream",
     "text": [
      "ep_rew_main =  [1.5296676]\n",
      "test_rew_main =  0.48681936368673817\n"
     ]
    },
    {
     "name": "stderr",
     "output_type": "stream",
     "text": [
      " 26%|██▌       | 770994/3000000 [9:13:59<18:02:26, 34.32it/s] "
     ]
    },
    {
     "name": "stdout",
     "output_type": "stream",
     "text": [
      "ep_rew_main =  [2.0500865]\n",
      "test_rew_main =  0.654400464771481\n"
     ]
    },
    {
     "name": "stderr",
     "output_type": "stream",
     "text": [
      " 26%|██▌       | 773995/3000000 [9:17:31<17:44:28, 34.85it/s] "
     ]
    },
    {
     "name": "stdout",
     "output_type": "stream",
     "text": [
      "ep_rew_main =  [0.6349703]\n",
      "test_rew_main =  0.5393587509373414\n"
     ]
    },
    {
     "name": "stderr",
     "output_type": "stream",
     "text": [
      " 26%|██▌       | 776996/3000000 [9:20:57<15:38:14, 39.49it/s] "
     ]
    },
    {
     "name": "stdout",
     "output_type": "stream",
     "text": [
      "ep_rew_main =  [1.2462664]\n",
      "test_rew_main =  0.31042188676038396\n"
     ]
    },
    {
     "name": "stderr",
     "output_type": "stream",
     "text": [
      " 26%|██▌       | 779997/3000000 [9:24:52<17:29:22, 35.26it/s] "
     ]
    },
    {
     "name": "stdout",
     "output_type": "stream",
     "text": [
      "ep_rew_main =  [1.9450471]\n",
      "test_rew_main =  0.4890487352556037\n",
      "current_time =  2022-02-15T08:13:20.367770\n"
     ]
    },
    {
     "name": "stderr",
     "output_type": "stream",
     "text": [
      " 26%|██▌       | 780000/3000000 [9:26:19<1426:43:54,  2.31s/it]"
     ]
    },
    {
     "name": "stdout",
     "output_type": "stream",
     "text": [
      "current_time =  2022-02-15T08:14:32.265117\n"
     ]
    },
    {
     "name": "stderr",
     "output_type": "stream",
     "text": [
      " 26%|██▌       | 782985/3000000 [9:29:24<20:04:00, 30.69it/s]  "
     ]
    },
    {
     "name": "stdout",
     "output_type": "stream",
     "text": [
      "ep_rew_main =  [1.1187896]\n"
     ]
    },
    {
     "name": "stderr",
     "output_type": "stream",
     "text": [
      " 26%|██▌       | 783000/3000000 [9:29:40<172:25:07,  3.57it/s]"
     ]
    },
    {
     "name": "stdout",
     "output_type": "stream",
     "text": [
      "test_rew_main =  0.19895875302148464\n"
     ]
    },
    {
     "name": "stderr",
     "output_type": "stream",
     "text": [
      " 26%|██▌       | 785988/3000000 [9:33:21<18:25:00, 33.39it/s] "
     ]
    },
    {
     "name": "stdout",
     "output_type": "stream",
     "text": [
      "ep_rew_main =  [1.3380864]\n",
      "test_rew_main =  0.4579150353663672\n"
     ]
    },
    {
     "name": "stderr",
     "output_type": "stream",
     "text": [
      " 26%|██▋       | 788986/3000000 [9:37:31<22:41:58, 27.06it/s] "
     ]
    },
    {
     "name": "stdout",
     "output_type": "stream",
     "text": [
      "ep_rew_main =  [1.3956491]\n"
     ]
    },
    {
     "name": "stderr",
     "output_type": "stream",
     "text": [
      " 26%|██▋       | 789000/3000000 [9:37:49<223:20:20,  2.75it/s]"
     ]
    },
    {
     "name": "stdout",
     "output_type": "stream",
     "text": [
      "test_rew_main =  0.2362156282909539\n"
     ]
    },
    {
     "name": "stderr",
     "output_type": "stream",
     "text": [
      " 26%|██▋       | 791992/3000000 [9:41:26<17:30:08, 35.04it/s] "
     ]
    },
    {
     "name": "stdout",
     "output_type": "stream",
     "text": [
      "ep_rew_main =  [0.06225055]\n"
     ]
    },
    {
     "name": "stderr",
     "output_type": "stream",
     "text": [
      " 26%|██▋       | 792000/3000000 [9:41:43<235:12:06,  2.61it/s]"
     ]
    },
    {
     "name": "stdout",
     "output_type": "stream",
     "text": [
      "test_rew_main =  0.3339510675271601\n"
     ]
    },
    {
     "name": "stderr",
     "output_type": "stream",
     "text": [
      " 26%|██▋       | 794999/3000000 [9:45:10<15:31:28, 39.45it/s] "
     ]
    },
    {
     "name": "stdout",
     "output_type": "stream",
     "text": [
      "ep_rew_main =  [0.45683137]\n",
      "test_rew_main =  0.38764800612955175\n"
     ]
    },
    {
     "name": "stderr",
     "output_type": "stream",
     "text": [
      " 27%|██▋       | 797987/3000000 [9:49:01<23:29:23, 26.04it/s] "
     ]
    },
    {
     "name": "stdout",
     "output_type": "stream",
     "text": [
      "ep_rew_main =  [2.0535655]\n",
      "test_rew_main =  0.13713366260036736\n"
     ]
    },
    {
     "name": "stderr",
     "output_type": "stream",
     "text": [
      " 27%|██▋       | 800994/3000000 [9:53:01<17:17:32, 35.32it/s] "
     ]
    },
    {
     "name": "stdout",
     "output_type": "stream",
     "text": [
      "ep_rew_main =  [1.3840544]\n",
      "test_rew_main =  0.2775053577531347\n"
     ]
    },
    {
     "name": "stderr",
     "output_type": "stream",
     "text": [
      " 27%|██▋       | 803992/3000000 [9:57:28<19:35:32, 31.13it/s] "
     ]
    },
    {
     "name": "stdout",
     "output_type": "stream",
     "text": [
      "ep_rew_main =  [-0.05450818]\n"
     ]
    },
    {
     "name": "stderr",
     "output_type": "stream",
     "text": [
      " 27%|██▋       | 804000/3000000 [9:57:43<190:58:43,  3.19it/s]"
     ]
    },
    {
     "name": "stdout",
     "output_type": "stream",
     "text": [
      "test_rew_main =  0.3272991711475322\n"
     ]
    },
    {
     "name": "stderr",
     "output_type": "stream",
     "text": [
      " 27%|██▋       | 806989/3000000 [10:01:33<18:10:38, 33.51it/s] "
     ]
    },
    {
     "name": "stdout",
     "output_type": "stream",
     "text": [
      "ep_rew_main =  [2.012985]\n"
     ]
    },
    {
     "name": "stderr",
     "output_type": "stream",
     "text": [
      " 27%|██▋       | 807000/3000000 [10:01:51<231:00:42,  2.64it/s]"
     ]
    },
    {
     "name": "stdout",
     "output_type": "stream",
     "text": [
      "test_rew_main =  0.028353751452008184\n"
     ]
    },
    {
     "name": "stderr",
     "output_type": "stream",
     "text": [
      " 27%|██▋       | 809987/3000000 [10:05:52<17:03:07, 35.68it/s] "
     ]
    },
    {
     "name": "stdout",
     "output_type": "stream",
     "text": [
      "ep_rew_main =  [-0.03518998]\n",
      "test_rew_main =  0.2839695036270082\n",
      "current_time =  2022-02-15T08:54:21.894861\n"
     ]
    },
    {
     "name": "stderr",
     "output_type": "stream",
     "text": [
      " 27%|██▋       | 810000/3000000 [10:07:31<1323:28:38,  2.18s/it]"
     ]
    },
    {
     "name": "stdout",
     "output_type": "stream",
     "text": [
      "current_time =  2022-02-15T08:55:44.507623\n"
     ]
    },
    {
     "name": "stderr",
     "output_type": "stream",
     "text": [
      " 27%|██▋       | 812996/3000000 [10:11:46<16:08:24, 37.64it/s]  "
     ]
    },
    {
     "name": "stdout",
     "output_type": "stream",
     "text": [
      "ep_rew_main =  [0.9055127]\n"
     ]
    },
    {
     "name": "stderr",
     "output_type": "stream",
     "text": [
      " 27%|██▋       | 813000/3000000 [10:12:03<279:35:07,  2.17it/s]"
     ]
    },
    {
     "name": "stdout",
     "output_type": "stream",
     "text": [
      "test_rew_main =  0.13396663739045828\n"
     ]
    },
    {
     "name": "stderr",
     "output_type": "stream",
     "text": [
      " 27%|██▋       | 815997/3000000 [10:15:59<13:13:06, 45.90it/s] "
     ]
    },
    {
     "name": "stdout",
     "output_type": "stream",
     "text": [
      "ep_rew_main =  [1.0717069]\n"
     ]
    },
    {
     "name": "stderr",
     "output_type": "stream",
     "text": [
      " 27%|██▋       | 816000/3000000 [10:16:16<313:40:38,  1.93it/s]"
     ]
    },
    {
     "name": "stdout",
     "output_type": "stream",
     "text": [
      "test_rew_main =  0.14839634864647228\n"
     ]
    },
    {
     "name": "stderr",
     "output_type": "stream",
     "text": [
      " 27%|██▋       | 818992/3000000 [10:20:29<17:09:32, 35.31it/s] "
     ]
    },
    {
     "name": "stdout",
     "output_type": "stream",
     "text": [
      "ep_rew_main =  [0.505827]\n"
     ]
    },
    {
     "name": "stderr",
     "output_type": "stream",
     "text": [
      " 27%|██▋       | 819000/3000000 [10:20:48<295:49:26,  2.05it/s]"
     ]
    },
    {
     "name": "stdout",
     "output_type": "stream",
     "text": [
      "test_rew_main =  0.2590480666031785\n"
     ]
    },
    {
     "name": "stderr",
     "output_type": "stream",
     "text": [
      " 27%|██▋       | 821984/3000000 [10:25:11<18:02:50, 33.52it/s] "
     ]
    },
    {
     "name": "stdout",
     "output_type": "stream",
     "text": [
      "ep_rew_main =  [1.1583691]\n"
     ]
    },
    {
     "name": "stderr",
     "output_type": "stream",
     "text": [
      " 27%|██▋       | 822000/3000000 [10:25:34<267:29:56,  2.26it/s]"
     ]
    },
    {
     "name": "stdout",
     "output_type": "stream",
     "text": [
      "test_rew_main =  0.22765255013852262\n"
     ]
    },
    {
     "name": "stderr",
     "output_type": "stream",
     "text": [
      " 27%|██▋       | 824995/3000000 [10:29:32<16:55:55, 35.68it/s] "
     ]
    },
    {
     "name": "stdout",
     "output_type": "stream",
     "text": [
      "ep_rew_main =  [-0.00079829]\n"
     ]
    },
    {
     "name": "stderr",
     "output_type": "stream",
     "text": [
      " 28%|██▊       | 825000/3000000 [10:29:47<233:05:27,  2.59it/s]"
     ]
    },
    {
     "name": "stdout",
     "output_type": "stream",
     "text": [
      "test_rew_main =  0.2273750173767628\n"
     ]
    },
    {
     "name": "stderr",
     "output_type": "stream",
     "text": [
      " 28%|██▊       | 827986/3000000 [10:33:26<20:35:21, 29.30it/s] "
     ]
    },
    {
     "name": "stdout",
     "output_type": "stream",
     "text": [
      "ep_rew_main =  [1.3270663]\n"
     ]
    },
    {
     "name": "stderr",
     "output_type": "stream",
     "text": [
      " 28%|██▊       | 828000/3000000 [10:33:43<228:48:58,  2.64it/s]"
     ]
    },
    {
     "name": "stdout",
     "output_type": "stream",
     "text": [
      "test_rew_main =  0.5593208724497007\n"
     ]
    },
    {
     "name": "stderr",
     "output_type": "stream",
     "text": [
      " 28%|██▊       | 830999/3000000 [10:37:40<17:48:44, 33.82it/s] "
     ]
    },
    {
     "name": "stdout",
     "output_type": "stream",
     "text": [
      "ep_rew_main =  [0.36156327]\n"
     ]
    },
    {
     "name": "stderr",
     "output_type": "stream",
     "text": [
      " 28%|██▊       | 831000/3000000 [10:37:57<269:31:32,  2.24it/s]"
     ]
    },
    {
     "name": "stdout",
     "output_type": "stream",
     "text": [
      "test_rew_main =  0.35633603504285005\n"
     ]
    },
    {
     "name": "stderr",
     "output_type": "stream",
     "text": [
      " 28%|██▊       | 833990/3000000 [10:41:57<17:58:55, 33.46it/s] "
     ]
    },
    {
     "name": "stdout",
     "output_type": "stream",
     "text": [
      "ep_rew_main =  [1.5688033]\n"
     ]
    },
    {
     "name": "stderr",
     "output_type": "stream",
     "text": [
      " 28%|██▊       | 834000/3000000 [10:42:13<213:57:46,  2.81it/s]"
     ]
    },
    {
     "name": "stdout",
     "output_type": "stream",
     "text": [
      "test_rew_main =  0.44094879818843336\n"
     ]
    },
    {
     "name": "stderr",
     "output_type": "stream",
     "text": [
      " 28%|██▊       | 836996/3000000 [10:50:19<15:43:15, 38.22it/s]  "
     ]
    },
    {
     "name": "stdout",
     "output_type": "stream",
     "text": [
      "ep_rew_main =  [1.0720062]\n"
     ]
    },
    {
     "name": "stderr",
     "output_type": "stream",
     "text": [
      " 28%|██▊       | 837000/3000000 [10:51:36<3300:21:15,  5.49s/it]"
     ]
    },
    {
     "name": "stdout",
     "output_type": "stream",
     "text": [
      "test_rew_main =  0.11152401113537118\n"
     ]
    },
    {
     "name": "stderr",
     "output_type": "stream",
     "text": [
      " 28%|██▊       | 839298/3000000 [11:02:52<20:03:22, 29.93it/s]  Experiencing connection interruptions. Will try to reestablish communication with Neptune. Internal exception was: RequestsFutureAdapterConnectionError\n",
      " 28%|██▊       | 839996/3000000 [11:03:44<17:02:38, 35.20it/s]"
     ]
    },
    {
     "name": "stdout",
     "output_type": "stream",
     "text": [
      "ep_rew_main =  [1.2681094]\n",
      "test_rew_main =  0.5706804917285723\n",
      "current_time =  2022-02-15T09:52:10.223721\n"
     ]
    },
    {
     "name": "stderr",
     "output_type": "stream",
     "text": [
      " 28%|██▊       | 840000/3000000 [11:05:15<1272:35:30,  2.12s/it]"
     ]
    },
    {
     "name": "stdout",
     "output_type": "stream",
     "text": [
      "current_time =  2022-02-15T09:53:28.689026\n"
     ]
    },
    {
     "name": "stderr",
     "output_type": "stream",
     "text": [
      " 28%|██▊       | 840392/3000000 [11:05:53<19:10:53, 31.27it/s]  Communication with Neptune restored!\n",
      " 28%|██▊       | 842991/3000000 [11:09:50<20:23:58, 29.37it/s] "
     ]
    },
    {
     "name": "stdout",
     "output_type": "stream",
     "text": [
      "ep_rew_main =  [0.5693207]\n",
      "test_rew_main =  0.551027399975651\n"
     ]
    },
    {
     "name": "stderr",
     "output_type": "stream",
     "text": [
      " 28%|██▊       | 845996/3000000 [11:14:39<14:30:11, 41.26it/s] "
     ]
    },
    {
     "name": "stdout",
     "output_type": "stream",
     "text": [
      "ep_rew_main =  [1.3357797]\n"
     ]
    },
    {
     "name": "stderr",
     "output_type": "stream",
     "text": [
      " 28%|██▊       | 846000/3000000 [11:14:59<347:08:17,  1.72it/s]"
     ]
    },
    {
     "name": "stdout",
     "output_type": "stream",
     "text": [
      "test_rew_main =  0.5271909263281376\n"
     ]
    },
    {
     "name": "stderr",
     "output_type": "stream",
     "text": [
      " 28%|██▊       | 847999/3000000 [11:18:00<14:45:39, 40.50it/s] Experiencing connection interruptions. Will try to reestablish communication with Neptune. Internal exception was: RequestsFutureAdapterConnectionError\n",
      "Communication with Neptune restored!\n",
      " 28%|██▊       | 848991/3000000 [11:19:39<16:45:27, 35.66it/s] "
     ]
    },
    {
     "name": "stdout",
     "output_type": "stream",
     "text": [
      "ep_rew_main =  [1.3520378]\n"
     ]
    },
    {
     "name": "stderr",
     "output_type": "stream",
     "text": [
      " 28%|██▊       | 849000/3000000 [11:19:56<254:56:37,  2.34it/s]"
     ]
    },
    {
     "name": "stdout",
     "output_type": "stream",
     "text": [
      "test_rew_main =  0.4063797468835695\n"
     ]
    },
    {
     "name": "stderr",
     "output_type": "stream",
     "text": [
      " 28%|██▊       | 851987/3000000 [11:24:25<17:33:34, 33.98it/s] "
     ]
    },
    {
     "name": "stdout",
     "output_type": "stream",
     "text": [
      "ep_rew_main =  [1.2747407]\n"
     ]
    },
    {
     "name": "stderr",
     "output_type": "stream",
     "text": [
      " 28%|██▊       | 852000/3000000 [11:24:43<243:52:32,  2.45it/s]"
     ]
    },
    {
     "name": "stdout",
     "output_type": "stream",
     "text": [
      "test_rew_main =  0.3479211381970148\n"
     ]
    },
    {
     "name": "stderr",
     "output_type": "stream",
     "text": [
      " 28%|██▊       | 854986/3000000 [11:29:23<21:32:32, 27.66it/s] "
     ]
    },
    {
     "name": "stdout",
     "output_type": "stream",
     "text": [
      "ep_rew_main =  [0.68424934]\n"
     ]
    },
    {
     "name": "stderr",
     "output_type": "stream",
     "text": [
      " 28%|██▊       | 855000/3000000 [11:29:42<231:34:12,  2.57it/s]"
     ]
    },
    {
     "name": "stdout",
     "output_type": "stream",
     "text": [
      "test_rew_main =  0.17007523699644939\n"
     ]
    },
    {
     "name": "stderr",
     "output_type": "stream",
     "text": [
      " 29%|██▊       | 857984/3000000 [11:33:51<18:45:02, 31.73it/s] "
     ]
    },
    {
     "name": "stdout",
     "output_type": "stream",
     "text": [
      "ep_rew_main =  [0.50874895]\n"
     ]
    },
    {
     "name": "stderr",
     "output_type": "stream",
     "text": [
      " 29%|██▊       | 858000/3000000 [11:34:07<189:21:08,  3.14it/s]"
     ]
    },
    {
     "name": "stdout",
     "output_type": "stream",
     "text": [
      "test_rew_main =  0.5267774408644991\n"
     ]
    },
    {
     "name": "stderr",
     "output_type": "stream",
     "text": [
      " 29%|██▊       | 860990/3000000 [11:38:10<19:04:42, 31.14it/s] "
     ]
    },
    {
     "name": "stdout",
     "output_type": "stream",
     "text": [
      "ep_rew_main =  [1.3928388]\n"
     ]
    },
    {
     "name": "stderr",
     "output_type": "stream",
     "text": [
      " 29%|██▊       | 861000/3000000 [11:38:28<239:43:04,  2.48it/s]"
     ]
    },
    {
     "name": "stdout",
     "output_type": "stream",
     "text": [
      "test_rew_main =  0.2775441802449005\n"
     ]
    },
    {
     "name": "stderr",
     "output_type": "stream",
     "text": [
      " 29%|██▉       | 863993/3000000 [11:42:25<18:24:27, 32.23it/s] "
     ]
    },
    {
     "name": "stdout",
     "output_type": "stream",
     "text": [
      "ep_rew_main =  [1.1643187]\n"
     ]
    },
    {
     "name": "stderr",
     "output_type": "stream",
     "text": [
      " 29%|██▉       | 864000/3000000 [11:42:42<254:57:26,  2.33it/s]"
     ]
    },
    {
     "name": "stdout",
     "output_type": "stream",
     "text": [
      "test_rew_main =  0.08541674348920232\n"
     ]
    },
    {
     "name": "stderr",
     "output_type": "stream",
     "text": [
      " 29%|██▉       | 866995/3000000 [11:46:44<18:59:50, 31.19it/s] "
     ]
    },
    {
     "name": "stdout",
     "output_type": "stream",
     "text": [
      "ep_rew_main =  [0.4460629]\n"
     ]
    },
    {
     "name": "stderr",
     "output_type": "stream",
     "text": [
      " 29%|██▉       | 867000/3000000 [11:47:03<263:29:44,  2.25it/s]"
     ]
    },
    {
     "name": "stdout",
     "output_type": "stream",
     "text": [
      "test_rew_main =  0.24491435930932398\n"
     ]
    },
    {
     "name": "stderr",
     "output_type": "stream",
     "text": [
      " 29%|██▉       | 869998/3000000 [11:51:10<17:39:26, 33.51it/s] "
     ]
    },
    {
     "name": "stdout",
     "output_type": "stream",
     "text": [
      "ep_rew_main =  [0.961455]\n"
     ]
    },
    {
     "name": "stderr",
     "output_type": "stream",
     "text": [
      " 29%|██▉       | 869998/3000000 [11:51:23<17:39:26, 33.51it/s]"
     ]
    },
    {
     "name": "stdout",
     "output_type": "stream",
     "text": [
      "test_rew_main =  0.12963810918850455\n",
      "current_time =  2022-02-15T10:39:40.452585\n"
     ]
    },
    {
     "name": "stderr",
     "output_type": "stream",
     "text": [
      " 29%|██▉       | 870000/3000000 [11:52:41<1333:57:10,  2.25s/it]"
     ]
    },
    {
     "name": "stdout",
     "output_type": "stream",
     "text": [
      "current_time =  2022-02-15T10:40:54.681452\n"
     ]
    },
    {
     "name": "stderr",
     "output_type": "stream",
     "text": [
      " 29%|██▉       | 872986/3000000 [11:56:40<19:55:26, 29.65it/s]  "
     ]
    },
    {
     "name": "stdout",
     "output_type": "stream",
     "text": [
      "ep_rew_main =  [-0.10596314]\n"
     ]
    },
    {
     "name": "stderr",
     "output_type": "stream",
     "text": [
      " 29%|██▉       | 873000/3000000 [11:56:59<231:00:38,  2.56it/s]"
     ]
    },
    {
     "name": "stdout",
     "output_type": "stream",
     "text": [
      "test_rew_main =  0.2543280170838553\n"
     ]
    },
    {
     "name": "stderr",
     "output_type": "stream",
     "text": [
      " 29%|██▉       | 875989/3000000 [12:00:54<19:02:52, 30.97it/s] "
     ]
    },
    {
     "name": "stdout",
     "output_type": "stream",
     "text": [
      "ep_rew_main =  [-0.11560945]\n",
      "test_rew_main =  0.20073400551290405\n"
     ]
    },
    {
     "name": "stderr",
     "output_type": "stream",
     "text": [
      " 29%|██▉       | 878985/3000000 [12:05:15<23:27:38, 25.11it/s] "
     ]
    },
    {
     "name": "stdout",
     "output_type": "stream",
     "text": [
      "ep_rew_main =  [0.6770805]\n",
      "test_rew_main =  0.2913829331943168\n"
     ]
    },
    {
     "name": "stderr",
     "output_type": "stream",
     "text": [
      " 29%|██▉       | 881990/3000000 [12:09:38<18:54:18, 31.12it/s] "
     ]
    },
    {
     "name": "stdout",
     "output_type": "stream",
     "text": [
      "ep_rew_main =  [1.3455987]\n"
     ]
    },
    {
     "name": "stderr",
     "output_type": "stream",
     "text": [
      " 29%|██▉       | 882000/3000000 [12:09:55<236:31:15,  2.49it/s]"
     ]
    },
    {
     "name": "stdout",
     "output_type": "stream",
     "text": [
      "test_rew_main =  0.24556531814287422\n"
     ]
    },
    {
     "name": "stderr",
     "output_type": "stream",
     "text": [
      " 29%|██▉       | 884990/3000000 [12:13:57<18:52:29, 31.13it/s] "
     ]
    },
    {
     "name": "stdout",
     "output_type": "stream",
     "text": [
      "ep_rew_main =  [0.7379332]\n"
     ]
    },
    {
     "name": "stderr",
     "output_type": "stream",
     "text": [
      " 30%|██▉       | 885000/3000000 [12:14:16<242:45:28,  2.42it/s]"
     ]
    },
    {
     "name": "stdout",
     "output_type": "stream",
     "text": [
      "test_rew_main =  0.25123464375783316\n"
     ]
    },
    {
     "name": "stderr",
     "output_type": "stream",
     "text": [
      " 30%|██▉       | 887986/3000000 [12:18:17<23:57:28, 24.49it/s] "
     ]
    },
    {
     "name": "stdout",
     "output_type": "stream",
     "text": [
      "ep_rew_main =  [1.3038131]\n",
      "test_rew_main =  0.374488272599326\n"
     ]
    },
    {
     "name": "stderr",
     "output_type": "stream",
     "text": [
      " 30%|██▉       | 890994/3000000 [12:22:31<14:59:10, 39.09it/s] "
     ]
    },
    {
     "name": "stdout",
     "output_type": "stream",
     "text": [
      "ep_rew_main =  [0.5129724]\n"
     ]
    },
    {
     "name": "stderr",
     "output_type": "stream",
     "text": [
      " 30%|██▉       | 891000/3000000 [12:22:49<272:25:58,  2.15it/s]"
     ]
    },
    {
     "name": "stdout",
     "output_type": "stream",
     "text": [
      "test_rew_main =  0.20679011700799527\n"
     ]
    },
    {
     "name": "stderr",
     "output_type": "stream",
     "text": [
      " 30%|██▉       | 893997/3000000 [12:27:05<21:05:26, 27.74it/s] "
     ]
    },
    {
     "name": "stdout",
     "output_type": "stream",
     "text": [
      "ep_rew_main =  [1.2068152]\n"
     ]
    },
    {
     "name": "stderr",
     "output_type": "stream",
     "text": [
      " 30%|██▉       | 894000/3000000 [12:27:21<249:10:47,  2.35it/s]"
     ]
    },
    {
     "name": "stdout",
     "output_type": "stream",
     "text": [
      "test_rew_main =  0.4393253951055082\n"
     ]
    },
    {
     "name": "stderr",
     "output_type": "stream",
     "text": [
      " 30%|██▉       | 896997/3000000 [12:31:34<18:39:23, 31.31it/s] "
     ]
    },
    {
     "name": "stdout",
     "output_type": "stream",
     "text": [
      "ep_rew_main =  [1.4412369]\n"
     ]
    },
    {
     "name": "stderr",
     "output_type": "stream",
     "text": [
      " 30%|██▉       | 897000/3000000 [12:31:51<238:41:34,  2.45it/s]"
     ]
    },
    {
     "name": "stdout",
     "output_type": "stream",
     "text": [
      "test_rew_main =  0.21527828640702942\n"
     ]
    },
    {
     "name": "stderr",
     "output_type": "stream",
     "text": [
      " 30%|██▉       | 899992/3000000 [12:35:56<17:19:34, 33.67it/s] "
     ]
    },
    {
     "name": "stdout",
     "output_type": "stream",
     "text": [
      "ep_rew_main =  [1.1325167]\n"
     ]
    },
    {
     "name": "stderr",
     "output_type": "stream",
     "text": [
      " 30%|██▉       | 899992/3000000 [12:36:08<17:19:34, 33.67it/s]"
     ]
    },
    {
     "name": "stdout",
     "output_type": "stream",
     "text": [
      "test_rew_main =  0.5017221177207165\n",
      "current_time =  2022-02-15T11:24:23.128304\n"
     ]
    },
    {
     "name": "stderr",
     "output_type": "stream",
     "text": [
      " 30%|███       | 900000/3000000 [12:37:22<1076:41:36,  1.85s/it]"
     ]
    },
    {
     "name": "stdout",
     "output_type": "stream",
     "text": [
      "current_time =  2022-02-15T11:25:35.382469\n"
     ]
    },
    {
     "name": "stderr",
     "output_type": "stream",
     "text": [
      " 30%|███       | 902993/3000000 [12:41:55<22:15:55, 26.16it/s]  "
     ]
    },
    {
     "name": "stdout",
     "output_type": "stream",
     "text": [
      "ep_rew_main =  [2.0420914]\n"
     ]
    },
    {
     "name": "stderr",
     "output_type": "stream",
     "text": [
      " 30%|███       | 903000/3000000 [12:42:16<378:49:09,  1.54it/s]"
     ]
    },
    {
     "name": "stdout",
     "output_type": "stream",
     "text": [
      "test_rew_main =  0.4751929667108076\n"
     ]
    },
    {
     "name": "stderr",
     "output_type": "stream",
     "text": [
      " 30%|███       | 905991/3000000 [12:48:09<17:49:10, 32.64it/s] "
     ]
    },
    {
     "name": "stdout",
     "output_type": "stream",
     "text": [
      "ep_rew_main =  [0.69121015]\n"
     ]
    },
    {
     "name": "stderr",
     "output_type": "stream",
     "text": [
      " 30%|███       | 906000/3000000 [12:48:30<355:04:41,  1.64it/s]"
     ]
    },
    {
     "name": "stdout",
     "output_type": "stream",
     "text": [
      "test_rew_main =  0.3734401553012927\n"
     ]
    },
    {
     "name": "stderr",
     "output_type": "stream",
     "text": [
      " 30%|███       | 908995/3000000 [12:54:26<18:57:39, 30.63it/s] "
     ]
    },
    {
     "name": "stdout",
     "output_type": "stream",
     "text": [
      "ep_rew_main =  [1.2638068]\n"
     ]
    },
    {
     "name": "stderr",
     "output_type": "stream",
     "text": [
      " 30%|███       | 909000/3000000 [12:54:45<300:29:01,  1.93it/s]"
     ]
    },
    {
     "name": "stdout",
     "output_type": "stream",
     "text": [
      "test_rew_main =  0.1337012219220113\n"
     ]
    },
    {
     "name": "stderr",
     "output_type": "stream",
     "text": [
      " 30%|███       | 911100/3000000 [12:57:48<29:43:17, 19.52it/s] \n"
     ]
    },
    {
     "ename": "KeyboardInterrupt",
     "evalue": "",
     "output_type": "error",
     "traceback": [
      "\u001b[0;31m---------------------------------------------------------------------------\u001b[0m",
      "\u001b[0;31mKeyboardInterrupt\u001b[0m                         Traceback (most recent call last)",
      "\u001b[0;32m/tmp/ipykernel_27851/2291600410.py\u001b[0m in \u001b[0;36m<module>\u001b[0;34m\u001b[0m\n\u001b[1;32m     59\u001b[0m         \u001b[0;32mfor\u001b[0m \u001b[0mi\u001b[0m \u001b[0;32min\u001b[0m \u001b[0mrange\u001b[0m\u001b[0;34m(\u001b[0m\u001b[0mparams\u001b[0m\u001b[0;34m[\u001b[0m\u001b[0;34m\"update_every\"\u001b[0m\u001b[0;34m]\u001b[0m\u001b[0;34m)\u001b[0m\u001b[0;34m:\u001b[0m\u001b[0;34m\u001b[0m\u001b[0;34m\u001b[0m\u001b[0m\n\u001b[1;32m     60\u001b[0m \u001b[0;34m\u001b[0m\u001b[0m\n\u001b[0;32m---> 61\u001b[0;31m             \u001b[0mtransitions\u001b[0m \u001b[0;34m=\u001b[0m \u001b[0mmemory\u001b[0m\u001b[0;34m.\u001b[0m\u001b[0msample\u001b[0m\u001b[0;34m(\u001b[0m\u001b[0mparams\u001b[0m\u001b[0;34m[\u001b[0m\u001b[0;34m\"batch_size\"\u001b[0m\u001b[0;34m]\u001b[0m\u001b[0;34m)\u001b[0m\u001b[0;34m\u001b[0m\u001b[0;34m\u001b[0m\u001b[0m\n\u001b[0m\u001b[1;32m     62\u001b[0m             \u001b[0;31m# Transpose the batch (see https://stackoverflow.com/a/19343/3343043 for\u001b[0m\u001b[0;34m\u001b[0m\u001b[0;34m\u001b[0m\u001b[0;34m\u001b[0m\u001b[0m\n\u001b[1;32m     63\u001b[0m             \u001b[0;31m# detailed explanation). This converts batch-array of Transitions\u001b[0m\u001b[0;34m\u001b[0m\u001b[0;34m\u001b[0m\u001b[0;34m\u001b[0m\u001b[0m\n",
      "\u001b[0;32m/tmp/ipykernel_27851/302399041.py\u001b[0m in \u001b[0;36msample\u001b[0;34m(self, batch_size)\u001b[0m\n\u001b[1;32m     12\u001b[0m \u001b[0;34m\u001b[0m\u001b[0m\n\u001b[1;32m     13\u001b[0m     \u001b[0;32mdef\u001b[0m \u001b[0msample\u001b[0m\u001b[0;34m(\u001b[0m\u001b[0mself\u001b[0m\u001b[0;34m,\u001b[0m \u001b[0mbatch_size\u001b[0m\u001b[0;34m)\u001b[0m\u001b[0;34m:\u001b[0m\u001b[0;34m\u001b[0m\u001b[0;34m\u001b[0m\u001b[0m\n\u001b[0;32m---> 14\u001b[0;31m         \u001b[0;32mreturn\u001b[0m \u001b[0mrandom\u001b[0m\u001b[0;34m.\u001b[0m\u001b[0msample\u001b[0m\u001b[0;34m(\u001b[0m\u001b[0mself\u001b[0m\u001b[0;34m.\u001b[0m\u001b[0mmemory\u001b[0m\u001b[0;34m,\u001b[0m \u001b[0mbatch_size\u001b[0m\u001b[0;34m)\u001b[0m\u001b[0;34m\u001b[0m\u001b[0;34m\u001b[0m\u001b[0m\n\u001b[0m\u001b[1;32m     15\u001b[0m \u001b[0;34m\u001b[0m\u001b[0m\n\u001b[1;32m     16\u001b[0m     \u001b[0;32mdef\u001b[0m \u001b[0m__len__\u001b[0m\u001b[0;34m(\u001b[0m\u001b[0mself\u001b[0m\u001b[0;34m)\u001b[0m\u001b[0;34m:\u001b[0m\u001b[0;34m\u001b[0m\u001b[0;34m\u001b[0m\u001b[0m\n",
      "\u001b[0;32m~/anaconda3/envs/cosmic_rays_x_py38_env/lib/python3.8/random.py\u001b[0m in \u001b[0;36msample\u001b[0;34m(self, population, k)\u001b[0m\n\u001b[1;32m    381\u001b[0m                     \u001b[0mj\u001b[0m \u001b[0;34m=\u001b[0m \u001b[0mrandbelow\u001b[0m\u001b[0;34m(\u001b[0m\u001b[0mn\u001b[0m\u001b[0;34m)\u001b[0m\u001b[0;34m\u001b[0m\u001b[0;34m\u001b[0m\u001b[0m\n\u001b[1;32m    382\u001b[0m                 \u001b[0mselected_add\u001b[0m\u001b[0;34m(\u001b[0m\u001b[0mj\u001b[0m\u001b[0;34m)\u001b[0m\u001b[0;34m\u001b[0m\u001b[0;34m\u001b[0m\u001b[0m\n\u001b[0;32m--> 383\u001b[0;31m                 \u001b[0mresult\u001b[0m\u001b[0;34m[\u001b[0m\u001b[0mi\u001b[0m\u001b[0;34m]\u001b[0m \u001b[0;34m=\u001b[0m \u001b[0mpopulation\u001b[0m\u001b[0;34m[\u001b[0m\u001b[0mj\u001b[0m\u001b[0;34m]\u001b[0m\u001b[0;34m\u001b[0m\u001b[0;34m\u001b[0m\u001b[0m\n\u001b[0m\u001b[1;32m    384\u001b[0m         \u001b[0;32mreturn\u001b[0m \u001b[0mresult\u001b[0m\u001b[0;34m\u001b[0m\u001b[0;34m\u001b[0m\u001b[0m\n\u001b[1;32m    385\u001b[0m \u001b[0;34m\u001b[0m\u001b[0m\n",
      "\u001b[0;31mKeyboardInterrupt\u001b[0m: "
     ]
    },
    {
     "name": "stdout",
     "output_type": "stream",
     "text": [
      "Shutting down background jobs, please wait a moment...\n",
      "Done!\n"
     ]
    },
    {
     "name": "stderr",
     "output_type": "stream",
     "text": [
      "Waiting for the remaining 26 operations to synchronize with Neptune. Do not kill this process.\n"
     ]
    },
    {
     "name": "stdout",
     "output_type": "stream",
     "text": [
      "All 26 operations synced, thanks for waiting!\n"
     ]
    }
   ],
   "source": [
    "# Main loop: collect experience in env and update/log each epoch\n",
    "low, high = env.action_spec\n",
    "\n",
    "for t in tqdm(range(total_steps)):\n",
    "    \n",
    "    # Until start_steps have elapsed, randomly sample actions\n",
    "    # from a uniform distribution for better exploration. Afterwards, \n",
    "    # use the learned policy (with some noise, via act_noise). \n",
    "    if t > params[\"start_steps\"]:\n",
    "        a = get_action(o, params[\"act_noise\"])      # Tensor\n",
    "    else:\n",
    "        a = torch.tensor([np.random.uniform(low, high)], dtype=torch.float32, device=device)\n",
    "        \n",
    "    a_cpu = a.cpu().data.numpy()\n",
    "    # Step the env\n",
    "    obs2, r, d, _ = env.step(a_cpu[0])\n",
    "    \n",
    "    o2 = list(obs2['robot0_proprio-state']) + list(obs2['object-state'])\n",
    "    # print('len(o2) = ', len(o2))\n",
    "\n",
    "    ep_len += 1\n",
    "    total_main += r\n",
    "\n",
    "\n",
    "    # Ignore the \"done\" signal if it comes from hitting the time\n",
    "    # horizon (that is, when it's an artificial terminal signal\n",
    "    # that isn't based on the agent's state)\n",
    "    d = False if ep_len==params[\"max_ep_len\"] else d\n",
    "\n",
    "    o2 = torch.tensor([o2], dtype=torch.float32, device=device)\n",
    "    r = torch.tensor([r], dtype=torch.float32, device=device)\n",
    "    d = torch.tensor([d], dtype=torch.float32, device=device)\n",
    "\n",
    "    # Store experience to replay buffer\n",
    "    memory.push(o, a, r, o2, d)\n",
    "    nep_log[\"train/o\"].log(o)\n",
    "    nep_log[\"train/a\"].log(a)\n",
    "    nep_log[\"train/r\"].log(r)\n",
    "    nep_log[\"train/o2\"].log(o2)\n",
    "    nep_log[\"train/d\"].log(d)\n",
    "\n",
    "    # Super critical, easy to overlook step: make sure to update \n",
    "    # most recent observation!\n",
    "    o=o2\n",
    "    ep_ret += r\n",
    "    \n",
    "    \n",
    "    # End of trajectory handling\n",
    "    if d or (ep_len == params[\"max_ep_len\"]):\n",
    "        ep_rew = ep_ret/ep_len\n",
    "        ep_rew_main += ep_rew\n",
    "        obs, ep_ret, ep_len = env.reset(), 0, 0\n",
    "        o = list(obs['robot0_proprio-state']) + list(obs['object-state'])\n",
    "        o = torch.tensor([o], device=device)\n",
    "\n",
    "\n",
    "    # Update handling\n",
    "    if t >= params[\"update_after\"] and t % params[\"update_every\"] == 0:\n",
    "        for i in range(params[\"update_every\"]):\n",
    "\n",
    "            transitions = memory.sample(params[\"batch_size\"])\n",
    "            # Transpose the batch (see https://stackoverflow.com/a/19343/3343043 for\n",
    "            # detailed explanation). This converts batch-array of Transitions\n",
    "            # to Transition of batch-arrays.\n",
    "            batch = Transition(*zip(*transitions))\n",
    "            update(data=batch)\n",
    "\n",
    "    # End of epoch handling\n",
    "    if (t+1) % params[\"steps_per_epoch\"] == 0:\n",
    "        epoch = (t+1) // params[\"steps_per_epoch\"]\n",
    "\n",
    "        nep_log[\"train/reward\"].log(ep_rew_main)\n",
    "        print('ep_rew_main = ', ep_rew_main.cpu().data.numpy())\n",
    "        ep_rew_main = 0\n",
    "        # Test the performance of the deterministic version of the agent.\n",
    "        test_agent(epoch)\n",
    "        \n",
    "\n",
    "    if (t+1) % params[\"steps_video\"] == 0:\n",
    "        epoch = (t+1) // params[\"steps_per_epoch\"]\n",
    "        now = datetime.now()\n",
    "        current_time = str(now.isoformat())\n",
    "        print('current_time = ', current_time)\n",
    "        video_agent(epoch)\n",
    "        now = datetime.now()\n",
    "        current_time = str(now.isoformat())\n",
    "        print('current_time = ', current_time)\n",
    "\n",
    "    if (t+1) % params[\"save_model_len\"] == 0:\n",
    "        epoch = (t+1) // params[\"steps_per_epoch\"]\n",
    "        now = datetime.now()\n",
    "        current_time = str(now.isoformat())\n",
    "        torch.save({\n",
    "                    'model of ac.q': ac.q.state_dict(),\n",
    "                    'model of ac.pi': ac.pi.state_dict(),\n",
    "                    'q_optimizer_state_dict': q_optimizer.state_dict(),\n",
    "                    'pi_optimizer_state_dict': pi_optimizer.state_dict(),\n",
    "                    \n",
    "                    }, \"model_nn/model_nn_%s%d.pt\" % (current_time, epoch))\n",
    "\n",
    "\n",
    "        "
   ]
  },
  {
   "cell_type": "code",
   "execution_count": null,
   "metadata": {},
   "outputs": [
    {
     "name": "stdout",
     "output_type": "stream",
     "text": [
      "Model_q's state_dict:\n",
      "q.0.weight \t torch.Size([256, 41])\n",
      "q.0.bias \t torch.Size([256])\n",
      "q.2.weight \t torch.Size([256, 256])\n",
      "q.2.bias \t torch.Size([256])\n",
      "q.4.weight \t torch.Size([256, 256])\n",
      "q.4.bias \t torch.Size([256])\n",
      "q.6.weight \t torch.Size([1, 256])\n",
      "q.6.bias \t torch.Size([1])\n",
      "Model_pi's state_dict:\n",
      "pi.0.weight \t torch.Size([256, 35])\n",
      "pi.0.bias \t torch.Size([256])\n",
      "pi.2.weight \t torch.Size([256, 256])\n",
      "pi.2.bias \t torch.Size([256])\n",
      "pi.4.weight \t torch.Size([256, 256])\n",
      "pi.4.bias \t torch.Size([256])\n",
      "pi.6.weight \t torch.Size([6, 256])\n",
      "pi.6.bias \t torch.Size([6])\n"
     ]
    }
   ],
   "source": [
    "model = ac.q\n",
    "print(\"Model_q's state_dict:\")\n",
    "for param_tensor in model.state_dict():\n",
    "    print(param_tensor, \"\\t\", model.state_dict()[param_tensor].size())\n",
    "\n",
    "model = ac.pi\n",
    "print(\"Model_pi's state_dict:\")\n",
    "for param_tensor in model.state_dict():\n",
    "    print(param_tensor, \"\\t\", model.state_dict()[param_tensor].size())"
   ]
  },
  {
   "cell_type": "code",
   "execution_count": null,
   "metadata": {},
   "outputs": [
    {
     "name": "stderr",
     "output_type": "stream",
     "text": [
      "Warning: string series 'monitoring/stdout' value was longer than 1000 characters and was truncated. This warning is printed only once per series.\n"
     ]
    },
    {
     "name": "stdout",
     "output_type": "stream",
     "text": [
      "pi_optimizer's state_dict:\n",
      "state \t {0: {'step': 295000, 'square_avg': tensor([[1.5294e-07, 4.3574e-07, 1.7078e-07,  ..., 4.6295e-08, 1.3153e-07,\n",
      "         3.2821e-08],\n",
      "        [1.1260e-06, 1.0042e-06, 9.5667e-07,  ..., 3.2371e-07, 2.5242e-06,\n",
      "         2.0768e-07],\n",
      "        [3.3766e-07, 1.8660e-07, 2.4575e-07,  ..., 6.6838e-08, 3.6149e-07,\n",
      "         3.6968e-08],\n",
      "        ...,\n",
      "        [3.4772e-07, 6.0496e-07, 3.3804e-07,  ..., 8.6878e-08, 3.6086e-07,\n",
      "         6.7247e-08],\n",
      "        [1.1408e-06, 7.1713e-07, 6.1176e-07,  ..., 3.4519e-07, 1.2215e-06,\n",
      "         1.1788e-07],\n",
      "        [2.8419e-07, 7.1120e-07, 3.0715e-07,  ..., 6.3061e-08, 4.3581e-07,\n",
      "         7.5016e-08]], device='cuda:0')}, 1: {'step': 295000, 'square_avg': tensor([5.5312e-07, 3.3224e-06, 6.3727e-07, 5.1333e-07, 8.2843e-07, 6.8615e-07,\n",
      "        8.8244e-07, 1.9534e-06, 6.2446e-07, 1.3387e-06, 4.0938e-07, 1.2642e-06,\n",
      "        6.8603e-07, 9.9440e-07, 1.2369e-06, 7.1836e-07, 1.1587e-06, 1.1835e-06,\n",
      "        9.5166e-07, 5.0816e-07, 1.7202e-06, 5.6938e-07, 4.4152e-07, 1.0684e-06,\n",
      "        3.1871e-07, 1.2115e-06, 7.0910e-07, 5.9612e-07, 1.3182e-06, 4.3405e-07,\n",
      "        1.3060e-06, 4.9002e-07, 1.5110e-06, 7.4731e-07, 1.3223e-06, 1.3257e-06,\n",
      "        9.5778e-07, 5.1564e-07, 1.3252e-06, 5.1387e-07, 2.5570e-06, 1.0065e-06,\n",
      "        9.3963e-07, 5.5101e-07, 1.0983e-06, 5.5319e-07, 7.3117e-07, 1.0999e-06,\n",
      "        1.3151e-06, 4.2179e-07, 5.4948e-07, 5.7533e-07, 5.4058e-07, 4.1292e-06,\n",
      "        8.9550e-07, 8.9379e-07, 1.4890e-06, 8.2242e-07, 1.0184e-06, 9.3332e-07,\n",
      "        5.0147e-07, 1.0326e-06, 5.6830e-07, 9.6716e-07, 1.6930e-06, 1.4243e-06,\n",
      "        7.0928e-07, 2.3552e-07, 9.1991e-07, 2.0595e-06, 8.3736e-07, 1.8500e-06,\n",
      "        9.6629e-07, 9.1615e-07, 6.0231e-07, 6.0253e-07, 9.5487e-07, 5.6852e-07,\n",
      "        1.6028e-06, 7.8441e-07, 2.1564e-06, 7.0696e-07, 5.4571e-07, 6.9029e-07,\n",
      "        7.2878e-07, 4.5841e-07, 1.6332e-06, 7.2337e-07, 6.3352e-07, 1.6297e-06,\n",
      "        6.0255e-07, 1.2341e-06, 1.3196e-06, 7.3362e-07, 2.3132e-06, 3.7870e-07,\n",
      "        5.7771e-07, 6.5394e-07, 1.3188e-06, 2.2837e-06, 7.8352e-07, 1.3910e-06,\n",
      "        8.8812e-07, 1.0316e-06, 4.5920e-07, 8.7999e-07, 6.6733e-07, 1.0406e-06,\n",
      "        9.5847e-07, 8.0143e-07, 4.2200e-07, 1.0488e-06, 1.0378e-06, 6.3690e-07,\n",
      "        6.9079e-07, 5.8200e-07, 2.2845e-06, 1.3906e-06, 2.7831e-06, 3.1157e-06,\n",
      "        9.7969e-07, 1.1447e-06, 1.2942e-06, 9.7422e-07, 1.2397e-06, 1.8610e-07,\n",
      "        3.3845e-07, 1.8373e-06, 1.8163e-06, 7.8021e-07, 8.3872e-07, 1.4292e-06,\n",
      "        8.2664e-07, 1.4749e-06, 4.6770e-07, 3.3704e-07, 1.9078e-06, 9.4330e-07,\n",
      "        8.8852e-07, 8.6381e-07, 1.3557e-06, 9.6310e-07, 6.6882e-07, 8.1204e-07,\n",
      "        1.5272e-06, 7.9280e-07, 1.4181e-06, 1.9098e-06, 6.6300e-07, 1.2946e-06,\n",
      "        6.9522e-07, 8.5799e-07, 1.3232e-06, 1.5567e-06, 5.0456e-07, 5.9942e-07,\n",
      "        1.0643e-06, 9.0908e-07, 6.7114e-07, 6.8561e-07, 9.7002e-07, 2.7347e-06,\n",
      "        9.8231e-07, 5.3625e-07, 1.0869e-06, 8.6739e-07, 7.0934e-07, 8.1913e-07,\n",
      "        1.3662e-06, 1.0837e-06, 2.8735e-06, 1.0980e-06, 4.4656e-07, 3.7085e-07,\n",
      "        2.9545e-07, 8.3675e-07, 1.1475e-06, 3.0978e-06, 1.2737e-06, 1.9716e-06,\n",
      "        7.4679e-07, 1.2701e-06, 7.6067e-07, 2.2446e-06, 5.6750e-07, 7.6226e-07,\n",
      "        3.2957e-07, 2.8627e-06, 9.2688e-07, 1.2293e-06, 1.1479e-06, 5.9642e-07,\n",
      "        5.2939e-07, 3.2521e-06, 1.8728e-07, 8.2832e-07, 9.6715e-07, 8.0092e-07,\n",
      "        2.3647e-06, 4.7690e-07, 3.9721e-07, 1.1170e-06, 2.1490e-06, 8.3836e-07,\n",
      "        5.1579e-07, 2.5706e-06, 8.9556e-07, 1.4429e-06, 8.6339e-07, 3.4810e-07,\n",
      "        4.8095e-06, 5.9977e-07, 6.3561e-07, 1.3872e-06, 1.5696e-06, 5.6733e-07,\n",
      "        3.9694e-07, 8.0231e-07, 1.9316e-06, 1.2127e-06, 1.7018e-06, 1.2005e-06,\n",
      "        8.4203e-07, 2.7374e-07, 1.7970e-06, 1.7229e-06, 2.9321e-06, 7.1214e-07,\n",
      "        2.5184e-07, 1.1740e-06, 1.5586e-06, 1.4483e-06, 1.1358e-06, 1.1357e-06,\n",
      "        2.2400e-07, 5.0166e-07, 5.3679e-07, 6.6559e-07, 6.8442e-07, 9.3597e-07,\n",
      "        6.9036e-07, 7.6608e-07, 8.0037e-07, 9.6158e-07, 4.2180e-07, 1.1313e-06,\n",
      "        1.5995e-06, 7.2820e-07, 1.3905e-06, 7.3579e-07, 1.3210e-06, 1.9925e-06,\n",
      "        5.4515e-07, 9.3228e-07, 2.1240e-06, 8.1638e-07], device='cuda:0')}, 2: {'step': 295000, 'square_avg': tensor([[2.6364e-07, 2.2522e-07, 2.6878e-07,  ..., 4.7396e-07, 1.0001e-07,\n",
      "         7.6052e-08],\n",
      "        [8.5503e-09, 1.2509e-07, 4.3237e-08,  ..., 1.0311e-07, 1.2524e-08,\n",
      "         1.2141e-08],\n",
      "        [6.7685e-08, 1.2867e-07, 9.7317e-08,  ..., 2.3960e-07, 3.1709e-08,\n",
      "         3.0172e-09],\n",
      "        ...,\n",
      "        [1.9853e-09, 7.1651e-08, 7.0533e-08,  ..., 5.1073e-08, 4.5405e-08,\n",
      "         2.3598e-09],\n",
      "        [4.0061e-08, 1.8999e-08, 1.1788e-08,  ..., 4.2179e-08, 8.2509e-09,\n",
      "         8.3547e-09],\n",
      "        [8.7009e-09, 1.4293e-07, 1.7964e-07,  ..., 1.2611e-07, 7.5952e-08,\n",
      "         6.9463e-11]], device='cuda:0')}, 3: {'step': 295000, 'square_avg': tensor([1.3338e-06, 2.8732e-07, 5.1800e-07, 2.6833e-07, 3.5114e-07, 2.5751e-07,\n",
      "        7.3793e-07, 1.0731e-06, 7.0303e-07, 5.2857e-07, 6.3745e-07, 9.3030e-07,\n",
      "        3.7616e-08, 2.9885e-07, 3.3626e-07, 3.2385e-07, 2.4328e-07, 2.0632e-07,\n",
      "        7.0224e-07, 6.5806e-07, 5.5312e-07, 2.7065e-07, 5.9326e-07, 1.0039e-06,\n",
      "        2.7501e-07, 4.7491e-07, 4.1329e-07, 5.3936e-07, 7.1273e-07, 7.7757e-07,\n",
      "        2.7682e-07, 4.3035e-07, 6.6462e-07, 1.7276e-07, 1.2666e-06, 6.8352e-07,\n",
      "        2.8992e-07, 5.4134e-07, 4.4876e-07, 7.2785e-07, 2.1251e-07, 4.8728e-07,\n",
      "        4.7146e-07, 1.8229e-07, 7.7180e-07, 3.1533e-07, 5.1669e-07, 8.6744e-07,\n",
      "        3.8321e-07, 5.3658e-07, 2.0011e-07, 1.8571e-06, 2.6245e-07, 2.7908e-07,\n",
      "        6.6007e-07, 4.8321e-07, 8.9602e-07, 4.6330e-07, 2.1250e-07, 8.6825e-08,\n",
      "        2.7448e-07, 2.8190e-07, 1.3591e-07, 9.7716e-08, 6.4455e-07, 2.8552e-07,\n",
      "        3.3592e-07, 2.2875e-07, 1.0917e-06, 4.5126e-07, 7.4150e-07, 5.8700e-07,\n",
      "        1.0078e-06, 3.4984e-07, 2.3437e-07, 4.3321e-07, 3.8935e-07, 3.2052e-07,\n",
      "        6.1166e-07, 4.0685e-07, 3.2441e-07, 2.1697e-07, 4.1636e-07, 3.0527e-07,\n",
      "        4.4015e-07, 7.9645e-07, 2.4019e-07, 1.8029e-07, 5.0087e-07, 6.5011e-07,\n",
      "        3.6448e-07, 4.8143e-07, 3.7006e-07, 2.1088e-06, 9.4752e-07, 7.1240e-07,\n",
      "        9.1845e-07, 8.9059e-07, 5.2570e-07, 4.3511e-07, 4.6036e-07, 1.1099e-06,\n",
      "        1.0365e-06, 3.3845e-07, 5.8313e-07, 5.4943e-07, 3.7440e-07, 4.7996e-07,\n",
      "        3.4762e-07, 5.3849e-07, 3.2128e-07, 2.9810e-07, 5.7996e-07, 8.6317e-07,\n",
      "        2.7703e-07, 4.9465e-07, 1.3240e-06, 2.2212e-07, 3.0681e-07, 1.1604e-07,\n",
      "        2.2839e-07, 3.2602e-07, 3.4324e-07, 2.4034e-07, 1.2205e-07, 3.7709e-07,\n",
      "        3.3391e-07, 6.7559e-07, 2.8020e-07, 2.2182e-07, 5.8942e-07, 1.9866e-07,\n",
      "        6.7924e-07, 1.2486e-06, 4.4893e-07, 8.2482e-07, 1.5853e-07, 6.6744e-07,\n",
      "        8.5739e-08, 4.1593e-07, 3.7109e-07, 4.2747e-07, 4.5249e-07, 1.8811e-07,\n",
      "        9.1907e-07, 2.9936e-07, 2.7776e-07, 6.0889e-07, 2.6149e-07, 8.9493e-07,\n",
      "        8.0736e-07, 1.7997e-07, 2.3811e-07, 1.1472e-06, 4.4953e-07, 1.2218e-07,\n",
      "        3.1180e-07, 3.7743e-07, 2.7124e-07, 6.0669e-07, 2.0176e-07, 2.5950e-07,\n",
      "        3.3980e-07, 4.7618e-07, 8.4249e-07, 7.9413e-07, 6.0415e-07, 6.7151e-07,\n",
      "        5.9305e-07, 5.4607e-07, 6.7823e-07, 2.2616e-07, 5.8593e-07, 5.0708e-07,\n",
      "        1.7715e-07, 6.0535e-07, 5.8566e-07, 2.2872e-07, 1.8342e-07, 5.6274e-07,\n",
      "        5.7370e-07, 4.7224e-07, 3.6537e-07, 1.0944e-06, 5.1585e-07, 3.4805e-07,\n",
      "        2.0934e-07, 1.2736e-06, 5.7299e-07, 2.5321e-07, 6.3862e-07, 7.6575e-07,\n",
      "        1.9565e-07, 1.4500e-07, 6.6701e-07, 7.0296e-07, 1.6571e-07, 7.7348e-07,\n",
      "        1.0200e-06, 2.7622e-07, 6.1201e-07, 3.1422e-07, 1.1798e-07, 4.0956e-07,\n",
      "        3.0563e-07, 8.9075e-07, 2.1461e-07, 7.2730e-07, 3.4742e-07, 1.7042e-07,\n",
      "        6.5309e-07, 9.1955e-07, 1.8736e-07, 3.1510e-07, 1.4743e-06, 4.2827e-07,\n",
      "        5.5637e-07, 4.3796e-07, 3.2133e-07, 2.8234e-07, 4.5314e-07, 1.1563e-07,\n",
      "        1.1016e-06, 1.2050e-06, 3.0249e-07, 6.0765e-07, 4.4911e-07, 1.6574e-07,\n",
      "        1.7728e-07, 1.6654e-06, 1.1465e-07, 2.3199e-07, 8.1542e-07, 7.2397e-07,\n",
      "        9.1439e-07, 3.4069e-07, 1.8869e-07, 3.8633e-07, 2.8953e-07, 6.8189e-07,\n",
      "        4.6632e-07, 1.0782e-07, 3.8895e-07, 5.6133e-07, 4.2811e-07, 1.5588e-07,\n",
      "        4.8586e-07, 7.4463e-07, 6.9351e-07, 3.1670e-07, 6.4388e-07, 5.8201e-07,\n",
      "        5.9323e-07, 2.2376e-07, 1.8152e-07, 3.8706e-07], device='cuda:0')}, 4: {'step': 295000, 'square_avg': tensor([[3.1394e-09, 9.5149e-10, 1.0238e-09,  ..., 9.0438e-11, 6.1631e-09,\n",
      "         5.9294e-11],\n",
      "        [2.2682e-09, 4.4827e-10, 6.2714e-10,  ..., 1.6272e-10, 4.1773e-09,\n",
      "         2.1893e-10],\n",
      "        [6.4304e-09, 1.2936e-09, 2.8372e-09,  ..., 7.6575e-10, 1.5071e-08,\n",
      "         8.6409e-10],\n",
      "        ...,\n",
      "        [2.3437e-09, 7.1944e-10, 1.7054e-09,  ..., 3.7593e-10, 2.3442e-09,\n",
      "         1.8384e-10],\n",
      "        [1.9351e-09, 3.4401e-10, 6.5610e-10,  ..., 7.6308e-11, 3.9624e-09,\n",
      "         1.5092e-10],\n",
      "        [2.3511e-09, 3.9019e-10, 1.2407e-09,  ..., 1.8418e-10, 2.0405e-09,\n",
      "         1.2793e-10]], device='cuda:0')}, 5: {'step': 295000, 'square_avg': tensor([9.2065e-09, 7.0973e-09, 2.3651e-08, 9.7506e-09, 5.5370e-09, 5.8348e-09,\n",
      "        3.4424e-09, 1.5745e-08, 4.9498e-09, 6.8082e-09, 9.7877e-09, 1.4240e-08,\n",
      "        5.5357e-09, 7.3659e-09, 3.1238e-09, 4.3835e-09, 1.4412e-08, 1.4305e-08,\n",
      "        1.1191e-08, 1.2285e-08, 1.0460e-08, 8.2069e-09, 6.1616e-09, 1.1412e-08,\n",
      "        1.3441e-08, 7.0059e-09, 6.3353e-09, 1.2801e-08, 3.8395e-09, 8.6126e-09,\n",
      "        1.4371e-08, 1.4981e-08, 8.8991e-09, 9.1239e-09, 1.1283e-08, 1.2043e-08,\n",
      "        2.7040e-09, 8.8261e-09, 2.4090e-09, 1.1915e-08, 1.2796e-08, 1.4876e-08,\n",
      "        7.1222e-09, 7.9508e-09, 8.7164e-09, 1.5480e-08, 9.9099e-09, 8.4846e-09,\n",
      "        6.0553e-09, 7.3750e-09, 5.6852e-09, 7.7303e-09, 2.2906e-08, 1.6367e-08,\n",
      "        3.5251e-09, 1.1791e-08, 7.5733e-09, 3.5443e-08, 7.7152e-09, 1.1595e-08,\n",
      "        7.2742e-09, 4.1447e-09, 9.4950e-09, 1.6653e-08, 2.9730e-09, 1.5146e-08,\n",
      "        1.0986e-08, 8.0505e-09, 1.1477e-08, 1.2165e-08, 5.2469e-09, 2.0293e-08,\n",
      "        5.3898e-09, 7.6215e-09, 1.5095e-08, 5.6133e-09, 6.6316e-09, 1.5686e-08,\n",
      "        8.2381e-09, 9.0120e-09, 1.6478e-08, 1.6011e-08, 2.2966e-08, 1.7814e-08,\n",
      "        1.3873e-08, 9.2506e-09, 1.3875e-08, 6.3246e-09, 2.5015e-09, 1.9397e-08,\n",
      "        1.1993e-08, 1.4565e-08, 7.3679e-09, 6.2618e-09, 4.8038e-09, 1.9393e-08,\n",
      "        1.2679e-08, 1.0975e-08, 7.5628e-09, 1.1598e-08, 4.9220e-09, 1.1663e-08,\n",
      "        8.5824e-09, 1.4010e-08, 6.4099e-09, 1.1440e-08, 1.1121e-08, 3.5779e-09,\n",
      "        7.4233e-09, 1.0481e-08, 5.6514e-09, 1.2491e-08, 2.4878e-09, 6.5521e-09,\n",
      "        7.0606e-09, 8.2678e-09, 1.0034e-08, 9.7843e-09, 8.5420e-09, 1.2525e-08,\n",
      "        6.2454e-09, 7.7457e-09, 1.9937e-08, 8.6755e-09, 9.9217e-09, 3.9916e-09,\n",
      "        9.8247e-09, 6.1970e-09, 8.1826e-09, 7.4502e-09, 1.5098e-08, 4.0280e-09,\n",
      "        6.5410e-09, 8.8682e-09, 3.8162e-09, 4.7413e-09, 3.6692e-08, 7.4869e-09,\n",
      "        1.4816e-08, 1.4210e-08, 4.4805e-09, 4.9680e-09, 9.2692e-09, 5.4416e-09,\n",
      "        2.0447e-08, 5.0088e-09, 1.3441e-08, 6.0192e-09, 6.8987e-09, 5.2347e-09,\n",
      "        4.4433e-09, 1.7076e-08, 1.5862e-08, 5.9263e-09, 1.1715e-08, 5.5197e-09,\n",
      "        4.4242e-09, 3.1045e-08, 1.5255e-08, 7.7892e-09, 1.0493e-08, 9.1635e-09,\n",
      "        1.1453e-08, 6.6077e-09, 5.1822e-09, 1.8968e-08, 2.0914e-08, 9.6755e-09,\n",
      "        7.6440e-09, 1.1165e-08, 6.7669e-09, 4.2202e-09, 5.8813e-09, 5.2459e-09,\n",
      "        7.4019e-09, 5.4443e-09, 6.2190e-09, 2.3115e-08, 1.7096e-08, 1.5924e-08,\n",
      "        8.2722e-09, 9.5527e-09, 2.8956e-09, 2.0172e-08, 8.6545e-09, 1.0099e-08,\n",
      "        2.2530e-08, 8.0111e-09, 8.4913e-09, 3.2567e-08, 9.3316e-09, 1.2699e-08,\n",
      "        1.1258e-08, 9.3863e-09, 9.3650e-09, 9.1275e-09, 5.2864e-09, 1.9495e-08,\n",
      "        6.2983e-09, 5.7350e-09, 6.5108e-09, 4.5395e-09, 7.1603e-09, 3.7605e-09,\n",
      "        1.0630e-08, 7.6619e-09, 5.9646e-09, 7.8970e-09, 4.2678e-09, 1.7743e-08,\n",
      "        1.7611e-08, 5.8940e-09, 1.8404e-08, 1.0969e-08, 3.7260e-09, 1.2455e-08,\n",
      "        1.7226e-08, 9.2261e-09, 7.6250e-09, 7.7405e-09, 9.4202e-09, 3.8526e-09,\n",
      "        3.0899e-09, 7.1657e-09, 2.5533e-09, 1.4856e-08, 2.8082e-09, 2.8267e-09,\n",
      "        1.2820e-08, 7.5158e-09, 9.6652e-09, 5.3506e-09, 1.8341e-08, 8.7977e-09,\n",
      "        5.7462e-09, 5.5747e-09, 1.2062e-08, 6.6798e-09, 1.0871e-08, 6.1218e-09,\n",
      "        1.1647e-08, 9.7184e-09, 3.4347e-09, 8.5693e-09, 4.6036e-09, 2.1932e-08,\n",
      "        9.2513e-09, 1.4924e-08, 1.2800e-08, 5.4725e-09, 6.0429e-09, 2.0492e-09,\n",
      "        1.6344e-08, 8.6694e-09, 5.7225e-09, 5.8494e-09], device='cuda:0')}, 6: {'step': 295000, 'square_avg': tensor([[1.8143e-08, 9.6778e-08, 4.4752e-08,  ..., 1.5556e-08, 8.9718e-09,\n",
      "         3.0606e-09],\n",
      "        [1.5187e-08, 8.2496e-08, 3.5922e-08,  ..., 1.3472e-08, 7.6406e-09,\n",
      "         3.1729e-09],\n",
      "        [1.4229e-08, 9.1585e-08, 3.7812e-08,  ..., 6.9501e-09, 8.1942e-09,\n",
      "         3.5396e-09],\n",
      "        [1.5162e-08, 7.6787e-08, 3.0689e-08,  ..., 9.8035e-09, 5.7403e-09,\n",
      "         2.8772e-09],\n",
      "        [1.4446e-08, 9.0092e-08, 3.1677e-08,  ..., 1.6612e-08, 8.1558e-09,\n",
      "         2.9016e-09],\n",
      "        [1.0153e-08, 5.7720e-08, 2.8019e-08,  ..., 8.9603e-09, 5.9201e-09,\n",
      "         2.2449e-09]], device='cuda:0')}, 7: {'step': 295000, 'square_avg': tensor([1.3585e-08, 1.3872e-08, 1.5136e-08, 1.0790e-08, 1.2573e-08, 8.6486e-09],\n",
      "       device='cuda:0')}}\n",
      "param_groups \t [{'lr': 0.0001, 'momentum': 0, 'alpha': 0.99, 'eps': 1e-08, 'centered': False, 'weight_decay': 0, 'params': [0, 1, 2, 3, 4, 5, 6, 7]}]\n",
      "q_optimizer's state_dict:\n",
      "state \t {0: {'step': 295000, 'square_avg': tensor([[4.1939e-06, 2.0386e-05, 1.0340e-05,  ..., 2.6008e-05, 8.6066e-06,\n",
      "         1.0164e-05],\n",
      "        [4.2373e-06, 9.3233e-05, 1.5095e-05,  ..., 3.0826e-05, 7.8962e-06,\n",
      "         6.8220e-06],\n",
      "        [3.8908e-06, 2.8025e-05, 5.3164e-05,  ..., 2.4105e-05, 1.2283e-05,\n",
      "         3.9156e-06],\n",
      "        ...,\n",
      "        [8.0495e-06, 1.4984e-04, 4.8289e-05,  ..., 2.6330e-05, 2.7567e-05,\n",
      "         3.4536e-06],\n",
      "        [3.6349e-06, 1.2911e-04, 3.5417e-05,  ..., 6.6526e-05, 5.0442e-05,\n",
      "         7.0868e-06],\n",
      "        [3.7262e-06, 6.0754e-06, 9.5844e-06,  ..., 2.8285e-06, 5.4790e-06,\n",
      "         4.2079e-06]], device='cuda:0')}, 1: {'step': 295000, 'square_avg': tensor([8.7849e-05, 9.8852e-05, 4.2656e-05, 9.5353e-06, 4.5463e-05, 1.2520e-04,\n",
      "        4.5016e-04, 4.6749e-05, 1.2066e-03, 2.3178e-05, 1.2974e-05, 1.0481e-04,\n",
      "        1.0671e-04, 6.9184e-04, 1.7677e-04, 3.2919e-05, 2.3412e-03, 2.3987e-03,\n",
      "        4.5631e-03, 1.0609e-04, 2.5966e-04, 5.2981e-05, 3.4757e-05, 2.6116e-04,\n",
      "        2.6255e-04, 2.4795e-05, 2.2004e-05, 4.2195e-05, 1.2401e-04, 3.5645e-05,\n",
      "        4.4766e-06, 7.6052e-05, 1.5305e-04, 2.7887e-04, 1.9747e-05, 2.3619e-04,\n",
      "        3.7841e-05, 4.0247e-05, 2.1463e-04, 1.4441e-04, 2.9290e-05, 6.4643e-05,\n",
      "        7.8654e-05, 9.4276e-06, 9.6274e-05, 2.9529e-04, 8.7449e-04, 4.3755e-04,\n",
      "        1.6519e-05, 2.7221e-05, 9.9027e-04, 8.1645e-04, 1.1912e-04, 7.0045e-04,\n",
      "        2.6515e-04, 2.2641e-04, 1.8238e-03, 4.4026e-04, 5.4623e-05, 5.8092e-04,\n",
      "        8.9378e-05, 3.8272e-04, 1.3166e-04, 3.9376e-04, 7.3565e-06, 1.1857e-04,\n",
      "        6.4535e-05, 1.9083e-04, 1.3562e-04, 2.5039e-04, 1.0139e-04, 1.9717e-04,\n",
      "        5.9456e-05, 1.9565e-05, 2.8555e-04, 9.1134e-04, 4.3788e-06, 2.8440e-04,\n",
      "        8.2106e-06, 1.0087e-03, 1.2028e-04, 4.7298e-05, 9.0666e-04, 1.3180e-04,\n",
      "        9.7248e-04, 1.8795e-05, 1.8423e-05, 1.2645e-04, 4.6493e-05, 3.5828e-04,\n",
      "        4.2391e-04, 5.3139e-06, 6.3490e-06, 8.5972e-05, 3.3547e-05, 5.9684e-04,\n",
      "        1.0657e-03, 3.4164e-05, 1.7844e-04, 1.3019e-04, 1.8096e-03, 2.4706e-05,\n",
      "        1.1003e-04, 3.1748e-05, 1.1282e-04, 8.5358e-05, 1.9831e-04, 1.2385e-03,\n",
      "        1.8910e-04, 1.0442e-03, 1.3086e-05, 7.0794e-04, 7.9573e-05, 6.8655e-05,\n",
      "        3.1675e-05, 2.3522e-04, 1.5557e-04, 4.9362e-05, 1.5749e-05, 4.7135e-05,\n",
      "        8.0662e-06, 7.1670e-04, 9.4128e-06, 8.8645e-05, 3.3485e-04, 9.4143e-04,\n",
      "        1.1637e-05, 7.9334e-04, 6.0275e-05, 1.3140e-04, 1.5636e-04, 7.1497e-04,\n",
      "        8.8482e-05, 5.5664e-04, 6.1084e-05, 7.4272e-05, 5.2713e-04, 1.0872e-03,\n",
      "        1.8584e-04, 8.2091e-06, 3.9458e-04, 8.5188e-04, 2.6943e-04, 5.6437e-06,\n",
      "        7.7692e-05, 1.1348e-05, 3.0929e-04, 3.1031e-04, 1.5223e-03, 7.9694e-05,\n",
      "        1.1173e-05, 7.3066e-05, 1.7918e-05, 4.3802e-04, 1.3059e-04, 9.1980e-05,\n",
      "        1.2037e-03, 9.6213e-05, 1.5834e-04, 1.4410e-03, 4.1158e-05, 9.8695e-05,\n",
      "        8.0618e-04, 1.3268e-04, 1.5222e-05, 5.4840e-05, 4.5020e-06, 3.5136e-06,\n",
      "        4.3119e-04, 6.6766e-04, 1.3152e-03, 3.0215e-04, 1.1659e-03, 5.1760e-05,\n",
      "        4.2360e-04, 1.2852e-04, 5.4765e-05, 5.3446e-04, 1.6088e-05, 5.4929e-04,\n",
      "        9.0863e-06, 1.8639e-06, 6.2785e-04, 1.5647e-05, 9.0842e-04, 5.8446e-04,\n",
      "        6.8624e-04, 2.7205e-05, 5.5646e-05, 3.2741e-04, 1.5849e-04, 2.7655e-04,\n",
      "        1.6863e-05, 7.8610e-05, 2.3567e-05, 6.7423e-04, 1.1956e-05, 1.3928e-05,\n",
      "        3.9139e-04, 9.0665e-06, 3.2174e-03, 1.4655e-04, 2.0543e-05, 1.1991e-04,\n",
      "        2.4626e-05, 1.9660e-04, 2.0324e-05, 3.4074e-05, 3.8066e-05, 7.1634e-05,\n",
      "        7.3244e-04, 1.8949e-03, 9.6042e-04, 2.0932e-03, 1.8203e-04, 8.7447e-04,\n",
      "        8.1851e-05, 7.0393e-04, 4.0586e-04, 1.2025e-05, 3.4128e-04, 1.9528e-03,\n",
      "        1.0909e-03, 1.3874e-04, 3.9225e-05, 5.3037e-05, 2.6769e-04, 2.1728e-04,\n",
      "        1.4244e-04, 3.4850e-04, 6.5478e-04, 1.4859e-03, 2.8261e-05, 1.6445e-03,\n",
      "        7.3157e-04, 2.6311e-04, 1.3992e-04, 1.0839e-03, 1.1449e-03, 7.0498e-06,\n",
      "        7.2654e-06, 3.6625e-04, 3.8629e-04, 1.7159e-04, 7.7905e-04, 1.9329e-05,\n",
      "        2.3209e-04, 2.4025e-04, 4.1458e-04, 6.9861e-04, 8.4709e-05, 1.5632e-05,\n",
      "        1.7790e-03, 3.9337e-04, 1.3727e-04, 7.8193e-06], device='cuda:0')}, 2: {'step': 295000, 'square_avg': tensor([[4.2911e-06, 2.2538e-06, 3.6651e-06,  ..., 1.7238e-05, 1.3849e-05,\n",
      "         3.2014e-06],\n",
      "        [2.9905e-06, 6.0649e-06, 4.5594e-07,  ..., 3.0999e-06, 2.7937e-06,\n",
      "         3.9508e-07],\n",
      "        [8.1861e-06, 4.6251e-06, 1.8774e-06,  ..., 3.8681e-06, 7.7600e-06,\n",
      "         1.5324e-08],\n",
      "        ...,\n",
      "        [6.2069e-09, 6.1433e-07, 2.1986e-08,  ..., 3.4447e-08, 3.3981e-08,\n",
      "         2.4977e-07],\n",
      "        [8.5373e-07, 2.1039e-06, 2.6956e-06,  ..., 1.0856e-05, 1.2775e-05,\n",
      "         1.7584e-07],\n",
      "        [8.6048e-07, 2.0775e-07, 4.7818e-07,  ..., 1.1179e-06, 7.4598e-07,\n",
      "         2.9455e-08]], device='cuda:0')}, 3: {'step': 295000, 'square_avg': tensor([2.1050e-04, 4.4140e-05, 2.9702e-05, 1.3804e-04, 7.8093e-06, 1.4336e-04,\n",
      "        4.2507e-05, 2.3322e-05, 7.8833e-06, 1.1311e-05, 1.1371e-05, 4.7772e-05,\n",
      "        8.3590e-05, 7.7291e-06, 1.4164e-05, 1.7983e-05, 3.5207e-04, 2.1336e-05,\n",
      "        2.4911e-05, 5.6384e-03, 2.1879e-04, 2.4246e-06, 5.3054e-05, 7.0065e-44,\n",
      "        3.0995e-04, 3.3343e-05, 8.4979e-06, 7.8993e-06, 9.5633e-06, 1.9962e-06,\n",
      "        1.5385e-04, 2.7260e-04, 3.6392e-04, 5.5069e-05, 4.0679e-06, 5.9398e-03,\n",
      "        1.7296e-05, 2.9112e-05, 6.7669e-05, 2.8620e-06, 6.9599e-05, 7.8767e-06,\n",
      "        1.6694e-05, 6.9726e-05, 4.0415e-02, 6.8459e-04, 7.5177e-06, 1.9444e-06,\n",
      "        1.3193e-06, 6.8488e-14, 5.0579e-05, 6.8262e-04, 2.4130e-06, 1.2339e-05,\n",
      "        1.1598e-05, 2.4048e-05, 8.9496e-06, 1.1867e-05, 3.1335e-05, 2.6877e-05,\n",
      "        7.0065e-44, 5.0692e-04, 4.9237e-04, 1.4074e-05, 1.0599e-04, 1.9185e-06,\n",
      "        2.7275e-05, 4.4490e-05, 7.3403e-06, 2.4666e-05, 1.8924e-05, 3.5257e-05,\n",
      "        2.2568e-05, 2.5803e-05, 1.4128e-05, 8.4172e-05, 3.2093e-06, 6.2860e-06,\n",
      "        6.3383e-05, 6.1707e-06, 1.9500e-06, 1.7466e-05, 2.2518e-06, 7.0065e-44,\n",
      "        7.9788e-06, 8.5299e-05, 1.5588e-05, 3.3643e-05, 1.6715e-05, 3.9396e-03,\n",
      "        1.9045e-06, 4.5298e-05, 3.4899e-05, 1.8372e-03, 1.8606e-05, 2.5517e-06,\n",
      "        7.0065e-44, 1.5433e-05, 1.4680e-05, 5.0489e-21, 2.9802e-05, 1.4034e-04,\n",
      "        3.7861e-05, 6.7677e-05, 2.0725e-06, 3.0231e-04, 4.4453e-06, 1.2430e-04,\n",
      "        2.3964e-05, 1.9882e-06, 1.4719e-04, 3.4762e-06, 7.0065e-44, 7.7974e-06,\n",
      "        2.0814e-04, 1.2906e-05, 5.3899e-04, 1.3708e-05, 1.4238e-04, 2.7612e-05,\n",
      "        1.3659e-03, 9.2879e-05, 1.2752e-05, 8.6821e-05, 1.6390e-03, 2.0107e-05,\n",
      "        7.5400e-05, 6.8893e-06, 5.2530e-05, 1.0066e-05, 8.3078e-06, 1.7413e-04,\n",
      "        4.0604e-06, 2.2565e-06, 2.5014e-05, 1.0381e-05, 1.3724e-05, 7.1509e-06,\n",
      "        5.4671e-06, 5.1613e-06, 8.0444e-05, 3.1813e-05, 2.8136e-04, 9.4577e-06,\n",
      "        1.1015e-05, 5.9216e-04, 1.3525e-06, 1.6636e-05, 1.0322e-06, 8.1112e-06,\n",
      "        9.5727e-05, 2.1960e-04, 5.9422e-05, 1.5703e-05, 2.7502e-06, 7.4609e-06,\n",
      "        9.6002e-08, 5.7911e-05, 3.6859e-05, 2.3409e-04, 4.8148e-05, 2.0828e-04,\n",
      "        4.0199e-05, 3.1377e-05, 7.0065e-44, 3.7933e-06, 7.2860e-06, 7.0065e-44,\n",
      "        5.5934e-07, 7.9428e-04, 7.0065e-44, 1.9071e-04, 2.6322e-05, 4.6078e-05,\n",
      "        3.5326e-05, 1.2941e-04, 1.3517e-04, 2.6643e-05, 7.2913e-05, 1.2805e-02,\n",
      "        2.0220e-05, 5.6862e-05, 2.1878e-05, 1.0370e-05, 2.0768e-06, 5.3132e-05,\n",
      "        4.3760e-05, 1.9172e-04, 6.9827e-06, 1.3859e-05, 7.7525e-05, 7.0065e-44,\n",
      "        5.5698e-05, 1.4482e-04, 3.4872e-05, 7.0065e-44, 2.5199e-04, 4.0766e-05,\n",
      "        6.9252e-06, 1.4475e-05, 1.1238e-05, 4.0783e-05, 1.8324e-05, 8.9072e-06,\n",
      "        7.9642e-06, 4.3297e-06, 4.3783e-06, 5.1776e-06, 5.8525e-05, 2.9122e-03,\n",
      "        1.1237e-05, 9.0858e-05, 6.0170e-06, 4.0460e-05, 1.3509e-05, 5.2171e-06,\n",
      "        1.0339e-05, 7.7761e-06, 8.7067e-06, 6.0398e-06, 2.8039e-04, 1.4206e-05,\n",
      "        1.2952e-05, 2.8747e-03, 7.8536e-06, 8.4643e-06, 7.0065e-44, 4.0749e-04,\n",
      "        1.1134e-06, 2.1715e-05, 7.3437e-06, 7.7655e-06, 5.1490e-05, 2.9075e-06,\n",
      "        7.2841e-05, 1.2185e-05, 2.8295e-06, 2.4385e-05, 9.4356e-05, 5.8227e-06,\n",
      "        3.1033e-04, 3.4100e-04, 2.3684e-03, 1.9029e-04, 4.8082e-06, 1.3853e-04,\n",
      "        1.4233e-05, 9.2471e-06, 8.2887e-04, 5.4834e-06, 7.0065e-44, 1.5350e-05,\n",
      "        1.6397e-05, 5.8132e-06, 1.3331e-04, 3.4080e-06], device='cuda:0')}, 4: {'step': 295000, 'square_avg': tensor([[3.5696e-08, 7.1484e-07, 1.3053e-06,  ..., 3.2013e-12, 4.6882e-07,\n",
      "         2.5677e-07],\n",
      "        [8.5588e-09, 6.1730e-08, 4.6834e-07,  ..., 1.6460e-11, 2.1767e-07,\n",
      "         8.3449e-07],\n",
      "        [2.8638e-09, 3.0289e-07, 4.6224e-07,  ..., 1.1766e-08, 2.2211e-07,\n",
      "         4.2029e-06],\n",
      "        ...,\n",
      "        [4.7223e-09, 3.1774e-08, 4.6597e-07,  ..., 1.0383e-10, 6.3139e-08,\n",
      "         8.3737e-07],\n",
      "        [1.6400e-08, 1.5203e-07, 1.2358e-06,  ..., 1.5718e-10, 1.4246e-07,\n",
      "         1.4657e-06],\n",
      "        [2.4833e-08, 5.1939e-07, 2.2974e-06,  ..., 1.3195e-09, 5.1189e-07,\n",
      "         2.1911e-06]], device='cuda:0')}, 5: {'step': 295000, 'square_avg': tensor([2.2069e-05, 2.4962e-05, 9.1224e-05, 9.0689e-06, 5.0521e-07, 2.5022e-06,\n",
      "        3.1789e-05, 1.9503e-05, 2.8996e-05, 1.9334e-04, 1.8955e-06, 1.1179e-05,\n",
      "        6.7576e-05, 4.7561e-05, 4.8750e-05, 2.8893e-05, 4.4214e-05, 3.2075e-05,\n",
      "        3.0891e-05, 3.0441e-06, 7.0065e-44, 1.0251e-05, 1.2461e-04, 1.3754e-04,\n",
      "        1.5680e-04, 9.3635e-07, 3.9204e-05, 1.8534e-05, 5.2271e-05, 4.0602e-05,\n",
      "        7.0065e-44, 4.1735e-05, 7.0065e-44, 4.5641e-05, 1.3835e-09, 5.0747e-07,\n",
      "        2.0517e-06, 1.9302e-06, 2.5388e-05, 1.3312e-04, 7.0065e-44, 3.3112e-05,\n",
      "        4.4596e-05, 1.1890e-04, 1.2448e-04, 2.9606e-04, 9.5033e-05, 6.1622e-05,\n",
      "        2.2032e-04, 3.1356e-05, 2.5708e-04, 2.1222e-05, 1.2598e-05, 1.9516e-05,\n",
      "        1.6576e-06, 5.8569e-05, 1.6458e-06, 1.8600e-05, 1.3311e-04, 1.0797e-07,\n",
      "        4.9058e-08, 8.8288e-25, 7.6096e-05, 6.1734e-05, 6.2216e-05, 3.5787e-04,\n",
      "        1.1773e-04, 4.9290e-05, 1.0332e-04, 1.8670e-05, 6.2633e-05, 1.2250e-05,\n",
      "        1.3122e-04, 6.0126e-05, 7.0065e-44, 1.3599e-04, 3.4468e-05, 1.1138e-04,\n",
      "        1.1484e-04, 5.9129e-05, 7.0065e-44, 2.2831e-05, 1.2766e-04, 1.3543e-04,\n",
      "        5.0757e-05, 3.2938e-05, 4.5833e-05, 7.6395e-05, 1.6005e-05, 1.6639e-04,\n",
      "        2.5280e-04, 4.5664e-05, 1.0005e-04, 2.7951e-05, 4.3632e-05, 3.8237e-06,\n",
      "        9.7638e-05, 8.5297e-05, 1.4808e-04, 6.1966e-05, 3.1191e-05, 7.8007e-05,\n",
      "        8.9718e-05, 1.3472e-04, 7.1345e-05, 1.8375e-05, 8.7227e-05, 1.3630e-06,\n",
      "        3.7947e-05, 1.0897e-04, 1.6251e-04, 6.3320e-05, 5.7951e-06, 4.6927e-05,\n",
      "        1.9161e-05, 2.6139e-05, 1.6494e-05, 7.2812e-05, 1.1774e-05, 3.0978e-05,\n",
      "        5.3004e-05, 6.5576e-07, 2.8766e-04, 7.0065e-44, 1.1008e-04, 2.0200e-05,\n",
      "        3.3459e-05, 1.7136e-04, 7.0065e-44, 6.6992e-05, 6.9359e-07, 7.0065e-44,\n",
      "        1.1168e-04, 3.3455e-05, 2.6088e-05, 4.2951e-05, 8.3882e-05, 1.0761e-05,\n",
      "        9.2526e-05, 4.6615e-05, 1.1905e-07, 7.0065e-44, 4.0672e-05, 4.8540e-05,\n",
      "        1.9549e-05, 9.4810e-05, 4.9615e-05, 3.7928e-05, 1.8083e-04, 4.3060e-06,\n",
      "        1.4069e-05, 5.4413e-05, 2.9865e-05, 8.0720e-05, 9.8365e-05, 1.3733e-04,\n",
      "        4.2220e-05, 2.3794e-05, 1.3761e-05, 6.2096e-22, 5.9376e-05, 2.5214e-05,\n",
      "        2.1652e-05, 1.0217e-04, 2.5381e-05, 3.0545e-05, 1.2046e-04, 9.1593e-05,\n",
      "        2.3666e-05, 2.4096e-05, 5.6172e-06, 3.4883e-05, 1.3848e-04, 4.2017e-05,\n",
      "        1.0685e-04, 8.6760e-06, 1.6286e-06, 5.8707e-05, 7.1062e-05, 8.0055e-05,\n",
      "        3.7067e-05, 1.4544e-05, 1.4183e-04, 1.3931e-07, 1.3112e-05, 1.1796e-05,\n",
      "        7.0065e-44, 1.4852e-04, 1.2021e-05, 1.9298e-06, 2.7710e-06, 1.3337e-04,\n",
      "        1.6564e-04, 7.0065e-44, 1.0064e-04, 4.7048e-05, 4.2430e-05, 6.3083e-05,\n",
      "        1.0909e-05, 9.7704e-05, 1.5245e-04, 8.3572e-05, 7.0536e-05, 4.2276e-06,\n",
      "        9.1367e-06, 7.0065e-44, 7.0065e-44, 9.5439e-06, 6.1408e-05, 1.6441e-04,\n",
      "        2.9764e-05, 2.1164e-05, 1.7692e-06, 4.5740e-05, 1.1129e-04, 2.0714e-05,\n",
      "        1.3145e-05, 5.7860e-06, 5.8400e-06, 1.5521e-05, 1.4707e-04, 1.0870e-05,\n",
      "        1.1019e-04, 8.7529e-05, 1.1545e-05, 2.4934e-05, 1.5160e-05, 1.2108e-04,\n",
      "        3.8679e-05, 2.1009e-04, 1.5191e-05, 2.6395e-05, 1.0201e-05, 7.0065e-44,\n",
      "        1.2909e-05, 1.4926e-05, 3.7693e-05, 8.8540e-07, 9.2054e-06, 8.8228e-05,\n",
      "        5.0694e-05, 7.2939e-06, 3.2562e-06, 5.5580e-05, 6.5899e-08, 8.0548e-05,\n",
      "        8.1230e-05, 1.7769e-04, 6.6392e-05, 1.8917e-05, 1.4363e-04, 7.9471e-05,\n",
      "        3.3204e-04, 2.3110e-05, 4.6965e-05, 7.1254e-05], device='cuda:0')}, 6: {'step': 295000, 'square_avg': tensor([[3.9940e-04, 3.0003e-04, 5.1601e-05, 5.0418e-07, 7.1377e-05, 4.9727e-05,\n",
      "         6.9208e-04, 1.6984e-06, 8.5683e-05, 9.9927e-02, 2.3124e-07, 3.3807e-06,\n",
      "         6.0389e-02, 9.9238e-06, 4.6590e-02, 1.1713e-03, 2.4637e-02, 8.8982e-03,\n",
      "         4.6853e-05, 3.1176e-07, 7.0065e-44, 9.6787e-04, 2.1084e-05, 6.6303e-02,\n",
      "         1.0708e-01, 2.3247e-07, 2.3679e-05, 1.9134e-06, 2.7203e-04, 5.7405e-02,\n",
      "         7.0065e-44, 3.5407e-04, 7.0065e-44, 5.0626e-04, 9.8972e-10, 4.1469e-06,\n",
      "         1.0155e-07, 1.1988e-04, 1.4034e-05, 2.1205e-03, 7.0065e-44, 4.8379e-02,\n",
      "         2.4560e-04, 1.1666e-02, 8.1394e-02, 1.7219e-02, 7.9107e-02, 7.3978e-05,\n",
      "         8.1367e-02, 2.8263e-05, 1.2310e-04, 1.5568e-03, 1.1003e-06, 5.0591e-06,\n",
      "         4.7197e-07, 1.0857e-02, 1.2291e-04, 7.2607e-06, 7.5486e-04, 1.6427e-08,\n",
      "         1.5169e-08, 4.4446e-27, 7.8628e-04, 5.0333e-04, 8.8368e-04, 2.0037e-04,\n",
      "         1.0439e-01, 7.0942e-06, 7.2771e-02, 3.1256e-04, 1.7278e-04, 8.0725e-06,\n",
      "         5.1481e-05, 2.6127e-02, 7.0065e-44, 8.8201e-02, 5.6978e-02, 1.2958e-02,\n",
      "         1.4610e-04, 1.8737e-05, 7.0065e-44, 3.5328e-06, 9.3453e-02, 1.0134e-03,\n",
      "         5.0992e-04, 5.9388e-02, 1.0746e-05, 4.0584e-05, 7.1249e-06, 8.6110e-02,\n",
      "         1.5749e-02, 2.5914e-04, 2.7457e-03, 5.3474e-04, 2.7068e-04, 1.2934e-06,\n",
      "         1.4998e-03, 2.5630e-02, 1.1966e-01, 5.1044e-04, 3.9779e-06, 1.3816e-02,\n",
      "         9.1931e-04, 9.7963e-05, 1.7625e-03, 8.0542e-03, 1.7102e-05, 1.4442e-07,\n",
      "         1.0194e-05, 4.7550e-04, 7.4566e-02, 4.0373e-03, 1.3496e-04, 5.7124e-02,\n",
      "         1.6302e-06, 2.2144e-06, 3.1013e-06, 2.7866e-04, 2.4394e-06, 1.1884e-05,\n",
      "         1.1054e-03, 3.1599e-08, 8.9278e-05, 7.0065e-44, 6.3237e-02, 9.3552e-06,\n",
      "         1.1592e-02, 1.6745e-02, 7.0065e-44, 3.3558e-05, 4.2776e-08, 7.0065e-44,\n",
      "         8.7390e-04, 1.9819e-05, 2.4705e-04, 1.6947e-02, 8.3153e-03, 1.4114e-06,\n",
      "         7.9981e-02, 6.8656e-02, 8.9633e-08, 7.0065e-44, 2.6260e-04, 1.3577e-05,\n",
      "         3.0730e-06, 8.9332e-02, 5.0383e-02, 7.1243e-03, 1.0712e-01, 6.3627e-07,\n",
      "         1.9955e-05, 6.2649e-03, 7.4438e-06, 1.5451e-02, 1.1854e-02, 1.9980e-02,\n",
      "         6.0905e-06, 9.5832e-06, 8.8520e-07, 8.5501e-26, 4.2721e-04, 6.9903e-06,\n",
      "         3.4387e-06, 4.6429e-02, 5.4566e-06, 1.0166e-05, 5.7251e-03, 1.1161e-02,\n",
      "         8.5327e-03, 1.2328e-03, 5.7367e-07, 3.9891e-04, 4.6188e-05, 5.0658e-02,\n",
      "         1.5980e-02, 5.5254e-06, 2.0466e-07, 1.1321e-02, 7.0848e-04, 8.1003e-04,\n",
      "         3.2640e-04, 1.0351e-05, 1.2429e-02, 3.9440e-08, 4.5683e-06, 1.3261e-06,\n",
      "         7.0065e-44, 9.1314e-02, 1.3085e-06, 2.3812e-06, 2.2424e-07, 5.6710e-04,\n",
      "         1.1087e-01, 7.0065e-44, 9.7417e-02, 3.0816e-05, 5.3656e-03, 5.6266e-06,\n",
      "         6.2112e-06, 9.0786e-02, 1.8719e-02, 8.8474e-02, 1.1178e-02, 3.9773e-07,\n",
      "         1.7527e-06, 7.0065e-44, 7.0065e-44, 8.1970e-07, 1.2756e-02, 4.9963e-05,\n",
      "         1.1741e-03, 3.5804e-04, 2.4908e-07, 2.4739e-05, 2.3587e-04, 7.8829e-04,\n",
      "         3.3659e-06, 2.9178e-06, 1.8230e-06, 1.4980e-05, 1.7556e-03, 1.1654e-04,\n",
      "         3.2213e-05, 9.9981e-04, 3.4051e-06, 1.9039e-04, 1.6919e-02, 1.2045e-01,\n",
      "         3.4580e-04, 1.4536e-02, 4.2670e-06, 3.3796e-06, 7.6231e-07, 7.0065e-44,\n",
      "         7.0881e-06, 2.0218e-04, 6.2349e-04, 1.3577e-07, 2.0583e-06, 5.8964e-02,\n",
      "         4.6225e-03, 2.7288e-06, 1.6588e-04, 8.0801e-03, 3.8683e-08, 1.3630e-02,\n",
      "         1.0342e-01, 1.3616e-01, 7.7127e-04, 2.8757e-06, 9.3089e-02, 9.5003e-03,\n",
      "         1.4992e-02, 8.0744e-03, 9.8173e-03, 2.7656e-02]], device='cuda:0')}, 7: {'step': 295000, 'square_avg': tensor([0.0162], device='cuda:0')}}\n",
      "param_groups \t [{'lr': 0.0001, 'momentum': 0, 'alpha': 0.99, 'eps': 1e-08, 'centered': False, 'weight_decay': 0, 'params': [0, 1, 2, 3, 4, 5, 6, 7]}]\n"
     ]
    }
   ],
   "source": [
    "print(\"pi_optimizer's state_dict:\")\n",
    "for var_name in pi_optimizer.state_dict():\n",
    "    print(var_name, \"\\t\", pi_optimizer.state_dict()[var_name])\n",
    "\n",
    "print(\"q_optimizer's state_dict:\")\n",
    "for var_name in q_optimizer.state_dict():\n",
    "    print(var_name, \"\\t\", q_optimizer.state_dict()[var_name])"
   ]
  },
  {
   "cell_type": "code",
   "execution_count": null,
   "metadata": {},
   "outputs": [],
   "source": [
    "now = datetime.now()\n",
    "\n",
    "current_time = str(now.isoformat())\n",
    "\n",
    "\n",
    "\n",
    "torch.save({\n",
    "            'model of ac.q': ac.q.state_dict(),\n",
    "            'model of ac.pi': ac.pi.state_dict(),\n",
    "            'q_optimizer_state_dict': q_optimizer.state_dict(),\n",
    "            'pi_optimizer_state_dict': pi_optimizer.state_dict(),\n",
    "            \n",
    "            }, \"model_nn/model_nn_%s.pt\" % current_time)\n",
    "\n"
   ]
  },
  {
   "cell_type": "code",
   "execution_count": null,
   "metadata": {},
   "outputs": [
    {
     "name": "stdout",
     "output_type": "stream",
     "text": [
      "Shutting down background jobs, please wait a moment...\n",
      "Done!\n"
     ]
    },
    {
     "name": "stderr",
     "output_type": "stream",
     "text": [
      "Waiting for the remaining 140 operations to synchronize with Neptune. Do not kill this process.\n"
     ]
    },
    {
     "name": "stdout",
     "output_type": "stream",
     "text": [
      "All 140 operations synced, thanks for waiting!\n"
     ]
    }
   ],
   "source": [
    "nep_log.stop()"
   ]
  }
 ],
 "metadata": {
  "interpreter": {
   "hash": "1a48a149bc7a8dee0435672efcae6f64e48d62311a35302b209b3ac517d7f9c6"
  },
  "kernelspec": {
   "display_name": "Python 3.8.12 64-bit ('cosmic_rays_x_py38_env': conda)",
   "language": "python",
   "name": "python3"
  },
  "language_info": {
   "codemirror_mode": {
    "name": "ipython",
    "version": 3
   },
   "file_extension": ".py",
   "mimetype": "text/x-python",
   "name": "python",
   "nbconvert_exporter": "python",
   "pygments_lexer": "ipython3",
   "version": "3.8.12"
  },
  "orig_nbformat": 4
 },
 "nbformat": 4,
 "nbformat_minor": 2
}
