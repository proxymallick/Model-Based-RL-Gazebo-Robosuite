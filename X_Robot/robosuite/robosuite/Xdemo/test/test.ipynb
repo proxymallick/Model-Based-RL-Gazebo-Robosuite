{
 "cells": [
  {
   "cell_type": "code",
   "execution_count": 1,
   "metadata": {},
   "outputs": [],
   "source": [
    "\n",
    "from robosuite.models import MujocoWorldBase\n",
    "from robosuite.models.robots import Panda\n",
    "from robosuite.models.grippers import gripper_factory\n",
    "from robosuite.models.arenas import EETable\n",
    "from robosuite.models.objects import BallObject\n",
    "from robosuite.utils.mjcf_utils import new_joint\n",
    "\n",
    "world = MujocoWorldBase()\n",
    "mujoco_robot = Panda()\n",
    "gripper = gripper_factory('PandaGripper')\n",
    "mujoco_robot.add_gripper(gripper)\n",
    "mujoco_robot.set_base_xpos([0, 0, 0])\n",
    "world.merge(mujoco_robot)\n",
    "mujoco_arena = EETable()\n",
    "mujoco_arena.set_origin([0.8, 0, 0])\n",
    "world.merge(mujoco_arena)\n",
    "\n",
    "\n",
    "sphere = BallObject(\n",
    "    name=\"sphere\",\n",
    "    size=[0.04],\n",
    "    rgba=[0, 0.5, 0.5, 1],\n",
    "    obj_type=\"all\",\n",
    "    duplicate_collision_geoms=False,\n",
    "    joints=None\n",
    "    ).get_obj()\n",
    "\n",
    "sphere.set('pos', '1.0 1 1.0')\n",
    "world.worldbody.append(sphere)\n"
   ]
  },
  {
   "cell_type": "code",
   "execution_count": 2,
   "metadata": {},
   "outputs": [],
   "source": [
    "model = world.get_model(mode=\"mujoco_py\")"
   ]
  },
  {
   "cell_type": "code",
   "execution_count": 3,
   "metadata": {},
   "outputs": [
    {
     "name": "stdout",
     "output_type": "stream",
     "text": [
      "Creating window glfw\n"
     ]
    },
    {
     "ename": "SystemExit",
     "evalue": "0",
     "output_type": "error",
     "traceback": [
      "An exception has occurred, use %tb to see the full traceback.\n",
      "\u001b[0;31mSystemExit\u001b[0m\u001b[0;31m:\u001b[0m 0\n"
     ]
    }
   ],
   "source": [
    "from mujoco_py import MjSim, MjViewer\n",
    "\n",
    "sim = MjSim(model)\n",
    "viewer = MjViewer(sim)\n",
    "viewer.vopt.geomgroup[0] = 0 # disable visualization of collision mesh\n",
    "\n",
    "for i in range(10000):\n",
    "  sim.data.ctrl[:] = 0\n",
    "  sim.step()\n",
    "  viewer.render()\n",
    "\n"
   ]
  },
  {
   "cell_type": "code",
   "execution_count": null,
   "metadata": {},
   "outputs": [],
   "source": []
  }
 ],
 "metadata": {
  "interpreter": {
   "hash": "1a48a149bc7a8dee0435672efcae6f64e48d62311a35302b209b3ac517d7f9c6"
  },
  "kernelspec": {
   "display_name": "Python 3.8.12 64-bit ('cosmic_rays_x_py38_env': conda)",
   "language": "python",
   "name": "python3"
  },
  "language_info": {
   "codemirror_mode": {
    "name": "ipython",
    "version": 3
   },
   "file_extension": ".py",
   "mimetype": "text/x-python",
   "name": "python",
   "nbconvert_exporter": "python",
   "pygments_lexer": "ipython3",
   "version": "3.8.12"
  },
  "orig_nbformat": 4
 },
 "nbformat": 4,
 "nbformat_minor": 2
}
