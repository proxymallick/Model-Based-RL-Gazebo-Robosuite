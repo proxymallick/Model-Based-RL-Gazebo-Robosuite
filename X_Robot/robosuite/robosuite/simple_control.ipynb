{
 "cells": [
  {
   "cell_type": "code",
   "execution_count": 7,
   "metadata": {},
   "outputs": [
    {
     "name": "stdout",
     "output_type": "stream",
     "text": [
      "device =  cuda\n"
     ]
    },
    {
     "ename": "AttributeError",
     "evalue": "'EElab_test2' object has no attribute 'robot'",
     "output_type": "error",
     "traceback": [
      "\u001b[0;31m---------------------------------------------------------------------------\u001b[0m",
      "\u001b[0;31mAttributeError\u001b[0m                            Traceback (most recent call last)",
      "Cell \u001b[0;32mIn[7], line 81\u001b[0m\n\u001b[1;32m     78\u001b[0m obs \u001b[39m=\u001b[39m env\u001b[39m.\u001b[39m_get_observations()\n\u001b[1;32m     80\u001b[0m \u001b[39m# Call the simple controller function to get the action command\u001b[39;00m\n\u001b[0;32m---> 81\u001b[0m action \u001b[39m=\u001b[39m simple_controller(obs)\n\u001b[1;32m     83\u001b[0m \u001b[39m# Step the environment with the action command\u001b[39;00m\n\u001b[1;32m     84\u001b[0m obs, reward, done, info \u001b[39m=\u001b[39m env\u001b[39m.\u001b[39mstep(action)\n",
      "Cell \u001b[0;32mIn[7], line 65\u001b[0m, in \u001b[0;36msimple_controller\u001b[0;34m(obs)\u001b[0m\n\u001b[1;32m     63\u001b[0m target_pos \u001b[39m=\u001b[39m [\u001b[39m0.5\u001b[39m, \u001b[39m0.0\u001b[39m, \u001b[39m0.5\u001b[39m]\n\u001b[1;32m     64\u001b[0m \u001b[39m# Set the desired joint angles\u001b[39;00m\n\u001b[0;32m---> 65\u001b[0m target_joint_angles \u001b[39m=\u001b[39m env\u001b[39m.\u001b[39;49mrobot\u001b[39m.\u001b[39marm\u001b[39m.\u001b[39minverse_kinematics(target_pos)\n\u001b[1;32m     67\u001b[0m \u001b[39m# Set the action command to move the robot arm\u001b[39;00m\n\u001b[1;32m     68\u001b[0m action \u001b[39m=\u001b[39m {\n\u001b[1;32m     69\u001b[0m     \u001b[39m\"\u001b[39m\u001b[39marm\u001b[39m\u001b[39m\"\u001b[39m: target_joint_angles,\n\u001b[1;32m     70\u001b[0m     \u001b[39m\"\u001b[39m\u001b[39mgripper\u001b[39m\u001b[39m\"\u001b[39m: env\u001b[39m.\u001b[39mrobot\u001b[39m.\u001b[39mgripper\u001b[39m.\u001b[39mformat_action(\u001b[39m0.0\u001b[39m),  \u001b[39m# Keep gripper closed\u001b[39;00m\n\u001b[1;32m     71\u001b[0m }\n",
      "\u001b[0;31mAttributeError\u001b[0m: 'EElab_test2' object has no attribute 'robot'"
     ]
    }
   ],
   "source": [
    "import robosuite as suite\n",
    "from robosuite.controllers import load_controller_config\n",
    "from robosuite.controllers.controller_factory import reset_controllers\n",
    "from robosuite.utils import observables\n",
    "from robosuite.utils.input_utils import *\n",
    "from robosuite.robots import Bimanual\n",
    "import torch\n",
    "# Load the desired controller configuration\n",
    "controller_config = load_controller_config(default_controller=\"OSC_POSE\")\n",
    "\n",
    "'''options = {\n",
    "    'env_name': 'EElab_test2',\n",
    "    \"robots\": \"UR5e\"\n",
    "}\n",
    "controller_name = \"JOINT_VELOCITY\"\n",
    "options[\"controller_configs\"] = suite.load_controller_config(default_controller=controller_name)\n",
    "'''\n",
    "options = {\n",
    "    'env_name': 'Door',\n",
    "    \"robots\": \"UR5e\"\n",
    "}\n",
    "controller_name = \"JOINT_VELOCITY\"\n",
    "options[\"controller_configs\"] = suite.load_controller_config(default_controller=controller_name)\n",
    "\n",
    "env = suite.make(\n",
    "    **options,\n",
    "    has_renderer=False,\n",
    "    has_offscreen_renderer=True,\n",
    "    ignore_done=True,\n",
    "    use_camera_obs=False,\n",
    "\n",
    ")\n",
    "\n",
    "test_env = suite.make(\n",
    "    **options,\n",
    "    has_renderer=False,\n",
    "    has_offscreen_renderer=True,\n",
    "    ignore_done=True,\n",
    "    use_camera_obs=False,\n",
    "\n",
    ")\n",
    "\n",
    "\n",
    "video_env = suite.make(\n",
    "    **options,\n",
    "    has_renderer=False,\n",
    "    has_offscreen_renderer=True,\n",
    "    ignore_done=True,\n",
    "    use_camera_obs=True,\n",
    "    use_object_obs=True\n",
    ")\n",
    "\n",
    "frame = []\n",
    "device= torch.device(\"cuda\" if torch.cuda.is_available() else \"cpu\")\n",
    "print('device = ', device)\n",
    "\n",
    "# Reset the environment\n",
    "obs = env.reset()\n",
    "\n",
    "# Define a simple controller function to move the robot arm\n",
    "def simple_controller(obs):\n",
    "    # Set the desired end effector position\n",
    "    target_pos = [0.5, 0.0, 0.5]\n",
    "    # Set the desired joint angles\n",
    "    target_joint_angles = env.robot.arm.inverse_kinematics(target_pos)\n",
    "\n",
    "    # Set the action command to move the robot arm\n",
    "    action = {\n",
    "        \"arm\": target_joint_angles,\n",
    "        \"gripper\": env.robot.gripper.format_action(0.0),  # Keep gripper closed\n",
    "    }\n",
    "\n",
    "    return action\n",
    "\n",
    "# Run the simulation for 1000 steps\n",
    "for i in range(1000):\n",
    "    # Get the current observation from the environment\n",
    "    obs = env._get_observations()\n",
    "\n",
    "    # Call the simple controller function to get the action command\n",
    "    action = simple_controller(obs)\n",
    "\n",
    "    # Step the environment with the action command\n",
    "    obs, reward, done, info = env.step(action)\n",
    "\n",
    "    # Render the visualization\n",
    "    env.render()\n"
   ]
  },
  {
   "cell_type": "code",
   "execution_count": 4,
   "metadata": {},
   "outputs": [
    {
     "name": "stdout",
     "output_type": "stream",
     "text": [
      "['__add__', '__class__', '__contains__', '__delattr__', '__delitem__', '__dir__', '__doc__', '__eq__', '__format__', '__ge__', '__getattribute__', '__getitem__', '__gt__', '__hash__', '__iadd__', '__imul__', '__init__', '__init_subclass__', '__iter__', '__le__', '__len__', '__lt__', '__mul__', '__ne__', '__new__', '__reduce__', '__reduce_ex__', '__repr__', '__reversed__', '__rmul__', '__setattr__', '__setitem__', '__sizeof__', '__str__', '__subclasshook__', 'append', 'clear', 'copy', 'count', 'extend', 'index', 'insert', 'pop', 'remove', 'reverse', 'sort']\n"
     ]
    }
   ],
   "source": [
    "print (dir(env.robots))"
   ]
  },
  {
   "cell_type": "code",
   "execution_count": null,
   "metadata": {},
   "outputs": [],
   "source": []
  }
 ],
 "metadata": {
  "kernelspec": {
   "display_name": "tf14-gpu",
   "language": "python",
   "name": "python3"
  },
  "language_info": {
   "codemirror_mode": {
    "name": "ipython",
    "version": 3
   },
   "file_extension": ".py",
   "mimetype": "text/x-python",
   "name": "python",
   "nbconvert_exporter": "python",
   "pygments_lexer": "ipython3",
   "version": "3.8.13"
  },
  "orig_nbformat": 4
 },
 "nbformat": 4,
 "nbformat_minor": 2
}
